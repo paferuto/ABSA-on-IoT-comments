{
  "cells": [
    {
      "cell_type": "markdown",
      "metadata": {
        "id": "DaeIXsUWphsd"
      },
      "source": [
        "IMPORT THƯ VIỆN"
      ]
    },
    {
      "cell_type": "code",
      "execution_count": 23,
      "metadata": {
        "colab": {
          "base_uri": "https://localhost:8080/"
        },
        "id": "ptB_NwXtphsh",
        "outputId": "b2bed12c-9ad8-409a-e2ef-d7b523762080"
      },
      "outputs": [],
      "source": [
        "import numpy as np\n",
        "import pandas as pd\n",
        "import re\n",
        "import nltk\n",
        "import spacy\n",
        "import string\n",
        "from bs4 import BeautifulSoup\n",
        "pd.options.mode.chained_assignment = None\n",
        "from re import sub\n",
        "import csv\n",
        "import html as ihtml"
      ]
    },
    {
      "cell_type": "code",
      "execution_count": 24,
      "metadata": {
        "id": "7CvFdwRJphsi"
      },
      "outputs": [
        {
          "name": "stdout",
          "output_type": "stream",
          "text": [
            "<class 'pandas.core.frame.DataFrame'>\n",
            "RangeIndex: 84736 entries, 0 to 84735\n",
            "Data columns (total 5 columns):\n",
            " #   Column      Non-Null Count  Dtype \n",
            "---  ------      --------------  ----- \n",
            " 0   Unnamed: 0  84736 non-null  int64 \n",
            " 1   Name        84736 non-null  object\n",
            " 2   Time        84736 non-null  object\n",
            " 3   Store       84736 non-null  object\n",
            " 4   Comment     84736 non-null  object\n",
            "dtypes: int64(1), object(4)\n",
            "memory usage: 3.2+ MB\n"
          ]
        }
      ],
      "source": [
        "df = pd.read_csv('crawtopreprocess.csv')\n",
        "df.info()\n"
      ]
    },
    {
      "cell_type": "code",
      "execution_count": 25,
      "metadata": {
        "id": "EOkjiJ4VMXJ3"
      },
      "outputs": [
        {
          "data": {
            "text/html": [
              "<div>\n",
              "<style scoped>\n",
              "    .dataframe tbody tr th:only-of-type {\n",
              "        vertical-align: middle;\n",
              "    }\n",
              "\n",
              "    .dataframe tbody tr th {\n",
              "        vertical-align: top;\n",
              "    }\n",
              "\n",
              "    .dataframe thead th {\n",
              "        text-align: right;\n",
              "    }\n",
              "</style>\n",
              "<table border=\"1\" class=\"dataframe\">\n",
              "  <thead>\n",
              "    <tr style=\"text-align: right;\">\n",
              "      <th></th>\n",
              "      <th>Unnamed: 0</th>\n",
              "      <th>Name</th>\n",
              "      <th>Time</th>\n",
              "      <th>Store</th>\n",
              "      <th>Comment</th>\n",
              "    </tr>\n",
              "  </thead>\n",
              "  <tbody>\n",
              "    <tr>\n",
              "      <th>0</th>\n",
              "      <td>34400</td>\n",
              "      <td>macantonioc</td>\n",
              "      <td>2007-06-25</td>\n",
              "      <td>DigInfo</td>\n",
              "      <td>Interesting</td>\n",
              "    </tr>\n",
              "    <tr>\n",
              "      <th>1</th>\n",
              "      <td>34399</td>\n",
              "      <td>donkeyfly69</td>\n",
              "      <td>2008-02-27</td>\n",
              "      <td>DigInfo</td>\n",
              "      <td>it doesn&amp;#39;t even seem more convenient...\\r\\...</td>\n",
              "    </tr>\n",
              "    <tr>\n",
              "      <th>2</th>\n",
              "      <td>34398</td>\n",
              "      <td>upanddownlevel9</td>\n",
              "      <td>2009-02-13</td>\n",
              "      <td>DigInfo</td>\n",
              "      <td>hmm why dont we just use our brains while we s...</td>\n",
              "    </tr>\n",
              "    <tr>\n",
              "      <th>3</th>\n",
              "      <td>34397</td>\n",
              "      <td>Serenity'sEdge</td>\n",
              "      <td>2009-10-19</td>\n",
              "      <td>DigInfo</td>\n",
              "      <td>The more electronic we become, the more power ...</td>\n",
              "    </tr>\n",
              "    <tr>\n",
              "      <th>4</th>\n",
              "      <td>34396</td>\n",
              "      <td>jordandaperson</td>\n",
              "      <td>2009-06-11</td>\n",
              "      <td>DigInfo</td>\n",
              "      <td>its a product aimed at customer loyalty and co...</td>\n",
              "    </tr>\n",
              "    <tr>\n",
              "      <th>...</th>\n",
              "      <td>...</td>\n",
              "      <td>...</td>\n",
              "      <td>...</td>\n",
              "      <td>...</td>\n",
              "      <td>...</td>\n",
              "    </tr>\n",
              "    <tr>\n",
              "      <th>84731</th>\n",
              "      <td>39876</td>\n",
              "      <td>Karen g.</td>\n",
              "      <td>2016-09-09</td>\n",
              "      <td>Walmart</td>\n",
              "      <td>Good service, I love Walmart site to store</td>\n",
              "    </tr>\n",
              "    <tr>\n",
              "      <th>84732</th>\n",
              "      <td>39347</td>\n",
              "      <td>Eric M.</td>\n",
              "      <td>2017-09-09</td>\n",
              "      <td>Walmart</td>\n",
              "      <td>Good, A lot of selection but a little slow on ...</td>\n",
              "    </tr>\n",
              "    <tr>\n",
              "      <th>84733</th>\n",
              "      <td>36995</td>\n",
              "      <td>Mark H.</td>\n",
              "      <td>2020-09-09</td>\n",
              "      <td>Walmart</td>\n",
              "      <td>Lost my shipment AGAIN, Twice in a row they de...</td>\n",
              "    </tr>\n",
              "    <tr>\n",
              "      <th>84734</th>\n",
              "      <td>37048</td>\n",
              "      <td>Lorna B.</td>\n",
              "      <td>2021-09-09</td>\n",
              "      <td>Walmart</td>\n",
              "      <td>Improved, Site is much improved, but there are...</td>\n",
              "    </tr>\n",
              "    <tr>\n",
              "      <th>84735</th>\n",
              "      <td>37059</td>\n",
              "      <td>NATISHA J.</td>\n",
              "      <td>2021-09-09</td>\n",
              "      <td>Walmart</td>\n",
              "      <td>A place for all your needs, Walmart is in the ...</td>\n",
              "    </tr>\n",
              "  </tbody>\n",
              "</table>\n",
              "<p>84736 rows × 5 columns</p>\n",
              "</div>"
            ],
            "text/plain": [
              "       Unnamed: 0             Name        Time    Store  \\\n",
              "0           34400      macantonioc  2007-06-25  DigInfo   \n",
              "1           34399      donkeyfly69  2008-02-27  DigInfo   \n",
              "2           34398  upanddownlevel9  2009-02-13  DigInfo   \n",
              "3           34397   Serenity'sEdge  2009-10-19  DigInfo   \n",
              "4           34396   jordandaperson  2009-06-11  DigInfo   \n",
              "...           ...              ...         ...      ...   \n",
              "84731       39876         Karen g.  2016-09-09  Walmart   \n",
              "84732       39347          Eric M.  2017-09-09  Walmart   \n",
              "84733       36995          Mark H.  2020-09-09  Walmart   \n",
              "84734       37048         Lorna B.  2021-09-09  Walmart   \n",
              "84735       37059       NATISHA J.  2021-09-09  Walmart   \n",
              "\n",
              "                                                 Comment  \n",
              "0                                            Interesting  \n",
              "1      it doesn&#39;t even seem more convenient...\\r\\...  \n",
              "2      hmm why dont we just use our brains while we s...  \n",
              "3      The more electronic we become, the more power ...  \n",
              "4      its a product aimed at customer loyalty and co...  \n",
              "...                                                  ...  \n",
              "84731         Good service, I love Walmart site to store  \n",
              "84732  Good, A lot of selection but a little slow on ...  \n",
              "84733  Lost my shipment AGAIN, Twice in a row they de...  \n",
              "84734  Improved, Site is much improved, but there are...  \n",
              "84735  A place for all your needs, Walmart is in the ...  \n",
              "\n",
              "[84736 rows x 5 columns]"
            ]
          },
          "execution_count": 25,
          "metadata": {},
          "output_type": "execute_result"
        }
      ],
      "source": [
        "df"
      ]
    },
    {
      "cell_type": "markdown",
      "metadata": {
        "id": "e-8x14vGphsl"
      },
      "source": [
        "1. XÓA URL"
      ]
    },
    {
      "cell_type": "code",
      "execution_count": 26,
      "metadata": {
        "id": "qQ1pFEhv0-Ao"
      },
      "outputs": [],
      "source": [
        "df[\"Comment\"] = df[\"Comment\"].astype(str)"
      ]
    },
    {
      "cell_type": "code",
      "execution_count": 27,
      "metadata": {
        "id": "l21nLUCBphsm"
      },
      "outputs": [],
      "source": [
        "def clean_text(text):\n",
        "    text = BeautifulSoup(ihtml.unescape(text)).text\n",
        "    text = re.sub(r\"http[s]?://\\S+\", \"\", text)\n",
        "    text = re.sub(r\"\\s+\", \" \", text)    \n",
        "    return text"
      ]
    },
    {
      "cell_type": "code",
      "execution_count": 28,
      "metadata": {
        "id": "8G-ZFCop0_7s"
      },
      "outputs": [
        {
          "name": "stderr",
          "output_type": "stream",
          "text": [
            "C:\\Users\\HienPhuong\\AppData\\Local\\Packages\\PythonSoftwareFoundation.Python.3.10_qbz5n2kfra8p0\\LocalCache\\local-packages\\Python310\\site-packages\\bs4\\__init__.py:435: MarkupResemblesLocatorWarning: The input looks more like a filename than markup. You may want to open this file and pass the filehandle into Beautiful Soup.\n",
            "  warnings.warn(\n",
            "C:\\Users\\HienPhuong\\AppData\\Local\\Packages\\PythonSoftwareFoundation.Python.3.10_qbz5n2kfra8p0\\LocalCache\\local-packages\\Python310\\site-packages\\bs4\\__init__.py:404: MarkupResemblesLocatorWarning: The input looks more like a URL than markup. You may want to use an HTTP client like requests to get the document behind the URL, and feed that document to Beautiful Soup.\n",
            "  warnings.warn(\n"
          ]
        }
      ],
      "source": [
        "for i in range(len(df)):\n",
        "  df.Comment[i]=clean_text(df.Comment[i])"
      ]
    },
    {
      "cell_type": "code",
      "execution_count": 29,
      "metadata": {
        "id": "uTPjUeQHphsm"
      },
      "outputs": [],
      "source": [
        "def remove_urls(text):\n",
        "    url_pattern = re.compile(r'https?://\\S+|www\\.\\S+')\n",
        "    return url_pattern.sub(r'', text)\n",
        "for i in range(len(df)):\n",
        "  df.Comment[i]=remove_urls(df.Comment[i])"
      ]
    },
    {
      "cell_type": "code",
      "execution_count": 30,
      "metadata": {
        "id": "CErLX2n8phsm"
      },
      "outputs": [
        {
          "data": {
            "text/plain": [
              "0                                              Interesting\n",
              "1        it doesn't even seem more convenient... i don'...\n",
              "2        hmm why dont we just use our brains while we s...\n",
              "3        The more electronic we become, the more power ...\n",
              "4        its a product aimed at customer loyalty and co...\n",
              "                               ...                        \n",
              "84731           Good service, I love Walmart site to store\n",
              "84732    Good, A lot of selection but a little slow on ...\n",
              "84733    Lost my shipment AGAIN, Twice in a row they de...\n",
              "84734    Improved, Site is much improved, but there are...\n",
              "84735    A place for all your needs, Walmart is in the ...\n",
              "Name: Comment, Length: 84736, dtype: object"
            ]
          },
          "execution_count": 30,
          "metadata": {},
          "output_type": "execute_result"
        }
      ],
      "source": [
        "df.Comment"
      ]
    },
    {
      "attachments": {},
      "cell_type": "markdown",
      "metadata": {},
      "source": [
        "remove html tag"
      ]
    },
    {
      "cell_type": "code",
      "execution_count": 31,
      "metadata": {},
      "outputs": [
        {
          "data": {
            "text/html": [
              "<div>\n",
              "<style scoped>\n",
              "    .dataframe tbody tr th:only-of-type {\n",
              "        vertical-align: middle;\n",
              "    }\n",
              "\n",
              "    .dataframe tbody tr th {\n",
              "        vertical-align: top;\n",
              "    }\n",
              "\n",
              "    .dataframe thead th {\n",
              "        text-align: right;\n",
              "    }\n",
              "</style>\n",
              "<table border=\"1\" class=\"dataframe\">\n",
              "  <thead>\n",
              "    <tr style=\"text-align: right;\">\n",
              "      <th></th>\n",
              "      <th>Unnamed: 0</th>\n",
              "      <th>Name</th>\n",
              "      <th>Time</th>\n",
              "      <th>Store</th>\n",
              "      <th>Comment</th>\n",
              "    </tr>\n",
              "  </thead>\n",
              "  <tbody>\n",
              "    <tr>\n",
              "      <th>0</th>\n",
              "      <td>34400</td>\n",
              "      <td>macantonioc</td>\n",
              "      <td>2007-06-25</td>\n",
              "      <td>DigInfo</td>\n",
              "      <td>Interesting</td>\n",
              "    </tr>\n",
              "    <tr>\n",
              "      <th>1</th>\n",
              "      <td>34399</td>\n",
              "      <td>donkeyfly69</td>\n",
              "      <td>2008-02-27</td>\n",
              "      <td>DigInfo</td>\n",
              "      <td>it doesn't even seem more convenient... i don'...</td>\n",
              "    </tr>\n",
              "    <tr>\n",
              "      <th>2</th>\n",
              "      <td>34398</td>\n",
              "      <td>upanddownlevel9</td>\n",
              "      <td>2009-02-13</td>\n",
              "      <td>DigInfo</td>\n",
              "      <td>hmm why dont we just use our brains while we s...</td>\n",
              "    </tr>\n",
              "    <tr>\n",
              "      <th>3</th>\n",
              "      <td>34397</td>\n",
              "      <td>Serenity'sEdge</td>\n",
              "      <td>2009-10-19</td>\n",
              "      <td>DigInfo</td>\n",
              "      <td>The more electronic we become, the more power ...</td>\n",
              "    </tr>\n",
              "    <tr>\n",
              "      <th>4</th>\n",
              "      <td>34396</td>\n",
              "      <td>jordandaperson</td>\n",
              "      <td>2009-06-11</td>\n",
              "      <td>DigInfo</td>\n",
              "      <td>its a product aimed at customer loyalty and co...</td>\n",
              "    </tr>\n",
              "  </tbody>\n",
              "</table>\n",
              "</div>"
            ],
            "text/plain": [
              "   Unnamed: 0             Name        Time    Store  \\\n",
              "0       34400      macantonioc  2007-06-25  DigInfo   \n",
              "1       34399      donkeyfly69  2008-02-27  DigInfo   \n",
              "2       34398  upanddownlevel9  2009-02-13  DigInfo   \n",
              "3       34397   Serenity'sEdge  2009-10-19  DigInfo   \n",
              "4       34396   jordandaperson  2009-06-11  DigInfo   \n",
              "\n",
              "                                             Comment  \n",
              "0                                        Interesting  \n",
              "1  it doesn't even seem more convenient... i don'...  \n",
              "2  hmm why dont we just use our brains while we s...  \n",
              "3  The more electronic we become, the more power ...  \n",
              "4  its a product aimed at customer loyalty and co...  "
            ]
          },
          "execution_count": 31,
          "metadata": {},
          "output_type": "execute_result"
        }
      ],
      "source": [
        "def remove_html(text):\n",
        "    html_pattern = re.compile('<.*?>')\n",
        "    return html_pattern.sub(r'', text)\n",
        "\n",
        "df[\"Comment\"] = df[\"Comment\"].apply(lambda text: remove_html(text))\n",
        "df.head()"
      ]
    },
    {
      "cell_type": "markdown",
      "metadata": {
        "id": "nzN28EY3phso"
      },
      "source": [
        "Expand Constraction "
      ]
    },
    {
      "cell_type": "code",
      "execution_count": 32,
      "metadata": {
        "id": "4cMgSKlJphso"
      },
      "outputs": [],
      "source": [
        "# Dictionary of English Contractions\n",
        "contractions_dict = { \"ain't\": \"are not\",\"'s\":\" is\",\"aren't\": \"are not\",\n",
        "                     \"can't\": \"cannot\",\"can't've\": \"cannot have\",\n",
        "                     \"'cause\": \"because\",\"could've\": \"could have\",\"couldn't\": \"could not\",\n",
        "                     \"couldn't've\": \"could not have\", \"didn't\": \"did not\",\"doesn't\": \"does not\",\n",
        "                     \"don't\": \"do not\",\"hadn't\": \"had not\",\"hadn't've\": \"had not have\",\n",
        "                     \"hasn't\": \"has not\",\"haven't\": \"have not\",\"he'd\": \"he would\",\n",
        "                     \"he'd've\": \"he would have\",\"he'll\": \"he will\", \"he'll've\": \"he will have\",\n",
        "                     \"how'd\": \"how did\",\"how'd'y\": \"how do you\",\"how'll\": \"how will\",\n",
        "                     \"i'd\": \"i would\", \"i'd've\": \"i would have\",\"i'll\": \"i will\", \n",
        "                     \"i'll've\": \"i will have\",\"i'm\": \"i am\",\"i've\": \"i have\", \"isn't\": \"is not\",\n",
        "                     \"it'd\": \"it would\",\"it'd've\": \"it would have\",\"it'll\": \"it will\",\n",
        "                     \"it'll've\": \"it will have\", \"let's\": \"let us\",\"ma'am\": \"madam\",\n",
        "                     \"mayn't\": \"may not\",\"might've\": \"might have\",\"mightn't\": \"might not\", \n",
        "                     \"mightn't've\": \"might not have\",\"must've\": \"must have\",\"mustn't\": \"must not\",\n",
        "                     \"mustn't've\": \"must not have\", \"needn't\": \"need not\",\n",
        "                     \"needn't've\": \"need not have\",\"o'clock\": \"of the clock\",\"oughtn't\": \"ought not\",\n",
        "                     \"oughtn't've\": \"ought not have\",\"shan't\": \"shall not\",\"sha'n't\": \"shall not\",\n",
        "                     \"shan't've\": \"shall not have\",\"she'd\": \"she would\",\"she'd've\": \"she would have\",\n",
        "                     \"she'll\": \"she will\", \"she'll've\": \"she will have\",\"should've\": \"should have\",\n",
        "                     \"shouldn't\": \"should not\", \"shouldn't've\": \"should not have\",\"so've\": \"so have\",\n",
        "                     \"that'd\": \"that would\",\"that'd've\": \"that would have\", \"there'd\": \"there would\",\n",
        "                     \"there'd've\": \"there would have\", \"they'd\": \"they would\",\n",
        "                     \"they'd've\": \"they would have\",\"they'll\": \"they will\",\n",
        "                     \"they'll've\": \"they will have\", \"they're\": \"they are\",\"they've\": \"they have\",\n",
        "                     \"to've\": \"to have\",\"wasn't\": \"was not\",\"we'd\": \"we would\",\n",
        "                     \"we'd've\": \"we would have\",\"we'll\": \"we will\",\"we'll've\": \"we will have\",\n",
        "                     \"we're\": \"we are\",\"we've\": \"we have\", \"weren't\": \"were not\",\"what'll\": \"what will\",\n",
        "                     \"what'll've\": \"what will have\",\"what're\": \"what are\", \"what've\": \"what have\",\n",
        "                     \"when've\": \"when have\",\"where'd\": \"where did\", \"where've\": \"where have\",\n",
        "                     \"who'll\": \"who will\",\"who'll've\": \"who will have\",\"who've\": \"who have\",\n",
        "                     \"why've\": \"why have\",\"will've\": \"will have\",\"won't\": \"will not\",\n",
        "                     \"won't've\": \"will not have\", \"would've\": \"would have\",\"wouldn't\": \"would not\",\n",
        "                     \"wouldn't've\": \"would not have\",\"y'all\": \"you all\", \"y'all'd\": \"you all would\",\n",
        "                     \"y'all'd've\": \"you all would have\",\"y'all're\": \"you all are\",\n",
        "                     \"y'all've\": \"you all have\", \"you'd\": \"you would\",\"you'd've\": \"you would have\",\n",
        "                     \"you'll\": \"you will\",\"you'll've\": \"you will have\", \"you're\": \"you are\",\n",
        "                     \"you've\": \"you have\"}\n",
        "\n",
        "# Regular expression for finding contractions\n",
        "contractions_re=re.compile('(%s)' % '|'.join(contractions_dict.keys()))\n",
        "\n",
        "# Function for expanding contractions\n",
        "def expand_contractions(text,contractions_dict=contractions_dict):\n",
        "  def replace(match):\n",
        "    return contractions_dict[match.group(0)]\n",
        "  return contractions_re.sub(replace, text)\n",
        "\n",
        "# Expanding Contractions in the reviews\n",
        "df['Comment']=df['Comment'].apply(lambda x:expand_contractions(x))"
      ]
    },
    {
      "cell_type": "code",
      "execution_count": 33,
      "metadata": {
        "colab": {
          "base_uri": "https://localhost:8080/",
          "height": 424
        },
        "id": "_czsOTG4v77-",
        "outputId": "7a6b4d16-9450-4af4-ca80-8ae4439fca47"
      },
      "outputs": [
        {
          "data": {
            "text/html": [
              "<div>\n",
              "<style scoped>\n",
              "    .dataframe tbody tr th:only-of-type {\n",
              "        vertical-align: middle;\n",
              "    }\n",
              "\n",
              "    .dataframe tbody tr th {\n",
              "        vertical-align: top;\n",
              "    }\n",
              "\n",
              "    .dataframe thead th {\n",
              "        text-align: right;\n",
              "    }\n",
              "</style>\n",
              "<table border=\"1\" class=\"dataframe\">\n",
              "  <thead>\n",
              "    <tr style=\"text-align: right;\">\n",
              "      <th></th>\n",
              "      <th>Unnamed: 0</th>\n",
              "      <th>Name</th>\n",
              "      <th>Time</th>\n",
              "      <th>Store</th>\n",
              "      <th>Comment</th>\n",
              "    </tr>\n",
              "  </thead>\n",
              "  <tbody>\n",
              "    <tr>\n",
              "      <th>0</th>\n",
              "      <td>34400</td>\n",
              "      <td>macantonioc</td>\n",
              "      <td>2007-06-25</td>\n",
              "      <td>DigInfo</td>\n",
              "      <td>Interesting</td>\n",
              "    </tr>\n",
              "    <tr>\n",
              "      <th>1</th>\n",
              "      <td>34399</td>\n",
              "      <td>donkeyfly69</td>\n",
              "      <td>2008-02-27</td>\n",
              "      <td>DigInfo</td>\n",
              "      <td>it does not even seem more convenient... i do ...</td>\n",
              "    </tr>\n",
              "    <tr>\n",
              "      <th>2</th>\n",
              "      <td>34398</td>\n",
              "      <td>upanddownlevel9</td>\n",
              "      <td>2009-02-13</td>\n",
              "      <td>DigInfo</td>\n",
              "      <td>hmm why dont we just use our brains while we s...</td>\n",
              "    </tr>\n",
              "    <tr>\n",
              "      <th>3</th>\n",
              "      <td>34397</td>\n",
              "      <td>Serenity'sEdge</td>\n",
              "      <td>2009-10-19</td>\n",
              "      <td>DigInfo</td>\n",
              "      <td>The more electronic we become, the more power ...</td>\n",
              "    </tr>\n",
              "    <tr>\n",
              "      <th>4</th>\n",
              "      <td>34396</td>\n",
              "      <td>jordandaperson</td>\n",
              "      <td>2009-06-11</td>\n",
              "      <td>DigInfo</td>\n",
              "      <td>its a product aimed at customer loyalty and co...</td>\n",
              "    </tr>\n",
              "    <tr>\n",
              "      <th>...</th>\n",
              "      <td>...</td>\n",
              "      <td>...</td>\n",
              "      <td>...</td>\n",
              "      <td>...</td>\n",
              "      <td>...</td>\n",
              "    </tr>\n",
              "    <tr>\n",
              "      <th>84731</th>\n",
              "      <td>39876</td>\n",
              "      <td>Karen g.</td>\n",
              "      <td>2016-09-09</td>\n",
              "      <td>Walmart</td>\n",
              "      <td>Good service, I love Walmart site to store</td>\n",
              "    </tr>\n",
              "    <tr>\n",
              "      <th>84732</th>\n",
              "      <td>39347</td>\n",
              "      <td>Eric M.</td>\n",
              "      <td>2017-09-09</td>\n",
              "      <td>Walmart</td>\n",
              "      <td>Good, A lot of selection but a little slow on ...</td>\n",
              "    </tr>\n",
              "    <tr>\n",
              "      <th>84733</th>\n",
              "      <td>36995</td>\n",
              "      <td>Mark H.</td>\n",
              "      <td>2020-09-09</td>\n",
              "      <td>Walmart</td>\n",
              "      <td>Lost my shipment AGAIN, Twice in a row they de...</td>\n",
              "    </tr>\n",
              "    <tr>\n",
              "      <th>84734</th>\n",
              "      <td>37048</td>\n",
              "      <td>Lorna B.</td>\n",
              "      <td>2021-09-09</td>\n",
              "      <td>Walmart</td>\n",
              "      <td>Improved, Site is much improved, but there are...</td>\n",
              "    </tr>\n",
              "    <tr>\n",
              "      <th>84735</th>\n",
              "      <td>37059</td>\n",
              "      <td>NATISHA J.</td>\n",
              "      <td>2021-09-09</td>\n",
              "      <td>Walmart</td>\n",
              "      <td>A place for all your needs, Walmart is in the ...</td>\n",
              "    </tr>\n",
              "  </tbody>\n",
              "</table>\n",
              "<p>84736 rows × 5 columns</p>\n",
              "</div>"
            ],
            "text/plain": [
              "       Unnamed: 0             Name        Time    Store  \\\n",
              "0           34400      macantonioc  2007-06-25  DigInfo   \n",
              "1           34399      donkeyfly69  2008-02-27  DigInfo   \n",
              "2           34398  upanddownlevel9  2009-02-13  DigInfo   \n",
              "3           34397   Serenity'sEdge  2009-10-19  DigInfo   \n",
              "4           34396   jordandaperson  2009-06-11  DigInfo   \n",
              "...           ...              ...         ...      ...   \n",
              "84731       39876         Karen g.  2016-09-09  Walmart   \n",
              "84732       39347          Eric M.  2017-09-09  Walmart   \n",
              "84733       36995          Mark H.  2020-09-09  Walmart   \n",
              "84734       37048         Lorna B.  2021-09-09  Walmart   \n",
              "84735       37059       NATISHA J.  2021-09-09  Walmart   \n",
              "\n",
              "                                                 Comment  \n",
              "0                                            Interesting  \n",
              "1      it does not even seem more convenient... i do ...  \n",
              "2      hmm why dont we just use our brains while we s...  \n",
              "3      The more electronic we become, the more power ...  \n",
              "4      its a product aimed at customer loyalty and co...  \n",
              "...                                                  ...  \n",
              "84731         Good service, I love Walmart site to store  \n",
              "84732  Good, A lot of selection but a little slow on ...  \n",
              "84733  Lost my shipment AGAIN, Twice in a row they de...  \n",
              "84734  Improved, Site is much improved, but there are...  \n",
              "84735  A place for all your needs, Walmart is in the ...  \n",
              "\n",
              "[84736 rows x 5 columns]"
            ]
          },
          "execution_count": 33,
          "metadata": {},
          "output_type": "execute_result"
        }
      ],
      "source": [
        "df"
      ]
    },
    {
      "cell_type": "markdown",
      "metadata": {
        "id": "Ss_zqIgd1ZhA"
      },
      "source": [
        "in lớn để chat word "
      ]
    },
    {
      "cell_type": "code",
      "execution_count": 34,
      "metadata": {
        "id": "8WqEI54f1XBo"
      },
      "outputs": [
        {
          "data": {
            "text/plain": [
              "0                                              INTERESTING\n",
              "1        IT DOES NOT EVEN SEEM MORE CONVENIENT... I DO ...\n",
              "2        HMM WHY DONT WE JUST USE OUR BRAINS WHILE WE S...\n",
              "3        THE MORE ELECTRONIC WE BECOME, THE MORE POWER ...\n",
              "4        ITS A PRODUCT AIMED AT CUSTOMER LOYALTY AND CO...\n",
              "                               ...                        \n",
              "84731           GOOD SERVICE, I LOVE WALMART SITE TO STORE\n",
              "84732    GOOD, A LOT OF SELECTION BUT A LITTLE SLOW ON ...\n",
              "84733    LOST MY SHIPMENT AGAIN, TWICE IN A ROW THEY DE...\n",
              "84734    IMPROVED, SITE IS MUCH IMPROVED, BUT THERE ARE...\n",
              "84735    A PLACE FOR ALL YOUR NEEDS, WALMART IS IN THE ...\n",
              "Name: Comment, Length: 84736, dtype: object"
            ]
          },
          "execution_count": 34,
          "metadata": {},
          "output_type": "execute_result"
        }
      ],
      "source": [
        "df[\"Comment\"] = df[\"Comment\"].str.upper()\n",
        "df.Comment"
      ]
    },
    {
      "cell_type": "markdown",
      "metadata": {
        "id": "sRzUKtFFphsm"
      },
      "source": [
        "Chuẩn hóa 1 số từ viết tắt"
      ]
    },
    {
      "cell_type": "code",
      "execution_count": 35,
      "metadata": {
        "id": "qyhSH-1Bphsn"
      },
      "outputs": [],
      "source": [
        "chat_words_str = \"\"\"\n",
        "AFAIK=As Far As I Know\n",
        "AFK=Away From Keyboard\n",
        "ASAP=As Soon As Possible\n",
        "ATK=At The Keyboard\n",
        "ATM=At The Moment\n",
        "A3=Anytime, Anywhere, Anyplace\n",
        "BAK=Back At Keyboard\n",
        "BBL=Be Back Later\n",
        "BBS=Be Back Soon\n",
        "BFN=Bye For Now\n",
        "B4N=Bye For Now\n",
        "BRB=Be Right Back\n",
        "BRT=Be Right There\n",
        "BTW=By The Way\n",
        "B4=Before\n",
        "B4N=Bye For Now\n",
        "CU=See You\n",
        "CUL8R=See You Later\n",
        "CYA=See You\n",
        "FAQ=Frequently Asked Questions\n",
        "FC=Fingers Crossed\n",
        "FWIW=For What It's Worth\n",
        "FYI=For Your Information\n",
        "GAL=Get A Life\n",
        "GG=Good Game\n",
        "GN=Good Night\n",
        "GMTA=Great Minds Think Alike\n",
        "GR8=Great!\n",
        "G9=Genius\n",
        "IC=I See\n",
        "ICQ=I Seek you (also a chat program)\n",
        "ILU=ILU: I Love You\n",
        "IMHO=In My Honest/Humble Opinion\n",
        "IMO=In My Opinion\n",
        "IOW=In Other Words\n",
        "IRL=In Real Life\n",
        "KISS=Keep It Simple, Stupid\n",
        "LDR=Long Distance Relationship\n",
        "LMAO=Laugh My A.. Off\n",
        "LOL=Laughing Out Loud\n",
        "LTNS=Long Time No See\n",
        "L8R=Later\n",
        "MTE=My Thoughts Exactly\n",
        "M8=Mate\n",
        "NRN=No Reply Necessary\n",
        "OIC=Oh I See\n",
        "PITA=Pain In The A..\n",
        "PRT=Party\n",
        "PRW=Parents Are Watching\n",
        "ROFL=Rolling On The Floor Laughing\n",
        "ROFLOL=Rolling On The Floor Laughing Out Loud\n",
        "ROTFLMAO=Rolling On The Floor Laughing My A.. Off\n",
        "SK8=Skate\n",
        "STATS=Your sex and age\n",
        "ASL=Age, Sex, Location\n",
        "THX=Thank You\n",
        "TTFN=Ta-Ta For Now!\n",
        "TTYL=Talk To You Later\n",
        "U=You\n",
        "U2=You Too\n",
        "U4E=Yours For Ever\n",
        "WB=Welcome Back\n",
        "WTF=What The F...\n",
        "WTG=Way To Go!\n",
        "WUF=Where Are You From?\n",
        "W8=Wait...\n",
        "7K=Sick:-D Laugher\n",
        "&=and\n",
        "\"\"\""
      ]
    },
    {
      "cell_type": "code",
      "execution_count": 36,
      "metadata": {
        "id": "wqTjgERWphsn"
      },
      "outputs": [],
      "source": [
        "chat_words_map_dict = {}\n",
        "chat_words_list = []\n",
        "for line in chat_words_str.split(\"\\n\"):\n",
        "    if line != \"\":\n",
        "        cw = line.split(\"=\")[0]\n",
        "        cw_expanded = line.split(\"=\")[1]\n",
        "        chat_words_list.append(cw)\n",
        "        chat_words_map_dict[cw] = cw_expanded\n",
        "chat_words_list = set(chat_words_list)\n",
        "\n",
        "def chat_words_conversion(text):\n",
        "    new_text = []\n",
        "    for w in text.split():\n",
        "        if w.upper() in chat_words_list:\n",
        "            new_text.append(chat_words_map_dict[w.upper()])\n",
        "        else:\n",
        "            new_text.append(w)\n",
        "    return \" \".join(new_text)"
      ]
    },
    {
      "cell_type": "code",
      "execution_count": 37,
      "metadata": {
        "id": "UpxDirYA1Rmc"
      },
      "outputs": [],
      "source": [
        "for i in range(len(df)):\n",
        "  df.Comment[i]=chat_words_conversion(df.Comment[i])"
      ]
    },
    {
      "cell_type": "markdown",
      "metadata": {
        "id": "IlXJ47Xnphsn"
      },
      "source": [
        "2. Đưa dữ liệu về chữ thường"
      ]
    },
    {
      "cell_type": "code",
      "execution_count": 38,
      "metadata": {
        "colab": {
          "base_uri": "https://localhost:8080/"
        },
        "id": "mlsQNd_cphso",
        "outputId": "2409a97b-c272-4aea-bc57-f9443901214e"
      },
      "outputs": [
        {
          "data": {
            "text/plain": [
              "0                                              interesting\n",
              "1        it does not even seem more convenient... i do ...\n",
              "2        hmm why dont we just use our brains while we s...\n",
              "3        the more electronic we become, the more power ...\n",
              "4        its a product aimed at customer loyalty and co...\n",
              "                               ...                        \n",
              "84731           good service, i love walmart site to store\n",
              "84732    good, a lot of selection but a little slow on ...\n",
              "84733    lost my shipment again, twice in a row they de...\n",
              "84734    improved, site is much improved, but there are...\n",
              "84735    a place for all your needs, walmart is in the ...\n",
              "Name: Comment, Length: 84736, dtype: object"
            ]
          },
          "execution_count": 38,
          "metadata": {},
          "output_type": "execute_result"
        }
      ],
      "source": [
        "df[\"Comment\"] = df[\"Comment\"].str.lower()\n",
        "df.Comment"
      ]
    },
    {
      "cell_type": "code",
      "execution_count": 39,
      "metadata": {},
      "outputs": [],
      "source": [
        "from itertools import groupby"
      ]
    },
    {
      "cell_type": "code",
      "execution_count": 40,
      "metadata": {},
      "outputs": [],
      "source": [
        "def remove_repeatcharacter(text):\n",
        "    return ''.join(''.join(s)[:2] for _, s in groupby(text))\n",
        "df[\"Comment\"] = df[\"Comment\"].apply(lambda text: remove_repeatcharacter(text))"
      ]
    },
    {
      "cell_type": "code",
      "execution_count": 41,
      "metadata": {},
      "outputs": [
        {
          "name": "stderr",
          "output_type": "stream",
          "text": [
            "C:\\Users\\HienPhuong\\AppData\\Local\\Temp\\ipykernel_4264\\1403891560.py:2: FutureWarning: The default value of regex will change from True to False in a future version.\n",
            "  df[\"Comment\"] = df[\"Comment\"].str.replace(\"@[A-Za-z0-9]+\",\"\")\n"
          ]
        }
      ],
      "source": [
        "# remove tag @username\n",
        "df[\"Comment\"] = df[\"Comment\"].str.replace(\"@[A-Za-z0-9]+\",\"\")"
      ]
    },
    {
      "cell_type": "code",
      "execution_count": 42,
      "metadata": {},
      "outputs": [
        {
          "data": {
            "text/html": [
              "<div>\n",
              "<style scoped>\n",
              "    .dataframe tbody tr th:only-of-type {\n",
              "        vertical-align: middle;\n",
              "    }\n",
              "\n",
              "    .dataframe tbody tr th {\n",
              "        vertical-align: top;\n",
              "    }\n",
              "\n",
              "    .dataframe thead th {\n",
              "        text-align: right;\n",
              "    }\n",
              "</style>\n",
              "<table border=\"1\" class=\"dataframe\">\n",
              "  <thead>\n",
              "    <tr style=\"text-align: right;\">\n",
              "      <th></th>\n",
              "      <th>Unnamed: 0</th>\n",
              "      <th>Name</th>\n",
              "      <th>Time</th>\n",
              "      <th>Store</th>\n",
              "      <th>Comment</th>\n",
              "    </tr>\n",
              "  </thead>\n",
              "  <tbody>\n",
              "    <tr>\n",
              "      <th>0</th>\n",
              "      <td>34400</td>\n",
              "      <td>macantonioc</td>\n",
              "      <td>2007-06-25</td>\n",
              "      <td>DigInfo</td>\n",
              "      <td>interesting</td>\n",
              "    </tr>\n",
              "    <tr>\n",
              "      <th>1</th>\n",
              "      <td>34399</td>\n",
              "      <td>donkeyfly69</td>\n",
              "      <td>2008-02-27</td>\n",
              "      <td>DigInfo</td>\n",
              "      <td>it does not even seem more convenient.. i do n...</td>\n",
              "    </tr>\n",
              "    <tr>\n",
              "      <th>2</th>\n",
              "      <td>34398</td>\n",
              "      <td>upanddownlevel9</td>\n",
              "      <td>2009-02-13</td>\n",
              "      <td>DigInfo</td>\n",
              "      <td>hmm why dont we just use our brains while we s...</td>\n",
              "    </tr>\n",
              "    <tr>\n",
              "      <th>3</th>\n",
              "      <td>34397</td>\n",
              "      <td>Serenity'sEdge</td>\n",
              "      <td>2009-10-19</td>\n",
              "      <td>DigInfo</td>\n",
              "      <td>the more electronic we become, the more power ...</td>\n",
              "    </tr>\n",
              "    <tr>\n",
              "      <th>4</th>\n",
              "      <td>34396</td>\n",
              "      <td>jordandaperson</td>\n",
              "      <td>2009-06-11</td>\n",
              "      <td>DigInfo</td>\n",
              "      <td>its a product aimed at customer loyalty and co...</td>\n",
              "    </tr>\n",
              "    <tr>\n",
              "      <th>...</th>\n",
              "      <td>...</td>\n",
              "      <td>...</td>\n",
              "      <td>...</td>\n",
              "      <td>...</td>\n",
              "      <td>...</td>\n",
              "    </tr>\n",
              "    <tr>\n",
              "      <th>84731</th>\n",
              "      <td>39876</td>\n",
              "      <td>Karen g.</td>\n",
              "      <td>2016-09-09</td>\n",
              "      <td>Walmart</td>\n",
              "      <td>good service, i love walmart site to store</td>\n",
              "    </tr>\n",
              "    <tr>\n",
              "      <th>84732</th>\n",
              "      <td>39347</td>\n",
              "      <td>Eric M.</td>\n",
              "      <td>2017-09-09</td>\n",
              "      <td>Walmart</td>\n",
              "      <td>good, a lot of selection but a little slow on ...</td>\n",
              "    </tr>\n",
              "    <tr>\n",
              "      <th>84733</th>\n",
              "      <td>36995</td>\n",
              "      <td>Mark H.</td>\n",
              "      <td>2020-09-09</td>\n",
              "      <td>Walmart</td>\n",
              "      <td>lost my shipment again, twice in a row they de...</td>\n",
              "    </tr>\n",
              "    <tr>\n",
              "      <th>84734</th>\n",
              "      <td>37048</td>\n",
              "      <td>Lorna B.</td>\n",
              "      <td>2021-09-09</td>\n",
              "      <td>Walmart</td>\n",
              "      <td>improved, site is much improved, but there are...</td>\n",
              "    </tr>\n",
              "    <tr>\n",
              "      <th>84735</th>\n",
              "      <td>37059</td>\n",
              "      <td>NATISHA J.</td>\n",
              "      <td>2021-09-09</td>\n",
              "      <td>Walmart</td>\n",
              "      <td>a place for all your needs, walmart is in the ...</td>\n",
              "    </tr>\n",
              "  </tbody>\n",
              "</table>\n",
              "<p>84736 rows × 5 columns</p>\n",
              "</div>"
            ],
            "text/plain": [
              "       Unnamed: 0             Name        Time    Store  \\\n",
              "0           34400      macantonioc  2007-06-25  DigInfo   \n",
              "1           34399      donkeyfly69  2008-02-27  DigInfo   \n",
              "2           34398  upanddownlevel9  2009-02-13  DigInfo   \n",
              "3           34397   Serenity'sEdge  2009-10-19  DigInfo   \n",
              "4           34396   jordandaperson  2009-06-11  DigInfo   \n",
              "...           ...              ...         ...      ...   \n",
              "84731       39876         Karen g.  2016-09-09  Walmart   \n",
              "84732       39347          Eric M.  2017-09-09  Walmart   \n",
              "84733       36995          Mark H.  2020-09-09  Walmart   \n",
              "84734       37048         Lorna B.  2021-09-09  Walmart   \n",
              "84735       37059       NATISHA J.  2021-09-09  Walmart   \n",
              "\n",
              "                                                 Comment  \n",
              "0                                            interesting  \n",
              "1      it does not even seem more convenient.. i do n...  \n",
              "2      hmm why dont we just use our brains while we s...  \n",
              "3      the more electronic we become, the more power ...  \n",
              "4      its a product aimed at customer loyalty and co...  \n",
              "...                                                  ...  \n",
              "84731         good service, i love walmart site to store  \n",
              "84732  good, a lot of selection but a little slow on ...  \n",
              "84733  lost my shipment again, twice in a row they de...  \n",
              "84734  improved, site is much improved, but there are...  \n",
              "84735  a place for all your needs, walmart is in the ...  \n",
              "\n",
              "[84736 rows x 5 columns]"
            ]
          },
          "execution_count": 42,
          "metadata": {},
          "output_type": "execute_result"
        }
      ],
      "source": [
        "df"
      ]
    },
    {
      "cell_type": "markdown",
      "metadata": {
        "id": "oHa7MJezphsp"
      },
      "source": [
        "Chuyển emoji, emoticon -> text"
      ]
    },
    {
      "cell_type": "code",
      "execution_count": 43,
      "metadata": {
        "colab": {
          "base_uri": "https://localhost:8080/"
        },
        "id": "pqK8bTUIphsp",
        "outputId": "d0083a7b-4fb0-4e44-e098-f689c7faf48c"
      },
      "outputs": [
        {
          "name": "stdout",
          "output_type": "stream",
          "text": [
            "Requirement already satisfied: emot in c:\\users\\hienphuong\\appdata\\local\\packages\\pythonsoftwarefoundation.python.3.10_qbz5n2kfra8p0\\localcache\\local-packages\\python310\\site-packages (3.1)\n"
          ]
        }
      ],
      "source": [
        "!pip install emot"
      ]
    },
    {
      "cell_type": "code",
      "execution_count": 44,
      "metadata": {
        "colab": {
          "base_uri": "https://localhost:8080/"
        },
        "id": "JA67APkNphsp",
        "outputId": "8530676b-0000-40a4-cc21-b39112862f68"
      },
      "outputs": [
        {
          "data": {
            "text/plain": [
              "'Happy face or smiley 😊'"
            ]
          },
          "execution_count": 44,
          "metadata": {},
          "output_type": "execute_result"
        }
      ],
      "source": [
        "import re\n",
        "from emot.emo_unicode import EMOTICONS_EMO\n",
        "def convert_emoticons(text):\n",
        "    for emot in EMOTICONS_EMO:\n",
        "        text = text.replace(emot, \" \".join(EMOTICONS_EMO[emot].replace(\",\",\"\").replace(\":\",\"\").split()))\n",
        "    return text\n",
        "\n",
        "convert_emoticons(\":) 😊\")"
      ]
    },
    {
      "cell_type": "code",
      "execution_count": 45,
      "metadata": {
        "colab": {
          "base_uri": "https://localhost:8080/"
        },
        "id": "knWoNpnCphsp",
        "outputId": "7b9892ca-21f0-471c-89a6-28b406aaa06c"
      },
      "outputs": [
        {
          "name": "stdout",
          "output_type": "stream",
          "text": [
            "Requirement already satisfied: emoji in c:\\users\\hienphuong\\appdata\\local\\packages\\pythonsoftwarefoundation.python.3.10_qbz5n2kfra8p0\\localcache\\local-packages\\python310\\site-packages (2.2.0)\n",
            "Note: you may need to restart the kernel to use updated packages.\n"
          ]
        }
      ],
      "source": [
        "pip install emoji"
      ]
    },
    {
      "cell_type": "code",
      "execution_count": 46,
      "metadata": {
        "colab": {
          "base_uri": "https://localhost:8080/"
        },
        "id": "YHiGSEYQphsq",
        "outputId": "33894273-3732-46f3-889d-4d0529b82f04"
      },
      "outputs": [
        {
          "name": "stdout",
          "output_type": "stream",
          "text": [
            "Requirement already satisfied: demoji in c:\\users\\hienphuong\\appdata\\local\\packages\\pythonsoftwarefoundation.python.3.10_qbz5n2kfra8p0\\localcache\\local-packages\\python310\\site-packages (1.1.0)Note: you may need to restart the kernel to use updated packages.\n",
            "\n"
          ]
        }
      ],
      "source": [
        "pip install demoji"
      ]
    },
    {
      "cell_type": "code",
      "execution_count": 47,
      "metadata": {
        "id": "QYQFQLF-phsq"
      },
      "outputs": [],
      "source": [
        "import emoji\n",
        "def extract_emojis(text):\n",
        "     new_text = []\n",
        "     new_text.append(emoji.demojize(text, delimiters=(\"\", \"\")))\n",
        "     return \" \".join(new_text)"
      ]
    },
    {
      "cell_type": "code",
      "execution_count": 48,
      "metadata": {
        "colab": {
          "base_uri": "https://localhost:8080/"
        },
        "id": "T5Nn2yLawxPR",
        "outputId": "ceeba5b7-fb2d-4706-b0eb-d8ddc0cd0ea0"
      },
      "outputs": [
        {
          "data": {
            "text/plain": [
              "'smiling_face_with_smiling_eyes'"
            ]
          },
          "execution_count": 48,
          "metadata": {},
          "output_type": "execute_result"
        }
      ],
      "source": [
        "extract_emojis(\"😊\")"
      ]
    },
    {
      "cell_type": "code",
      "execution_count": 49,
      "metadata": {
        "id": "1Q4UpOuuwxoA"
      },
      "outputs": [],
      "source": [
        "for i in range(len(df)):\n",
        "  df.Comment[i]=extract_emojis(df.Comment[i])"
      ]
    },
    {
      "cell_type": "code",
      "execution_count": 50,
      "metadata": {
        "id": "YavGg7jzzZW_"
      },
      "outputs": [],
      "source": [
        "df['Comment'] = df['Comment'].str.replace(\"_\", \" \")"
      ]
    },
    {
      "cell_type": "code",
      "execution_count": 51,
      "metadata": {
        "id": "n1HudLyCzuXp"
      },
      "outputs": [],
      "source": [
        "df['Comment'] = df['Comment'].str.replace(\"-\", \" \")"
      ]
    },
    {
      "cell_type": "code",
      "execution_count": 52,
      "metadata": {
        "id": "rdt2K66jz1En"
      },
      "outputs": [],
      "source": [
        "df['Comment'] = df['Comment'].str.replace(\"  \", \" \")"
      ]
    },
    {
      "cell_type": "code",
      "execution_count": 53,
      "metadata": {
        "colab": {
          "base_uri": "https://localhost:8080/"
        },
        "id": "IoO-1Fx5z_16",
        "outputId": "68cf0ad0-d6b1-45ac-e430-f095aaaf1d92"
      },
      "outputs": [
        {
          "name": "stderr",
          "output_type": "stream",
          "text": [
            "C:\\Users\\HienPhuong\\AppData\\Local\\Temp\\ipykernel_4264\\1485136920.py:1: FutureWarning: The default value of regex will change from True to False in a future version.\n",
            "  df.Comment= df.Comment.str.replace(r'\\b\\w\\b', '').str.replace(r'\\s+', ' ')\n"
          ]
        },
        {
          "data": {
            "text/plain": [
              "0                                              interesting\n",
              "1        it does not even seem more convenient.. do not...\n",
              "2        hmm why dont we just use our brains while we s...\n",
              "3        the more electronic we become, the more power ...\n",
              "4        its product aimed at customer loyalty and conv...\n",
              "                               ...                        \n",
              "84731             good service, love walmart site to store\n",
              "84732    good, lot of selection but little slow on the ...\n",
              "84733    lost my shipment again, twice in row they dela...\n",
              "84734    improved, site is much improved, but there are...\n",
              "84735     place for all your needs, walmart is in the l...\n",
              "Name: Comment, Length: 84736, dtype: object"
            ]
          },
          "execution_count": 53,
          "metadata": {},
          "output_type": "execute_result"
        }
      ],
      "source": [
        "df.Comment= df.Comment.str.replace(r'\\b\\w\\b', '').str.replace(r'\\s+', ' ')\n",
        "df.Comment"
      ]
    },
    {
      "cell_type": "code",
      "execution_count": 54,
      "metadata": {
        "colab": {
          "base_uri": "https://localhost:8080/"
        },
        "id": "1cbp7m5W0ITj",
        "outputId": "b71d2436-f41e-4b61-ae1d-f443eba333b7"
      },
      "outputs": [],
      "source": [
        "# lemmatize words with spacy\n",
        "import spacy\n",
        "nlp = spacy.load('en_core_web_sm')\n",
        "def lemmatize_words(text):\n",
        "    return \" \".join([token.lemma_ for token in nlp(text)])\n",
        "text = \"last day i did homework, walked . now i am going to work. today he goes to school, police walks to school\"\n",
        "lemmatize_words(text)\n",
        "# apply lemmatize_words function to comment column\n",
        "df[\"Comment\"] = df[\"Comment\"].apply(lambda text: lemmatize_words(text))"
      ]
    },
    {
      "attachments": {},
      "cell_type": "markdown",
      "metadata": {},
      "source": [
        "tách câu"
      ]
    },
    {
      "cell_type": "code",
      "execution_count": 55,
      "metadata": {},
      "outputs": [
        {
          "data": {
            "text/html": [
              "<div>\n",
              "<style scoped>\n",
              "    .dataframe tbody tr th:only-of-type {\n",
              "        vertical-align: middle;\n",
              "    }\n",
              "\n",
              "    .dataframe tbody tr th {\n",
              "        vertical-align: top;\n",
              "    }\n",
              "\n",
              "    .dataframe thead th {\n",
              "        text-align: right;\n",
              "    }\n",
              "</style>\n",
              "<table border=\"1\" class=\"dataframe\">\n",
              "  <thead>\n",
              "    <tr style=\"text-align: right;\">\n",
              "      <th></th>\n",
              "      <th>Unnamed: 0</th>\n",
              "      <th>Name</th>\n",
              "      <th>Time</th>\n",
              "      <th>Store</th>\n",
              "      <th>Comment</th>\n",
              "    </tr>\n",
              "  </thead>\n",
              "  <tbody>\n",
              "    <tr>\n",
              "      <th>0</th>\n",
              "      <td>34400</td>\n",
              "      <td>macantonioc</td>\n",
              "      <td>2007-06-25</td>\n",
              "      <td>DigInfo</td>\n",
              "      <td>interesting</td>\n",
              "    </tr>\n",
              "    <tr>\n",
              "      <th>1</th>\n",
              "      <td>34399</td>\n",
              "      <td>donkeyfly69</td>\n",
              "      <td>2008-02-27</td>\n",
              "      <td>DigInfo</td>\n",
              "      <td>it do not even seem more convenient</td>\n",
              "    </tr>\n",
              "    <tr>\n",
              "      <th>2</th>\n",
              "      <td>34399</td>\n",
              "      <td>donkeyfly69</td>\n",
              "      <td>2008-02-27</td>\n",
              "      <td>DigInfo</td>\n",
              "      <td></td>\n",
              "    </tr>\n",
              "    <tr>\n",
              "      <th>3</th>\n",
              "      <td>34399</td>\n",
              "      <td>donkeyfly69</td>\n",
              "      <td>2008-02-27</td>\n",
              "      <td>DigInfo</td>\n",
              "      <td>do not want to pay to use shopping cart or re...</td>\n",
              "    </tr>\n",
              "    <tr>\n",
              "      <th>4</th>\n",
              "      <td>34399</td>\n",
              "      <td>donkeyfly69</td>\n",
              "      <td>2008-02-27</td>\n",
              "      <td>DigInfo</td>\n",
              "      <td>invade my privacy way to much just to get gro...</td>\n",
              "    </tr>\n",
              "    <tr>\n",
              "      <th>...</th>\n",
              "      <td>...</td>\n",
              "      <td>...</td>\n",
              "      <td>...</td>\n",
              "      <td>...</td>\n",
              "      <td>...</td>\n",
              "    </tr>\n",
              "    <tr>\n",
              "      <th>252659</th>\n",
              "      <td>36995</td>\n",
              "      <td>Mark H.</td>\n",
              "      <td>2020-09-09</td>\n",
              "      <td>Walmart</td>\n",
              "      <td></td>\n",
              "    </tr>\n",
              "    <tr>\n",
              "      <th>252660</th>\n",
              "      <td>37048</td>\n",
              "      <td>Lorna B.</td>\n",
              "      <td>2021-09-09</td>\n",
              "      <td>Walmart</td>\n",
              "      <td>improve , site be much improve , but there be ...</td>\n",
              "    </tr>\n",
              "    <tr>\n",
              "      <th>252661</th>\n",
              "      <td>37048</td>\n",
              "      <td>Lorna B.</td>\n",
              "      <td>2021-09-09</td>\n",
              "      <td>Walmart</td>\n",
              "      <td></td>\n",
              "    </tr>\n",
              "    <tr>\n",
              "      <th>252662</th>\n",
              "      <td>37059</td>\n",
              "      <td>NATISHA J.</td>\n",
              "      <td>2021-09-09</td>\n",
              "      <td>Walmart</td>\n",
              "      <td>place for all your need , walmart be in the ...</td>\n",
              "    </tr>\n",
              "    <tr>\n",
              "      <th>252663</th>\n",
              "      <td>37059</td>\n",
              "      <td>NATISHA J.</td>\n",
              "      <td>2021-09-09</td>\n",
              "      <td>Walmart</td>\n",
              "      <td></td>\n",
              "    </tr>\n",
              "  </tbody>\n",
              "</table>\n",
              "<p>252664 rows × 5 columns</p>\n",
              "</div>"
            ],
            "text/plain": [
              "        Unnamed: 0         Name        Time    Store  \\\n",
              "0            34400  macantonioc  2007-06-25  DigInfo   \n",
              "1            34399  donkeyfly69  2008-02-27  DigInfo   \n",
              "2            34399  donkeyfly69  2008-02-27  DigInfo   \n",
              "3            34399  donkeyfly69  2008-02-27  DigInfo   \n",
              "4            34399  donkeyfly69  2008-02-27  DigInfo   \n",
              "...            ...          ...         ...      ...   \n",
              "252659       36995      Mark H.  2020-09-09  Walmart   \n",
              "252660       37048     Lorna B.  2021-09-09  Walmart   \n",
              "252661       37048     Lorna B.  2021-09-09  Walmart   \n",
              "252662       37059   NATISHA J.  2021-09-09  Walmart   \n",
              "252663       37059   NATISHA J.  2021-09-09  Walmart   \n",
              "\n",
              "                                                  Comment  \n",
              "0                                             interesting  \n",
              "1                    it do not even seem more convenient   \n",
              "2                                                          \n",
              "3        do not want to pay to use shopping cart or re...  \n",
              "4        invade my privacy way to much just to get gro...  \n",
              "...                                                   ...  \n",
              "252659                                                     \n",
              "252660  improve , site be much improve , but there be ...  \n",
              "252661                                                     \n",
              "252662    place for all your need , walmart be in the ...  \n",
              "252663                                                     \n",
              "\n",
              "[252664 rows x 5 columns]"
            ]
          },
          "execution_count": 55,
          "metadata": {},
          "output_type": "execute_result"
        }
      ],
      "source": [
        "df = (\n",
        " df.assign(Comment=df['Comment'].str.split('.'))\n",
        "   .explode('Comment')\n",
        "   .reset_index(drop=True)\n",
        ")\n",
        "df"
      ]
    },
    {
      "cell_type": "code",
      "execution_count": 56,
      "metadata": {},
      "outputs": [
        {
          "data": {
            "text/html": [
              "<div>\n",
              "<style scoped>\n",
              "    .dataframe tbody tr th:only-of-type {\n",
              "        vertical-align: middle;\n",
              "    }\n",
              "\n",
              "    .dataframe tbody tr th {\n",
              "        vertical-align: top;\n",
              "    }\n",
              "\n",
              "    .dataframe thead th {\n",
              "        text-align: right;\n",
              "    }\n",
              "</style>\n",
              "<table border=\"1\" class=\"dataframe\">\n",
              "  <thead>\n",
              "    <tr style=\"text-align: right;\">\n",
              "      <th></th>\n",
              "      <th>Unnamed: 0</th>\n",
              "      <th>Name</th>\n",
              "      <th>Time</th>\n",
              "      <th>Store</th>\n",
              "      <th>Comment</th>\n",
              "    </tr>\n",
              "  </thead>\n",
              "  <tbody>\n",
              "    <tr>\n",
              "      <th>0</th>\n",
              "      <td>34400</td>\n",
              "      <td>macantonioc</td>\n",
              "      <td>2007-06-25</td>\n",
              "      <td>DigInfo</td>\n",
              "      <td>interesting</td>\n",
              "    </tr>\n",
              "    <tr>\n",
              "      <th>1</th>\n",
              "      <td>34399</td>\n",
              "      <td>donkeyfly69</td>\n",
              "      <td>2008-02-27</td>\n",
              "      <td>DigInfo</td>\n",
              "      <td>it do not even seem more convenient</td>\n",
              "    </tr>\n",
              "    <tr>\n",
              "      <th>2</th>\n",
              "      <td>34399</td>\n",
              "      <td>donkeyfly69</td>\n",
              "      <td>2008-02-27</td>\n",
              "      <td>DigInfo</td>\n",
              "      <td></td>\n",
              "    </tr>\n",
              "    <tr>\n",
              "      <th>3</th>\n",
              "      <td>34399</td>\n",
              "      <td>donkeyfly69</td>\n",
              "      <td>2008-02-27</td>\n",
              "      <td>DigInfo</td>\n",
              "      <td>do not want to pay to use shopping cart or re...</td>\n",
              "    </tr>\n",
              "    <tr>\n",
              "      <th>4</th>\n",
              "      <td>34399</td>\n",
              "      <td>donkeyfly69</td>\n",
              "      <td>2008-02-27</td>\n",
              "      <td>DigInfo</td>\n",
              "      <td>invade my privacy way to much just to get gro...</td>\n",
              "    </tr>\n",
              "    <tr>\n",
              "      <th>...</th>\n",
              "      <td>...</td>\n",
              "      <td>...</td>\n",
              "      <td>...</td>\n",
              "      <td>...</td>\n",
              "      <td>...</td>\n",
              "    </tr>\n",
              "    <tr>\n",
              "      <th>253055</th>\n",
              "      <td>36995</td>\n",
              "      <td>Mark H.</td>\n",
              "      <td>2020-09-09</td>\n",
              "      <td>Walmart</td>\n",
              "      <td></td>\n",
              "    </tr>\n",
              "    <tr>\n",
              "      <th>253056</th>\n",
              "      <td>37048</td>\n",
              "      <td>Lorna B.</td>\n",
              "      <td>2021-09-09</td>\n",
              "      <td>Walmart</td>\n",
              "      <td>improve , site be much improve , but there be ...</td>\n",
              "    </tr>\n",
              "    <tr>\n",
              "      <th>253057</th>\n",
              "      <td>37048</td>\n",
              "      <td>Lorna B.</td>\n",
              "      <td>2021-09-09</td>\n",
              "      <td>Walmart</td>\n",
              "      <td></td>\n",
              "    </tr>\n",
              "    <tr>\n",
              "      <th>253058</th>\n",
              "      <td>37059</td>\n",
              "      <td>NATISHA J.</td>\n",
              "      <td>2021-09-09</td>\n",
              "      <td>Walmart</td>\n",
              "      <td>place for all your need , walmart be in the ...</td>\n",
              "    </tr>\n",
              "    <tr>\n",
              "      <th>253059</th>\n",
              "      <td>37059</td>\n",
              "      <td>NATISHA J.</td>\n",
              "      <td>2021-09-09</td>\n",
              "      <td>Walmart</td>\n",
              "      <td></td>\n",
              "    </tr>\n",
              "  </tbody>\n",
              "</table>\n",
              "<p>253060 rows × 5 columns</p>\n",
              "</div>"
            ],
            "text/plain": [
              "        Unnamed: 0         Name        Time    Store  \\\n",
              "0            34400  macantonioc  2007-06-25  DigInfo   \n",
              "1            34399  donkeyfly69  2008-02-27  DigInfo   \n",
              "2            34399  donkeyfly69  2008-02-27  DigInfo   \n",
              "3            34399  donkeyfly69  2008-02-27  DigInfo   \n",
              "4            34399  donkeyfly69  2008-02-27  DigInfo   \n",
              "...            ...          ...         ...      ...   \n",
              "253055       36995      Mark H.  2020-09-09  Walmart   \n",
              "253056       37048     Lorna B.  2021-09-09  Walmart   \n",
              "253057       37048     Lorna B.  2021-09-09  Walmart   \n",
              "253058       37059   NATISHA J.  2021-09-09  Walmart   \n",
              "253059       37059   NATISHA J.  2021-09-09  Walmart   \n",
              "\n",
              "                                                  Comment  \n",
              "0                                             interesting  \n",
              "1                    it do not even seem more convenient   \n",
              "2                                                          \n",
              "3        do not want to pay to use shopping cart or re...  \n",
              "4        invade my privacy way to much just to get gro...  \n",
              "...                                                   ...  \n",
              "253055                                                     \n",
              "253056  improve , site be much improve , but there be ...  \n",
              "253057                                                     \n",
              "253058    place for all your need , walmart be in the ...  \n",
              "253059                                                     \n",
              "\n",
              "[253060 rows x 5 columns]"
            ]
          },
          "execution_count": 56,
          "metadata": {},
          "output_type": "execute_result"
        }
      ],
      "source": [
        "df = (\n",
        " df.assign(Comment=df['Comment'].str.split('except'))\n",
        "   .explode('Comment')\n",
        "   .reset_index(drop=True)\n",
        ")\n",
        "df"
      ]
    },
    {
      "cell_type": "code",
      "execution_count": 57,
      "metadata": {},
      "outputs": [
        {
          "data": {
            "text/html": [
              "<div>\n",
              "<style scoped>\n",
              "    .dataframe tbody tr th:only-of-type {\n",
              "        vertical-align: middle;\n",
              "    }\n",
              "\n",
              "    .dataframe tbody tr th {\n",
              "        vertical-align: top;\n",
              "    }\n",
              "\n",
              "    .dataframe thead th {\n",
              "        text-align: right;\n",
              "    }\n",
              "</style>\n",
              "<table border=\"1\" class=\"dataframe\">\n",
              "  <thead>\n",
              "    <tr style=\"text-align: right;\">\n",
              "      <th></th>\n",
              "      <th>Unnamed: 0</th>\n",
              "      <th>Name</th>\n",
              "      <th>Time</th>\n",
              "      <th>Store</th>\n",
              "      <th>Comment</th>\n",
              "    </tr>\n",
              "  </thead>\n",
              "  <tbody>\n",
              "    <tr>\n",
              "      <th>0</th>\n",
              "      <td>34400</td>\n",
              "      <td>macantonioc</td>\n",
              "      <td>2007-06-25</td>\n",
              "      <td>DigInfo</td>\n",
              "      <td>interesting</td>\n",
              "    </tr>\n",
              "    <tr>\n",
              "      <th>1</th>\n",
              "      <td>34399</td>\n",
              "      <td>donkeyfly69</td>\n",
              "      <td>2008-02-27</td>\n",
              "      <td>DigInfo</td>\n",
              "      <td>it do not even seem more convenient</td>\n",
              "    </tr>\n",
              "    <tr>\n",
              "      <th>2</th>\n",
              "      <td>34399</td>\n",
              "      <td>donkeyfly69</td>\n",
              "      <td>2008-02-27</td>\n",
              "      <td>DigInfo</td>\n",
              "      <td></td>\n",
              "    </tr>\n",
              "    <tr>\n",
              "      <th>3</th>\n",
              "      <td>34399</td>\n",
              "      <td>donkeyfly69</td>\n",
              "      <td>2008-02-27</td>\n",
              "      <td>DigInfo</td>\n",
              "      <td>do not want to pay to use shopping cart or re...</td>\n",
              "    </tr>\n",
              "    <tr>\n",
              "      <th>4</th>\n",
              "      <td>34399</td>\n",
              "      <td>donkeyfly69</td>\n",
              "      <td>2008-02-27</td>\n",
              "      <td>DigInfo</td>\n",
              "      <td>invade my privacy way to much just to get gro...</td>\n",
              "    </tr>\n",
              "    <tr>\n",
              "      <th>...</th>\n",
              "      <td>...</td>\n",
              "      <td>...</td>\n",
              "      <td>...</td>\n",
              "      <td>...</td>\n",
              "      <td>...</td>\n",
              "    </tr>\n",
              "    <tr>\n",
              "      <th>268129</th>\n",
              "      <td>37048</td>\n",
              "      <td>Lorna B.</td>\n",
              "      <td>2021-09-09</td>\n",
              "      <td>Walmart</td>\n",
              "      <td>improve , site be much improve ,</td>\n",
              "    </tr>\n",
              "    <tr>\n",
              "      <th>268130</th>\n",
              "      <td>37048</td>\n",
              "      <td>Lorna B.</td>\n",
              "      <td>2021-09-09</td>\n",
              "      <td>Walmart</td>\n",
              "      <td>there be far too many grocery available in th...</td>\n",
              "    </tr>\n",
              "    <tr>\n",
              "      <th>268131</th>\n",
              "      <td>37048</td>\n",
              "      <td>Lorna B.</td>\n",
              "      <td>2021-09-09</td>\n",
              "      <td>Walmart</td>\n",
              "      <td></td>\n",
              "    </tr>\n",
              "    <tr>\n",
              "      <th>268132</th>\n",
              "      <td>37059</td>\n",
              "      <td>NATISHA J.</td>\n",
              "      <td>2021-09-09</td>\n",
              "      <td>Walmart</td>\n",
              "      <td>place for all your need , walmart be in the ...</td>\n",
              "    </tr>\n",
              "    <tr>\n",
              "      <th>268133</th>\n",
              "      <td>37059</td>\n",
              "      <td>NATISHA J.</td>\n",
              "      <td>2021-09-09</td>\n",
              "      <td>Walmart</td>\n",
              "      <td></td>\n",
              "    </tr>\n",
              "  </tbody>\n",
              "</table>\n",
              "<p>268134 rows × 5 columns</p>\n",
              "</div>"
            ],
            "text/plain": [
              "        Unnamed: 0         Name        Time    Store  \\\n",
              "0            34400  macantonioc  2007-06-25  DigInfo   \n",
              "1            34399  donkeyfly69  2008-02-27  DigInfo   \n",
              "2            34399  donkeyfly69  2008-02-27  DigInfo   \n",
              "3            34399  donkeyfly69  2008-02-27  DigInfo   \n",
              "4            34399  donkeyfly69  2008-02-27  DigInfo   \n",
              "...            ...          ...         ...      ...   \n",
              "268129       37048     Lorna B.  2021-09-09  Walmart   \n",
              "268130       37048     Lorna B.  2021-09-09  Walmart   \n",
              "268131       37048     Lorna B.  2021-09-09  Walmart   \n",
              "268132       37059   NATISHA J.  2021-09-09  Walmart   \n",
              "268133       37059   NATISHA J.  2021-09-09  Walmart   \n",
              "\n",
              "                                                  Comment  \n",
              "0                                             interesting  \n",
              "1                    it do not even seem more convenient   \n",
              "2                                                          \n",
              "3        do not want to pay to use shopping cart or re...  \n",
              "4        invade my privacy way to much just to get gro...  \n",
              "...                                                   ...  \n",
              "268129                  improve , site be much improve ,   \n",
              "268130   there be far too many grocery available in th...  \n",
              "268131                                                     \n",
              "268132    place for all your need , walmart be in the ...  \n",
              "268133                                                     \n",
              "\n",
              "[268134 rows x 5 columns]"
            ]
          },
          "execution_count": 57,
          "metadata": {},
          "output_type": "execute_result"
        }
      ],
      "source": [
        "df = (\n",
        " df.assign(Comment=df['Comment'].str.split('but'))\n",
        "   .explode('Comment')\n",
        "   .reset_index(drop=True)\n",
        ")\n",
        "df"
      ]
    },
    {
      "cell_type": "markdown",
      "metadata": {
        "id": "lJZIOQkGphsr"
      },
      "source": [
        "BỎ SỐ, BỎ DẤU CÂU"
      ]
    },
    {
      "cell_type": "code",
      "execution_count": 58,
      "metadata": {
        "colab": {
          "base_uri": "https://localhost:8080/"
        },
        "id": "rfoJAksZphsr",
        "outputId": "e8400740-aca6-471b-c522-528826b1cb33"
      },
      "outputs": [
        {
          "name": "stderr",
          "output_type": "stream",
          "text": [
            "C:\\Users\\HienPhuong\\AppData\\Local\\Temp\\ipykernel_4264\\761449715.py:1: FutureWarning: The default value of regex will change from True to False in a future version.\n",
            "  df['Comment'] = df['Comment'].str.replace('\\d+', '')\n"
          ]
        },
        {
          "data": {
            "text/plain": [
              "0                                               interesting\n",
              "1                      it do not even seem more convenient \n",
              "2                                                          \n",
              "3          do not want to pay to use shopping cart or re...\n",
              "4          invade my privacy way to much just to get gro...\n",
              "                                ...                        \n",
              "268129                    improve , site be much improve , \n",
              "268130     there be far too many grocery available in th...\n",
              "268131                                                     \n",
              "268132      place for all your need , walmart be in the ...\n",
              "268133                                                     \n",
              "Name: Comment, Length: 268134, dtype: object"
            ]
          },
          "execution_count": 58,
          "metadata": {},
          "output_type": "execute_result"
        }
      ],
      "source": [
        "df['Comment'] = df['Comment'].str.replace('\\d+', '')\n",
        "df.Comment"
      ]
    },
    {
      "cell_type": "code",
      "execution_count": 59,
      "metadata": {
        "id": "8rHzEaILphsr"
      },
      "outputs": [],
      "source": [
        "PUNCT_TO_REMOVE = string.punctuation\n",
        "def remove_punctuation(text):\n",
        "    \"\"\"custom function to remove the punctuation\"\"\"\n",
        "    return text.translate(str.maketrans('', '', PUNCT_TO_REMOVE))\n",
        "\n",
        "df[\"Comment\"] = df[\"Comment\"].apply(lambda text: remove_punctuation(text))\n"
      ]
    },
    {
      "cell_type": "code",
      "execution_count": 60,
      "metadata": {
        "colab": {
          "base_uri": "https://localhost:8080/"
        },
        "id": "KSkAlIMC0oU8",
        "outputId": "28861f0c-36da-4a74-f537-16fce40720fb"
      },
      "outputs": [
        {
          "data": {
            "text/plain": [
              "0                                               interesting\n",
              "1                      it do not even seem more convenient \n",
              "2                                                          \n",
              "3          do not want to pay to use shopping cart or re...\n",
              "4          invade my privacy way to much just to get gro...\n",
              "                                ...                        \n",
              "268129                      improve  site be much improve  \n",
              "268130     there be far too many grocery available in th...\n",
              "268131                                                     \n",
              "268132      place for all your need  walmart be in the l...\n",
              "268133                                                     \n",
              "Name: Comment, Length: 268134, dtype: object"
            ]
          },
          "execution_count": 60,
          "metadata": {},
          "output_type": "execute_result"
        }
      ],
      "source": [
        "df.Comment"
      ]
    },
    {
      "cell_type": "markdown",
      "metadata": {
        "id": "mjiYVQGlphsr"
      },
      "source": [
        "XÓA STOPWORDS"
      ]
    },
    {
      "cell_type": "code",
      "execution_count": 61,
      "metadata": {},
      "outputs": [
        {
          "name": "stdout",
          "output_type": "stream",
          "text": [
            "['i', 'me', 'my', 'myself', 'we', 'our', 'ours', 'ourselves', 'you', \"you're\", \"you've\", \"you'll\", \"you'd\", 'your', 'yours', 'yourself', 'yourselves', 'he', 'him', 'his', 'himself', 'she', \"she's\", 'her', 'hers', 'herself', 'it', \"it's\", 'its', 'itself', 'they', 'them', 'their', 'theirs', 'themselves', 'what', 'which', 'who', 'whom', 'this', 'that', \"that'll\", 'these', 'those', 'am', 'is', 'are', 'was', 'were', 'be', 'been', 'being', 'have', 'has', 'had', 'having', 'do', 'does', 'did', 'doing', 'a', 'an', 'the', 'and', 'but', 'if', 'or', 'because', 'as', 'until', 'while', 'of', 'at', 'by', 'for', 'with', 'about', 'against', 'between', 'into', 'through', 'during', 'before', 'after', 'above', 'below', 'to', 'from', 'up', 'down', 'in', 'out', 'on', 'off', 'over', 'under', 'again', 'further', 'then', 'once', 'here', 'there', 'when', 'where', 'why', 'how', 'all', 'any', 'both', 'each', 'few', 'more', 'most', 'other', 'some', 'such', 'no', 'nor', 'not', 'only', 'own', 'same', 'so', 'than', 'too', 'very', 's', 't', 'can', 'will', 'just', 'don', \"don't\", 'should', \"should've\", 'now', 'd', 'll', 'm', 'o', 're', 've', 'y', 'ain', 'aren', \"aren't\", 'couldn', \"couldn't\", 'didn', \"didn't\", 'doesn', \"doesn't\", 'hadn', \"hadn't\", 'hasn', \"hasn't\", 'haven', \"haven't\", 'isn', \"isn't\", 'ma', 'mightn', \"mightn't\", 'mustn', \"mustn't\", 'needn', \"needn't\", 'shan', \"shan't\", 'shouldn', \"shouldn't\", 'wasn', \"wasn't\", 'weren', \"weren't\", 'won', \"won't\", 'wouldn', \"wouldn't\"]\n"
          ]
        }
      ],
      "source": [
        "import nltk\n",
        "from nltk.corpus import stopwords\n",
        "print(stopwords.words('english'))"
      ]
    },
    {
      "cell_type": "code",
      "execution_count": 62,
      "metadata": {},
      "outputs": [
        {
          "name": "stdout",
          "output_type": "stream",
          "text": [
            "['i', 'me', 'my', 'myself', 'we', 'our', 'ours', 'ourselves', 'you', \"you're\", \"you've\", \"you'll\", \"you'd\", 'your', 'yours', 'yourself', 'yourselves', 'he', 'him', 'his', 'himself', 'she', \"she's\", 'her', 'hers', 'herself', 'it', \"it's\", 'its', 'itself', 'they', 'them', 'their', 'theirs', 'themselves', 'what', 'which', 'who', 'whom', 'this', 'that', \"that'll\", 'these', 'those', 'am', 'is', 'are', 'was', 'were', 'be', 'been', 'being', 'have', 'has', 'had', 'having', 'do', 'does', 'did', 'doing', 'a', 'an', 'the', 'and', 'if', 'or', 'because', 'as', 'until', 'while', 'of', 'at', 'by', 'for', 'with', 'about', 'against', 'between', 'into', 'through', 'during', 'before', 'after', 'above', 'below', 'to', 'from', 'up', 'down', 'in', 'out', 'on', 'off', 'over', 'under', 'again', 'further', 'then', 'once', 'here', 'there', 'when', 'where', 'why', 'how', 'all', 'any', 'both', 'each', 'few', 'more', 'most', 'other', 'some', 'such', 'only', 'own', 'same', 'so', 'than', 's', 't', 'can', 'will', \"don't\", 'should', \"should've\", 'now', 'd', 'll', 'm', 'o', 're', 've', 'y', 'ain', \"aren't\", \"couldn't\", \"didn't\", \"doesn't\", \"hadn't\", \"hasn't\", \"haven't\", \"isn't\", 'ma', \"mightn't\", \"mustn't\", \"needn't\", \"shan't\", \"shouldn't\", \"wasn't\", \"weren't\", \"won't\", \"wouldn't\"]\n"
          ]
        }
      ],
      "source": [
        "# stop_words = stopwords.words('english').remove(\"not\", \"no\", \"never\", \"nor\", \"but\",\"too\", \"very\", \"can\", \"but\", \"very\", \"just\", \"don\", \"doesn\", \"didn\", \"wasn\", \"weren\", \"isn\", \"aren\", \"haven\", \"hasn\", \"hadn\", \"won\", \"wouldn\", \"shouldn\", \"couldn\", \"mustn\", \"mightn\", \"needn\", \"shan\",  \"shan't\", 'shouldn', \"shouldn't\", 'wasn', \"wasn't\", 'weren', \"weren't\", 'won', \"won't\", 'wouldn', \"wouldn't\")\n",
        "# stop_words\n",
        "all_stopwords = stopwords.words('english')\n",
        "all_stopwords.remove('not')\n",
        "all_stopwords.remove('nor')\n",
        "all_stopwords.remove('no')\n",
        "all_stopwords.remove('but')\n",
        "all_stopwords.remove('too')\n",
        "all_stopwords.remove('very')\n",
        "all_stopwords.remove('just')\n",
        "all_stopwords.remove('don')\n",
        "all_stopwords.remove('doesn')\n",
        "all_stopwords.remove('didn')\n",
        "all_stopwords.remove('wasn')\n",
        "all_stopwords.remove('weren')\n",
        "all_stopwords.remove('isn')\n",
        "all_stopwords.remove('aren')\n",
        "all_stopwords.remove('haven')\n",
        "all_stopwords.remove('hasn')\n",
        "all_stopwords.remove('hadn')\n",
        "all_stopwords.remove('won')\n",
        "all_stopwords.remove('wouldn')\n",
        "all_stopwords.remove('shouldn')\n",
        "all_stopwords.remove('couldn')\n",
        "all_stopwords.remove('mustn')\n",
        "all_stopwords.remove('mightn')\n",
        "all_stopwords.remove('needn')\n",
        "all_stopwords.remove('shan')\n",
        "print(all_stopwords)\n",
        "\n"
      ]
    },
    {
      "cell_type": "code",
      "execution_count": 63,
      "metadata": {},
      "outputs": [
        {
          "data": {
            "text/plain": [
              "'dont like bad not please'"
            ]
          },
          "execution_count": 63,
          "metadata": {},
          "output_type": "execute_result"
        }
      ],
      "source": [
        "# remove stopwords in all_stopwords\n",
        "def remove_stopwords(text):\n",
        "    return \" \".join([word for word in str(text).split() if word not in all_stopwords])\n",
        "text= \"i dont like he because he is bad not do it please don't\"\n",
        "remove_stopwords(text)"
      ]
    },
    {
      "cell_type": "code",
      "execution_count": 64,
      "metadata": {},
      "outputs": [],
      "source": [
        "df[\"Comment\"] = df[\"Comment\"].apply(lambda text: remove_stopwords(text))"
      ]
    },
    {
      "cell_type": "markdown",
      "metadata": {
        "id": "YOpXhuH1phss"
      },
      "source": [
        "Remove ký tự lạ, ko xóa white space"
      ]
    },
    {
      "cell_type": "code",
      "execution_count": 65,
      "metadata": {
        "colab": {
          "base_uri": "https://localhost:8080/"
        },
        "id": "FyHGExVgphst",
        "outputId": "562e03bf-2ecd-427f-e319-40763d68cba2"
      },
      "outputs": [
        {
          "name": "stderr",
          "output_type": "stream",
          "text": [
            "C:\\Users\\HienPhuong\\AppData\\Local\\Temp\\ipykernel_4264\\3429141368.py:1: FutureWarning: The default value of regex will change from True to False in a future version.\n",
            "  df['Comment']=df['Comment'].str.replace('[^\\w\\s]', '')\n"
          ]
        },
        {
          "data": {
            "text/plain": [
              "0                                               interesting\n",
              "1                                  not even seem convenient\n",
              "2                                                          \n",
              "3                not want pay use shopping cart read recipe\n",
              "4                  invade privacy way much just get grocery\n",
              "                                ...                        \n",
              "268129                            improve site much improve\n",
              "268130    far too many grocery available store not avail...\n",
              "268131                                                     \n",
              "268132    place need walmart lead sell good merchandise ...\n",
              "268133                                                     \n",
              "Name: Comment, Length: 268134, dtype: object"
            ]
          },
          "execution_count": 65,
          "metadata": {},
          "output_type": "execute_result"
        }
      ],
      "source": [
        "df['Comment']=df['Comment'].str.replace('[^\\w\\s]', '')\n",
        "#show comment\n",
        "df.Comment"
      ]
    },
    {
      "cell_type": "code",
      "execution_count": 66,
      "metadata": {},
      "outputs": [
        {
          "data": {
            "text/plain": [
              "0                                               interesting\n",
              "1                                  not even seem convenient\n",
              "2                                                          \n",
              "3                not want pay use shopping cart read recipe\n",
              "4                  invade privacy way much just get grocery\n",
              "                                ...                        \n",
              "268129                            improve site much improve\n",
              "268130    far too many grocery available store not avail...\n",
              "268131                                                     \n",
              "268132    place need walmart lead sell good merchandise ...\n",
              "268133                                                     \n",
              "Name: Comment, Length: 268134, dtype: object"
            ]
          },
          "execution_count": 66,
          "metadata": {},
          "output_type": "execute_result"
        }
      ],
      "source": [
        "#remove character 1 word nonsens \n",
        "df['Comment'] = df['Comment'].apply(lambda x: ' '.join([w for w in x.split() if len(w)>1]))\n",
        "#show change after remove character 1 word nonsens\n",
        "df.Comment"
      ]
    },
    {
      "cell_type": "code",
      "execution_count": 67,
      "metadata": {},
      "outputs": [
        {
          "data": {
            "text/plain": [
              "(268134, 5)"
            ]
          },
          "execution_count": 67,
          "metadata": {},
          "output_type": "execute_result"
        }
      ],
      "source": [
        "# count row in df \n",
        "df.shape"
      ]
    },
    {
      "cell_type": "code",
      "execution_count": 68,
      "metadata": {},
      "outputs": [
        {
          "data": {
            "text/plain": [
              "Unnamed: 0    0\n",
              "Name          0\n",
              "Time          0\n",
              "Store         0\n",
              "Comment       0\n",
              "dtype: int64"
            ]
          },
          "execution_count": 68,
          "metadata": {},
          "output_type": "execute_result"
        }
      ],
      "source": [
        "#check and remove null value\n",
        "df.isnull().sum()"
      ]
    },
    {
      "cell_type": "code",
      "execution_count": 69,
      "metadata": {},
      "outputs": [
        {
          "data": {
            "text/plain": [
              "Unnamed: 0    0\n",
              "Name          0\n",
              "Time          0\n",
              "Store         0\n",
              "Comment       0\n",
              "dtype: int64"
            ]
          },
          "execution_count": 69,
          "metadata": {},
          "output_type": "execute_result"
        }
      ],
      "source": [
        "#remove null value\n",
        "df.dropna(inplace=True)\n",
        "df.isnull().sum()"
      ]
    },
    {
      "cell_type": "code",
      "execution_count": 70,
      "metadata": {},
      "outputs": [
        {
          "data": {
            "text/plain": [
              "Unnamed: 0        0\n",
              "Name              0\n",
              "Time              0\n",
              "Store             0\n",
              "Comment       44874\n",
              "dtype: int64"
            ]
          },
          "execution_count": 70,
          "metadata": {},
          "output_type": "execute_result"
        }
      ],
      "source": [
        "#set NaN value\n",
        "df['Comment'] = df['Comment'].replace('', np.nan)\n",
        "df.isnull().sum()"
      ]
    },
    {
      "cell_type": "code",
      "execution_count": 71,
      "metadata": {},
      "outputs": [
        {
          "data": {
            "text/html": [
              "<div>\n",
              "<style scoped>\n",
              "    .dataframe tbody tr th:only-of-type {\n",
              "        vertical-align: middle;\n",
              "    }\n",
              "\n",
              "    .dataframe tbody tr th {\n",
              "        vertical-align: top;\n",
              "    }\n",
              "\n",
              "    .dataframe thead th {\n",
              "        text-align: right;\n",
              "    }\n",
              "</style>\n",
              "<table border=\"1\" class=\"dataframe\">\n",
              "  <thead>\n",
              "    <tr style=\"text-align: right;\">\n",
              "      <th></th>\n",
              "      <th>Unnamed: 0</th>\n",
              "      <th>Name</th>\n",
              "      <th>Time</th>\n",
              "      <th>Store</th>\n",
              "      <th>Comment</th>\n",
              "    </tr>\n",
              "  </thead>\n",
              "  <tbody>\n",
              "    <tr>\n",
              "      <th>0</th>\n",
              "      <td>34400</td>\n",
              "      <td>macantonioc</td>\n",
              "      <td>2007-06-25</td>\n",
              "      <td>DigInfo</td>\n",
              "      <td>interesting</td>\n",
              "    </tr>\n",
              "    <tr>\n",
              "      <th>1</th>\n",
              "      <td>34399</td>\n",
              "      <td>donkeyfly69</td>\n",
              "      <td>2008-02-27</td>\n",
              "      <td>DigInfo</td>\n",
              "      <td>not even seem convenient</td>\n",
              "    </tr>\n",
              "    <tr>\n",
              "      <th>2</th>\n",
              "      <td>34399</td>\n",
              "      <td>donkeyfly69</td>\n",
              "      <td>2008-02-27</td>\n",
              "      <td>DigInfo</td>\n",
              "      <td>NaN</td>\n",
              "    </tr>\n",
              "    <tr>\n",
              "      <th>3</th>\n",
              "      <td>34399</td>\n",
              "      <td>donkeyfly69</td>\n",
              "      <td>2008-02-27</td>\n",
              "      <td>DigInfo</td>\n",
              "      <td>not want pay use shopping cart read recipe</td>\n",
              "    </tr>\n",
              "    <tr>\n",
              "      <th>4</th>\n",
              "      <td>34399</td>\n",
              "      <td>donkeyfly69</td>\n",
              "      <td>2008-02-27</td>\n",
              "      <td>DigInfo</td>\n",
              "      <td>invade privacy way much just get grocery</td>\n",
              "    </tr>\n",
              "    <tr>\n",
              "      <th>...</th>\n",
              "      <td>...</td>\n",
              "      <td>...</td>\n",
              "      <td>...</td>\n",
              "      <td>...</td>\n",
              "      <td>...</td>\n",
              "    </tr>\n",
              "    <tr>\n",
              "      <th>268129</th>\n",
              "      <td>37048</td>\n",
              "      <td>Lorna B.</td>\n",
              "      <td>2021-09-09</td>\n",
              "      <td>Walmart</td>\n",
              "      <td>improve site much improve</td>\n",
              "    </tr>\n",
              "    <tr>\n",
              "      <th>268130</th>\n",
              "      <td>37048</td>\n",
              "      <td>Lorna B.</td>\n",
              "      <td>2021-09-09</td>\n",
              "      <td>Walmart</td>\n",
              "      <td>far too many grocery available store not avail...</td>\n",
              "    </tr>\n",
              "    <tr>\n",
              "      <th>268131</th>\n",
              "      <td>37048</td>\n",
              "      <td>Lorna B.</td>\n",
              "      <td>2021-09-09</td>\n",
              "      <td>Walmart</td>\n",
              "      <td>NaN</td>\n",
              "    </tr>\n",
              "    <tr>\n",
              "      <th>268132</th>\n",
              "      <td>37059</td>\n",
              "      <td>NATISHA J.</td>\n",
              "      <td>2021-09-09</td>\n",
              "      <td>Walmart</td>\n",
              "      <td>place need walmart lead sell good merchandise ...</td>\n",
              "    </tr>\n",
              "    <tr>\n",
              "      <th>268133</th>\n",
              "      <td>37059</td>\n",
              "      <td>NATISHA J.</td>\n",
              "      <td>2021-09-09</td>\n",
              "      <td>Walmart</td>\n",
              "      <td>NaN</td>\n",
              "    </tr>\n",
              "  </tbody>\n",
              "</table>\n",
              "<p>268134 rows × 5 columns</p>\n",
              "</div>"
            ],
            "text/plain": [
              "        Unnamed: 0         Name        Time    Store  \\\n",
              "0            34400  macantonioc  2007-06-25  DigInfo   \n",
              "1            34399  donkeyfly69  2008-02-27  DigInfo   \n",
              "2            34399  donkeyfly69  2008-02-27  DigInfo   \n",
              "3            34399  donkeyfly69  2008-02-27  DigInfo   \n",
              "4            34399  donkeyfly69  2008-02-27  DigInfo   \n",
              "...            ...          ...         ...      ...   \n",
              "268129       37048     Lorna B.  2021-09-09  Walmart   \n",
              "268130       37048     Lorna B.  2021-09-09  Walmart   \n",
              "268131       37048     Lorna B.  2021-09-09  Walmart   \n",
              "268132       37059   NATISHA J.  2021-09-09  Walmart   \n",
              "268133       37059   NATISHA J.  2021-09-09  Walmart   \n",
              "\n",
              "                                                  Comment  \n",
              "0                                             interesting  \n",
              "1                                not even seem convenient  \n",
              "2                                                     NaN  \n",
              "3              not want pay use shopping cart read recipe  \n",
              "4                invade privacy way much just get grocery  \n",
              "...                                                   ...  \n",
              "268129                          improve site much improve  \n",
              "268130  far too many grocery available store not avail...  \n",
              "268131                                                NaN  \n",
              "268132  place need walmart lead sell good merchandise ...  \n",
              "268133                                                NaN  \n",
              "\n",
              "[268134 rows x 5 columns]"
            ]
          },
          "execution_count": 71,
          "metadata": {},
          "output_type": "execute_result"
        }
      ],
      "source": [
        "df"
      ]
    },
    {
      "cell_type": "code",
      "execution_count": 72,
      "metadata": {},
      "outputs": [
        {
          "data": {
            "text/plain": [
              "Unnamed: 0    0\n",
              "Name          0\n",
              "Time          0\n",
              "Store         0\n",
              "Comment       0\n",
              "dtype: int64"
            ]
          },
          "execution_count": 72,
          "metadata": {},
          "output_type": "execute_result"
        }
      ],
      "source": [
        "#remove NaN value \n",
        "df.dropna(inplace=True)\n",
        "df.isnull().sum()"
      ]
    },
    {
      "cell_type": "code",
      "execution_count": 73,
      "metadata": {},
      "outputs": [
        {
          "data": {
            "text/html": [
              "<div>\n",
              "<style scoped>\n",
              "    .dataframe tbody tr th:only-of-type {\n",
              "        vertical-align: middle;\n",
              "    }\n",
              "\n",
              "    .dataframe tbody tr th {\n",
              "        vertical-align: top;\n",
              "    }\n",
              "\n",
              "    .dataframe thead th {\n",
              "        text-align: right;\n",
              "    }\n",
              "</style>\n",
              "<table border=\"1\" class=\"dataframe\">\n",
              "  <thead>\n",
              "    <tr style=\"text-align: right;\">\n",
              "      <th></th>\n",
              "      <th>Unnamed: 0</th>\n",
              "      <th>Name</th>\n",
              "      <th>Time</th>\n",
              "      <th>Store</th>\n",
              "      <th>Comment</th>\n",
              "    </tr>\n",
              "  </thead>\n",
              "  <tbody>\n",
              "    <tr>\n",
              "      <th>0</th>\n",
              "      <td>34400</td>\n",
              "      <td>macantonioc</td>\n",
              "      <td>2007-06-25</td>\n",
              "      <td>DigInfo</td>\n",
              "      <td>interesting</td>\n",
              "    </tr>\n",
              "    <tr>\n",
              "      <th>1</th>\n",
              "      <td>34399</td>\n",
              "      <td>donkeyfly69</td>\n",
              "      <td>2008-02-27</td>\n",
              "      <td>DigInfo</td>\n",
              "      <td>not even seem convenient</td>\n",
              "    </tr>\n",
              "    <tr>\n",
              "      <th>3</th>\n",
              "      <td>34399</td>\n",
              "      <td>donkeyfly69</td>\n",
              "      <td>2008-02-27</td>\n",
              "      <td>DigInfo</td>\n",
              "      <td>not want pay use shopping cart read recipe</td>\n",
              "    </tr>\n",
              "    <tr>\n",
              "      <th>4</th>\n",
              "      <td>34399</td>\n",
              "      <td>donkeyfly69</td>\n",
              "      <td>2008-02-27</td>\n",
              "      <td>DigInfo</td>\n",
              "      <td>invade privacy way much just get grocery</td>\n",
              "    </tr>\n",
              "    <tr>\n",
              "      <th>5</th>\n",
              "      <td>34399</td>\n",
              "      <td>donkeyfly69</td>\n",
              "      <td>2008-02-27</td>\n",
              "      <td>DigInfo</td>\n",
              "      <td>not even deep</td>\n",
              "    </tr>\n",
              "    <tr>\n",
              "      <th>...</th>\n",
              "      <td>...</td>\n",
              "      <td>...</td>\n",
              "      <td>...</td>\n",
              "      <td>...</td>\n",
              "      <td>...</td>\n",
              "    </tr>\n",
              "    <tr>\n",
              "      <th>268126</th>\n",
              "      <td>36995</td>\n",
              "      <td>Mark H.</td>\n",
              "      <td>2020-09-09</td>\n",
              "      <td>Walmart</td>\n",
              "      <td>call refund tell would take day get money back</td>\n",
              "    </tr>\n",
              "    <tr>\n",
              "      <th>268127</th>\n",
              "      <td>36995</td>\n",
              "      <td>Mark H.</td>\n",
              "      <td>2020-09-09</td>\n",
              "      <td>Walmart</td>\n",
              "      <td>walmart</td>\n",
              "    </tr>\n",
              "    <tr>\n",
              "      <th>268129</th>\n",
              "      <td>37048</td>\n",
              "      <td>Lorna B.</td>\n",
              "      <td>2021-09-09</td>\n",
              "      <td>Walmart</td>\n",
              "      <td>improve site much improve</td>\n",
              "    </tr>\n",
              "    <tr>\n",
              "      <th>268130</th>\n",
              "      <td>37048</td>\n",
              "      <td>Lorna B.</td>\n",
              "      <td>2021-09-09</td>\n",
              "      <td>Walmart</td>\n",
              "      <td>far too many grocery available store not avail...</td>\n",
              "    </tr>\n",
              "    <tr>\n",
              "      <th>268132</th>\n",
              "      <td>37059</td>\n",
              "      <td>NATISHA J.</td>\n",
              "      <td>2021-09-09</td>\n",
              "      <td>Walmart</td>\n",
              "      <td>place need walmart lead sell good merchandise ...</td>\n",
              "    </tr>\n",
              "  </tbody>\n",
              "</table>\n",
              "<p>223260 rows × 5 columns</p>\n",
              "</div>"
            ],
            "text/plain": [
              "        Unnamed: 0         Name        Time    Store  \\\n",
              "0            34400  macantonioc  2007-06-25  DigInfo   \n",
              "1            34399  donkeyfly69  2008-02-27  DigInfo   \n",
              "3            34399  donkeyfly69  2008-02-27  DigInfo   \n",
              "4            34399  donkeyfly69  2008-02-27  DigInfo   \n",
              "5            34399  donkeyfly69  2008-02-27  DigInfo   \n",
              "...            ...          ...         ...      ...   \n",
              "268126       36995      Mark H.  2020-09-09  Walmart   \n",
              "268127       36995      Mark H.  2020-09-09  Walmart   \n",
              "268129       37048     Lorna B.  2021-09-09  Walmart   \n",
              "268130       37048     Lorna B.  2021-09-09  Walmart   \n",
              "268132       37059   NATISHA J.  2021-09-09  Walmart   \n",
              "\n",
              "                                                  Comment  \n",
              "0                                             interesting  \n",
              "1                                not even seem convenient  \n",
              "3              not want pay use shopping cart read recipe  \n",
              "4                invade privacy way much just get grocery  \n",
              "5                                           not even deep  \n",
              "...                                                   ...  \n",
              "268126     call refund tell would take day get money back  \n",
              "268127                                            walmart  \n",
              "268129                          improve site much improve  \n",
              "268130  far too many grocery available store not avail...  \n",
              "268132  place need walmart lead sell good merchandise ...  \n",
              "\n",
              "[223260 rows x 5 columns]"
            ]
          },
          "execution_count": 73,
          "metadata": {},
          "output_type": "execute_result"
        }
      ],
      "source": [
        "df"
      ]
    },
    {
      "cell_type": "code",
      "execution_count": 74,
      "metadata": {},
      "outputs": [
        {
          "data": {
            "text/plain": [
              "(223260, 5)"
            ]
          },
          "execution_count": 74,
          "metadata": {},
          "output_type": "execute_result"
        }
      ],
      "source": [
        "#show row in df \n",
        "df.shape"
      ]
    },
    {
      "cell_type": "code",
      "execution_count": 75,
      "metadata": {},
      "outputs": [],
      "source": [
        "df = df.reset_index()"
      ]
    },
    {
      "cell_type": "code",
      "execution_count": 76,
      "metadata": {},
      "outputs": [
        {
          "data": {
            "text/plain": [
              "'go cheap good'"
            ]
          },
          "execution_count": 76,
          "metadata": {},
          "output_type": "execute_result"
        }
      ],
      "source": [
        "#to lower case \n",
        "df['Comment'] = df['Comment'].str.lower()\n",
        "df.Comment[19]"
      ]
    },
    {
      "cell_type": "code",
      "execution_count": 78,
      "metadata": {},
      "outputs": [
        {
          "data": {
            "text/plain": [
              "index          int64\n",
              "Unnamed: 0     int64\n",
              "Name          object\n",
              "Time          object\n",
              "Store         object\n",
              "Comment       object\n",
              "dtype: object"
            ]
          },
          "execution_count": 78,
          "metadata": {},
          "output_type": "execute_result"
        }
      ],
      "source": [
        "df.dtypes"
      ]
    },
    {
      "cell_type": "code",
      "execution_count": 79,
      "metadata": {},
      "outputs": [
        {
          "data": {
            "text/plain": [
              "index                  int64\n",
              "Unnamed: 0             int64\n",
              "Name                  object\n",
              "Time          datetime64[ns]\n",
              "Store                 object\n",
              "Comment               object\n",
              "dtype: object"
            ]
          },
          "execution_count": 79,
          "metadata": {},
          "output_type": "execute_result"
        }
      ],
      "source": [
        "#Time coulumn to datetime\n",
        "df['Time'] = pd.to_datetime(df['Time'])\n",
        "df.dtypes"
      ]
    },
    {
      "cell_type": "code",
      "execution_count": 77,
      "metadata": {},
      "outputs": [],
      "source": [
        "#save dataframe to csv\n",
        "df.to_csv('FinalPreprocess.csv', index=False)"
      ]
    }
  ],
  "metadata": {
    "colab": {
      "provenance": []
    },
    "kernelspec": {
      "display_name": "Python 3",
      "language": "python",
      "name": "python3"
    },
    "language_info": {
      "codemirror_mode": {
        "name": "ipython",
        "version": 3
      },
      "file_extension": ".py",
      "mimetype": "text/x-python",
      "name": "python",
      "nbconvert_exporter": "python",
      "pygments_lexer": "ipython3",
      "version": "3.10.9"
    },
    "vscode": {
      "interpreter": {
        "hash": "7008a76ded2a80656b717ec2236e0e47fc7bffffd728332632b96ba5b4dde424"
      }
    }
  },
  "nbformat": 4,
  "nbformat_minor": 0
}
