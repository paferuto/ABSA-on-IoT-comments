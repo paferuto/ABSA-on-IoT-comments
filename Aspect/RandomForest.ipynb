{
 "cells": [
  {
   "cell_type": "code",
   "execution_count": null,
   "metadata": {},
   "outputs": [],
   "source": [
    "import pandas as pd\n",
    "import numpy as np\n",
    "# read data\n",
    "df = pd.read_csv('Data_drop_year.csv')"
   ]
  },
  {
   "cell_type": "code",
   "execution_count": null,
   "metadata": {},
   "outputs": [],
   "source": [
    "# Train and test data for aspects classification\n",
    "from sklearn.model_selection import train_test_split\n",
    "X_train, X_test, y_train, y_test = train_test_split(df['Comment'], df.drop(['Name','Time','Store','Comment','Aspect','polarity'],axis=1), test_size=0.2, random_state=42)\n",
    "y_train.head()"
   ]
  },
  {
   "cell_type": "code",
   "execution_count": null,
   "metadata": {},
   "outputs": [],
   "source": [
    "# vectorize the text \n",
    "from sklearn.feature_extraction.text import TfidfVectorizer\n",
    "TfidfVectorizer = TfidfVectorizer( max_features=5000, ngram_range=(1,2))\n",
    "\n",
    "# fit and transform train and test features\n",
    "X_train_tfidf = TfidfVectorizer.fit_transform(X_train)\n",
    "X_test_tfidf = TfidfVectorizer.transform(X_test)"
   ]
  },
  {
   "cell_type": "code",
   "execution_count": null,
   "metadata": {},
   "outputs": [],
   "source": [
    "from sklearn.model_selection import cross_validate\n",
    "#import random forest classifier\n",
    "from sklearn.ensemble import RandomForestClassifier\n",
    "from sklearn.multiclass import OneVsRestClassifier\n",
    "# onevsrestclassifier with RF with parameter n_estimators=1000, max_depth=None, random_state=42,criterion='gini'), n_jobs=-1\n",
    "clf_rf = OneVsRestClassifier(RandomForestClassifier(n_estimators=1000, max_depth=None, random_state=42,criterion='gini'), n_jobs=-1)"
   ]
  },
  {
   "cell_type": "code",
   "execution_count": null,
   "metadata": {},
   "outputs": [],
   "source": [
    "#cross_validate\n",
    "from sklearn.model_selection import cross_validate\n",
    "scoring = ['accuracy', 'f1_macro', 'recall_macro', 'precision_macro', 'roc_auc_ovr_weighted']\n",
    "scores=cross_validate(clf_rf, X_train_tfidf, y_train, cv=10, scoring=scoring, return_train_score=True)"
   ]
  },
  {
   "cell_type": "code",
   "execution_count": null,
   "metadata": {},
   "outputs": [],
   "source": [
    "# print scores\n",
    "print (\"Accuracy: %0.2f (+/- %0.2f)\" % (scores['test_accuracy'].mean(), scores['test_accuracy'].std() * 2))\n",
    "print (\"Precision: %0.2f (+/- %0.2f)\" % (scores['test_precision_macro'].mean(), scores['test_precision_macro'].std() * 2))\n",
    "print (\"Recall: %0.2f (+/- %0.2f)\" % (scores['test_recall_macro'].mean(), scores['test_recall_macro'].std() * 2))\n",
    "print (\"F1: %0.2f (+/- %0.2f)\" % (scores['test_f1_macro'].mean(), scores['test_f1_macro'].std() * 2))\n",
    "print (\"ROC AUC: %0.2f (+/- %0.2f)\" % (scores['test_roc_auc_ovr_weighted'].mean(), scores['test_roc_auc_ovr_weighted'].std() * 2))"
   ]
  }
 ],
 "metadata": {
  "kernelspec": {
   "display_name": "Python 3",
   "language": "python",
   "name": "python3"
  },
  "language_info": {
   "codemirror_mode": {
    "name": "ipython",
    "version": 3
   },
   "file_extension": ".py",
   "mimetype": "text/x-python",
   "name": "python",
   "nbconvert_exporter": "python",
   "pygments_lexer": "ipython3",
   "version": "3.10.7 (tags/v3.10.7:6cc6b13, Sep  5 2022, 14:08:36) [MSC v.1933 64 bit (AMD64)]"
  },
  "orig_nbformat": 4,
  "vscode": {
   "interpreter": {
    "hash": "369f2c481f4da34e4445cda3fffd2e751bd1c4d706f27375911949ba6bb62e1c"
   }
  }
 },
 "nbformat": 4,
 "nbformat_minor": 2
}
