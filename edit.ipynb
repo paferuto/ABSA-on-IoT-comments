{
 "cells": [
  {
   "cell_type": "code",
   "execution_count": 1,
   "metadata": {},
   "outputs": [],
   "source": [
    "import pandas as pd"
   ]
  },
  {
   "cell_type": "code",
   "execution_count": 8,
   "metadata": {},
   "outputs": [],
   "source": [
    "df = pd.read_csv('sampleDataset sentiment.csv')"
   ]
  },
  {
   "cell_type": "code",
   "execution_count": 5,
   "metadata": {},
   "outputs": [
    {
     "data": {
      "text/html": [
       "<div>\n",
       "<style scoped>\n",
       "    .dataframe tbody tr th:only-of-type {\n",
       "        vertical-align: middle;\n",
       "    }\n",
       "\n",
       "    .dataframe tbody tr th {\n",
       "        vertical-align: top;\n",
       "    }\n",
       "\n",
       "    .dataframe thead th {\n",
       "        text-align: right;\n",
       "    }\n",
       "</style>\n",
       "<table border=\"1\" class=\"dataframe\">\n",
       "  <thead>\n",
       "    <tr style=\"text-align: right;\">\n",
       "      <th></th>\n",
       "      <th>Unnamed: 0.1</th>\n",
       "      <th>Unnamed: 0</th>\n",
       "      <th>Name</th>\n",
       "      <th>Store</th>\n",
       "      <th>Time</th>\n",
       "      <th>Comment</th>\n",
       "      <th>Label</th>\n",
       "      <th>Aspect</th>\n",
       "      <th>polarity</th>\n",
       "    </tr>\n",
       "  </thead>\n",
       "  <tbody>\n",
       "    <tr>\n",
       "      <th>0</th>\n",
       "      <td>0</td>\n",
       "      <td>0</td>\n",
       "      <td>P5490WRmaryd</td>\n",
       "      <td>Amazon Go</td>\n",
       "      <td>22/08/2022</td>\n",
       "      <td>small selection</td>\n",
       "      <td>[]</td>\n",
       "      <td>[]</td>\n",
       "      <td>neutral</td>\n",
       "    </tr>\n",
       "    <tr>\n",
       "      <th>1</th>\n",
       "      <td>1</td>\n",
       "      <td>1</td>\n",
       "      <td>P5490WRmaryd</td>\n",
       "      <td>Amazon Go</td>\n",
       "      <td>22/08/2022</td>\n",
       "      <td>interesting concept grab quick bite</td>\n",
       "      <td>['concept']</td>\n",
       "      <td>['general']</td>\n",
       "      <td>positive</td>\n",
       "    </tr>\n",
       "    <tr>\n",
       "      <th>2</th>\n",
       "      <td>2</td>\n",
       "      <td>2</td>\n",
       "      <td>P5490WRmaryd</td>\n",
       "      <td>Amazon Go</td>\n",
       "      <td>22/08/2022</td>\n",
       "      <td>small selection sandwich chip thing pop microwave</td>\n",
       "      <td>['thing']</td>\n",
       "      <td>['general']</td>\n",
       "      <td>neutral</td>\n",
       "    </tr>\n",
       "    <tr>\n",
       "      <th>3</th>\n",
       "      <td>3</td>\n",
       "      <td>3</td>\n",
       "      <td>P5490WRmaryd</td>\n",
       "      <td>Amazon Go</td>\n",
       "      <td>22/08/2022</td>\n",
       "      <td>beer wine</td>\n",
       "      <td>[]</td>\n",
       "      <td>[]</td>\n",
       "      <td>neutral</td>\n",
       "    </tr>\n",
       "    <tr>\n",
       "      <th>4</th>\n",
       "      <td>4</td>\n",
       "      <td>4</td>\n",
       "      <td>burr6013</td>\n",
       "      <td>Amazon Go</td>\n",
       "      <td>9/8/2022</td>\n",
       "      <td>small selection</td>\n",
       "      <td>[]</td>\n",
       "      <td>[]</td>\n",
       "      <td>neutral</td>\n",
       "    </tr>\n",
       "    <tr>\n",
       "      <th>...</th>\n",
       "      <td>...</td>\n",
       "      <td>...</td>\n",
       "      <td>...</td>\n",
       "      <td>...</td>\n",
       "      <td>...</td>\n",
       "      <td>...</td>\n",
       "      <td>...</td>\n",
       "      <td>...</td>\n",
       "      <td>...</td>\n",
       "    </tr>\n",
       "    <tr>\n",
       "      <th>135936</th>\n",
       "      <td>135936</td>\n",
       "      <td>139363</td>\n",
       "      <td>Lindseypatterson123</td>\n",
       "      <td>Smart Cart</td>\n",
       "      <td>2/11/2022</td>\n",
       "      <td>ok smart cart cancel girl</td>\n",
       "      <td>['smart cart', 'cart']</td>\n",
       "      <td>['technology']</td>\n",
       "      <td>positive</td>\n",
       "    </tr>\n",
       "    <tr>\n",
       "      <th>135937</th>\n",
       "      <td>135937</td>\n",
       "      <td>139364</td>\n",
       "      <td>Hannah Thomas</td>\n",
       "      <td>Smart Cart</td>\n",
       "      <td>2/11/2022</td>\n",
       "      <td>okay thank</td>\n",
       "      <td>[]</td>\n",
       "      <td>[]</td>\n",
       "      <td>positive</td>\n",
       "    </tr>\n",
       "    <tr>\n",
       "      <th>135938</th>\n",
       "      <td>135938</td>\n",
       "      <td>139365</td>\n",
       "      <td>Hannah Thomas</td>\n",
       "      <td>Smart Cart</td>\n",
       "      <td>2/11/2022</td>\n",
       "      <td>actual reason want able steal peace kelvin kufley</td>\n",
       "      <td>[]</td>\n",
       "      <td>[]</td>\n",
       "      <td>positive</td>\n",
       "    </tr>\n",
       "    <tr>\n",
       "      <th>135939</th>\n",
       "      <td>135939</td>\n",
       "      <td>139366</td>\n",
       "      <td>Kelvin_kufley</td>\n",
       "      <td>Smart Cart</td>\n",
       "      <td>2/11/2022</td>\n",
       "      <td>cause steal</td>\n",
       "      <td>[]</td>\n",
       "      <td>[]</td>\n",
       "      <td>negative</td>\n",
       "    </tr>\n",
       "    <tr>\n",
       "      <th>135940</th>\n",
       "      <td>135940</td>\n",
       "      <td>139367</td>\n",
       "      <td>Hannah Thomas</td>\n",
       "      <td>Smart Cart</td>\n",
       "      <td>2/11/2022</td>\n",
       "      <td>yes literally exactly reason</td>\n",
       "      <td>[]</td>\n",
       "      <td>[]</td>\n",
       "      <td>positive</td>\n",
       "    </tr>\n",
       "  </tbody>\n",
       "</table>\n",
       "<p>135941 rows × 9 columns</p>\n",
       "</div>"
      ],
      "text/plain": [
       "        Unnamed: 0.1  Unnamed: 0                 Name       Store        Time  \\\n",
       "0                  0           0         P5490WRmaryd   Amazon Go  22/08/2022   \n",
       "1                  1           1         P5490WRmaryd   Amazon Go  22/08/2022   \n",
       "2                  2           2         P5490WRmaryd   Amazon Go  22/08/2022   \n",
       "3                  3           3         P5490WRmaryd   Amazon Go  22/08/2022   \n",
       "4                  4           4             burr6013   Amazon Go    9/8/2022   \n",
       "...              ...         ...                  ...         ...         ...   \n",
       "135936        135936      139363  Lindseypatterson123  Smart Cart   2/11/2022   \n",
       "135937        135937      139364        Hannah Thomas  Smart Cart   2/11/2022   \n",
       "135938        135938      139365        Hannah Thomas  Smart Cart   2/11/2022   \n",
       "135939        135939      139366        Kelvin_kufley  Smart Cart   2/11/2022   \n",
       "135940        135940      139367        Hannah Thomas  Smart Cart   2/11/2022   \n",
       "\n",
       "                                                  Comment  \\\n",
       "0                                         small selection   \n",
       "1                     interesting concept grab quick bite   \n",
       "2       small selection sandwich chip thing pop microwave   \n",
       "3                                               beer wine   \n",
       "4                                         small selection   \n",
       "...                                                   ...   \n",
       "135936                          ok smart cart cancel girl   \n",
       "135937                                         okay thank   \n",
       "135938  actual reason want able steal peace kelvin kufley   \n",
       "135939                                        cause steal   \n",
       "135940                       yes literally exactly reason   \n",
       "\n",
       "                         Label          Aspect  polarity  \n",
       "0                           []              []   neutral  \n",
       "1                  ['concept']     ['general']  positive  \n",
       "2                    ['thing']     ['general']   neutral  \n",
       "3                           []              []   neutral  \n",
       "4                           []              []   neutral  \n",
       "...                        ...             ...       ...  \n",
       "135936  ['smart cart', 'cart']  ['technology']  positive  \n",
       "135937                      []              []  positive  \n",
       "135938                      []              []  positive  \n",
       "135939                      []              []  negative  \n",
       "135940                      []              []  positive  \n",
       "\n",
       "[135941 rows x 9 columns]"
      ]
     },
     "execution_count": 5,
     "metadata": {},
     "output_type": "execute_result"
    }
   ],
   "source": [
    "df"
   ]
  },
  {
   "cell_type": "code",
   "execution_count": 9,
   "metadata": {},
   "outputs": [],
   "source": [
    "#drop unnecessary columns\n",
    "df = df.drop(['Unnamed: 0', 'Unnamed: 0.1','Name', 'Store', 'Label','Time'], axis=1)"
   ]
  },
  {
   "cell_type": "code",
   "execution_count": 10,
   "metadata": {},
   "outputs": [],
   "source": [
    "# for aspect with multiple words, split them into separate rows\n",
    "df = df.set_index(df.columns.drop('Aspect',1).tolist()).Aspect.str.split(',', expand=True).stack().reset_index().rename(columns={0:'Aspect'}).loc[:, df.columns]"
   ]
  },
  {
   "cell_type": "code",
   "execution_count": 19,
   "metadata": {},
   "outputs": [
    {
     "name": "stderr",
     "output_type": "stream",
     "text": [
      "C:\\Users\\ASUS\\AppData\\Local\\Temp\\ipykernel_6268\\3669242881.py:2: FutureWarning: The default value of regex will change from True to False in a future version.\n",
      "  df['Aspect'] = df['Aspect'].str.replace('[^\\w\\s]','')\n"
     ]
    }
   ],
   "source": [
    "# convert aspect to string with alphanumeric characters only\n",
    "df['Aspect'] = df['Aspect'].str.replace('[^\\w\\s]','')"
   ]
  },
  {
   "cell_type": "code",
   "execution_count": 26,
   "metadata": {},
   "outputs": [],
   "source": [
    "# delete whitespace in aspect\n",
    "df['Aspect'] = df['Aspect'].str.strip()"
   ]
  },
  {
   "cell_type": "code",
   "execution_count": 27,
   "metadata": {},
   "outputs": [
    {
     "data": {
      "text/html": [
       "<div>\n",
       "<style scoped>\n",
       "    .dataframe tbody tr th:only-of-type {\n",
       "        vertical-align: middle;\n",
       "    }\n",
       "\n",
       "    .dataframe tbody tr th {\n",
       "        vertical-align: top;\n",
       "    }\n",
       "\n",
       "    .dataframe thead th {\n",
       "        text-align: right;\n",
       "    }\n",
       "</style>\n",
       "<table border=\"1\" class=\"dataframe\">\n",
       "  <thead>\n",
       "    <tr style=\"text-align: right;\">\n",
       "      <th></th>\n",
       "      <th>Comment</th>\n",
       "      <th>Aspect</th>\n",
       "      <th>polarity</th>\n",
       "    </tr>\n",
       "  </thead>\n",
       "  <tbody>\n",
       "    <tr>\n",
       "      <th>0</th>\n",
       "      <td>small selection</td>\n",
       "      <td></td>\n",
       "      <td>neutral</td>\n",
       "    </tr>\n",
       "    <tr>\n",
       "      <th>1</th>\n",
       "      <td>interesting concept grab quick bite</td>\n",
       "      <td>general</td>\n",
       "      <td>positive</td>\n",
       "    </tr>\n",
       "    <tr>\n",
       "      <th>2</th>\n",
       "      <td>small selection sandwich chip thing pop microwave</td>\n",
       "      <td>general</td>\n",
       "      <td>neutral</td>\n",
       "    </tr>\n",
       "    <tr>\n",
       "      <th>3</th>\n",
       "      <td>beer wine</td>\n",
       "      <td></td>\n",
       "      <td>neutral</td>\n",
       "    </tr>\n",
       "    <tr>\n",
       "      <th>4</th>\n",
       "      <td>small selection</td>\n",
       "      <td></td>\n",
       "      <td>neutral</td>\n",
       "    </tr>\n",
       "    <tr>\n",
       "      <th>...</th>\n",
       "      <td>...</td>\n",
       "      <td>...</td>\n",
       "      <td>...</td>\n",
       "    </tr>\n",
       "    <tr>\n",
       "      <th>155275</th>\n",
       "      <td>ok smart cart cancel girl</td>\n",
       "      <td>technology</td>\n",
       "      <td>positive</td>\n",
       "    </tr>\n",
       "    <tr>\n",
       "      <th>155276</th>\n",
       "      <td>okay thank</td>\n",
       "      <td></td>\n",
       "      <td>positive</td>\n",
       "    </tr>\n",
       "    <tr>\n",
       "      <th>155277</th>\n",
       "      <td>actual reason want able steal peace kelvin kufley</td>\n",
       "      <td></td>\n",
       "      <td>positive</td>\n",
       "    </tr>\n",
       "    <tr>\n",
       "      <th>155278</th>\n",
       "      <td>cause steal</td>\n",
       "      <td></td>\n",
       "      <td>negative</td>\n",
       "    </tr>\n",
       "    <tr>\n",
       "      <th>155279</th>\n",
       "      <td>yes literally exactly reason</td>\n",
       "      <td></td>\n",
       "      <td>positive</td>\n",
       "    </tr>\n",
       "  </tbody>\n",
       "</table>\n",
       "<p>155280 rows × 3 columns</p>\n",
       "</div>"
      ],
      "text/plain": [
       "                                                  Comment      Aspect  \\\n",
       "0                                         small selection               \n",
       "1                     interesting concept grab quick bite     general   \n",
       "2       small selection sandwich chip thing pop microwave     general   \n",
       "3                                               beer wine               \n",
       "4                                         small selection               \n",
       "...                                                   ...         ...   \n",
       "155275                          ok smart cart cancel girl  technology   \n",
       "155276                                         okay thank               \n",
       "155277  actual reason want able steal peace kelvin kufley               \n",
       "155278                                        cause steal               \n",
       "155279                       yes literally exactly reason               \n",
       "\n",
       "        polarity  \n",
       "0        neutral  \n",
       "1       positive  \n",
       "2        neutral  \n",
       "3        neutral  \n",
       "4        neutral  \n",
       "...          ...  \n",
       "155275  positive  \n",
       "155276  positive  \n",
       "155277  positive  \n",
       "155278  negative  \n",
       "155279  positive  \n",
       "\n",
       "[155280 rows x 3 columns]"
      ]
     },
     "execution_count": 27,
     "metadata": {},
     "output_type": "execute_result"
    }
   ],
   "source": [
    "df"
   ]
  },
  {
   "cell_type": "code",
   "execution_count": 28,
   "metadata": {},
   "outputs": [
    {
     "data": {
      "text/plain": [
       "Comment     76259\n",
       "Aspect      76259\n",
       "polarity    76259\n",
       "dtype: int64"
      ]
     },
     "execution_count": 28,
     "metadata": {},
     "output_type": "execute_result"
    }
   ],
   "source": [
    "# drop rows with empty aspect\n",
    "df2 = df[df['Aspect'] != '']\n",
    "# count the number of rows\n",
    "df2.count()"
   ]
  },
  {
   "cell_type": "code",
   "execution_count": 30,
   "metadata": {},
   "outputs": [
    {
     "data": {
      "text/plain": [
       "9"
      ]
     },
     "execution_count": 30,
     "metadata": {},
     "output_type": "execute_result"
    }
   ],
   "source": [
    "# count unique aspects\n",
    "df2['Aspect'].nunique()"
   ]
  },
  {
   "cell_type": "code",
   "execution_count": 31,
   "metadata": {},
   "outputs": [
    {
     "data": {
      "text/plain": [
       "array(['general', 'experience', 'payment', 'technology', 'availability',\n",
       "       'price', 'unemployment', 'privacy', 'marketing'], dtype=object)"
      ]
     },
     "execution_count": 31,
     "metadata": {},
     "output_type": "execute_result"
    }
   ],
   "source": [
    "#print unique aspects\n",
    "df2['Aspect'].unique()"
   ]
  },
  {
   "cell_type": "code",
   "execution_count": 25,
   "metadata": {},
   "outputs": [],
   "source": [
    "df2.to_csv('sampleDataset.csv')"
   ]
  }
 ],
 "metadata": {
  "kernelspec": {
   "display_name": "Python 3",
   "language": "python",
   "name": "python3"
  },
  "language_info": {
   "codemirror_mode": {
    "name": "ipython",
    "version": 3
   },
   "file_extension": ".py",
   "mimetype": "text/x-python",
   "name": "python",
   "nbconvert_exporter": "python",
   "pygments_lexer": "ipython3",
   "version": "3.9.13"
  },
  "orig_nbformat": 4,
  "vscode": {
   "interpreter": {
    "hash": "14958d3aee5f1cad06795f787e54b96185c25fb40dfec723a5be941f3a531b8c"
   }
  }
 },
 "nbformat": 4,
 "nbformat_minor": 2
}
