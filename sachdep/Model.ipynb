{
 "cells": [
  {
   "cell_type": "code",
   "execution_count": 1,
   "metadata": {},
   "outputs": [],
   "source": [
    "import pandas as pd"
   ]
  },
  {
   "cell_type": "code",
   "execution_count": 2,
   "metadata": {},
   "outputs": [
    {
     "data": {
      "text/html": [
       "<div>\n",
       "<style scoped>\n",
       "    .dataframe tbody tr th:only-of-type {\n",
       "        vertical-align: middle;\n",
       "    }\n",
       "\n",
       "    .dataframe tbody tr th {\n",
       "        vertical-align: top;\n",
       "    }\n",
       "\n",
       "    .dataframe thead th {\n",
       "        text-align: right;\n",
       "    }\n",
       "</style>\n",
       "<table border=\"1\" class=\"dataframe\">\n",
       "  <thead>\n",
       "    <tr style=\"text-align: right;\">\n",
       "      <th></th>\n",
       "      <th>Name</th>\n",
       "      <th>Time</th>\n",
       "      <th>Store</th>\n",
       "      <th>Comment</th>\n",
       "      <th>Aspect</th>\n",
       "      <th>polarity</th>\n",
       "      <th>'data integration'</th>\n",
       "      <th>'marketing and communication'</th>\n",
       "      <th>'technology'</th>\n",
       "      <th>'payment and checkout'</th>\n",
       "      <th>'shopping experience'</th>\n",
       "      <th>'unemployment'</th>\n",
       "      <th>'product available and store design'</th>\n",
       "      <th>'price and value'</th>\n",
       "      <th>'general'</th>\n",
       "      <th>'privacy and security'</th>\n",
       "    </tr>\n",
       "  </thead>\n",
       "  <tbody>\n",
       "    <tr>\n",
       "      <th>0</th>\n",
       "      <td>Jenae K.</td>\n",
       "      <td>2018-06-01</td>\n",
       "      <td>Amazon Go</td>\n",
       "      <td>store awesome super cool concept definitley se...</td>\n",
       "      <td>[\" 'data integration'\", \" 'marketing and commu...</td>\n",
       "      <td>positive</td>\n",
       "      <td>1.0</td>\n",
       "      <td>1.0</td>\n",
       "      <td>0.0</td>\n",
       "      <td>0.0</td>\n",
       "      <td>0.0</td>\n",
       "      <td>0.0</td>\n",
       "      <td>0.0</td>\n",
       "      <td>0.0</td>\n",
       "      <td>0.0</td>\n",
       "      <td>0.0</td>\n",
       "    </tr>\n",
       "    <tr>\n",
       "      <th>1</th>\n",
       "      <td>Jenae K.</td>\n",
       "      <td>2018-06-01</td>\n",
       "      <td>Amazon Go</td>\n",
       "      <td>scan app enter store grab whatever want shelf ...</td>\n",
       "      <td>[\" 'technology'\", \" 'payment and checkout'\"]</td>\n",
       "      <td>positive</td>\n",
       "      <td>0.0</td>\n",
       "      <td>0.0</td>\n",
       "      <td>1.0</td>\n",
       "      <td>1.0</td>\n",
       "      <td>0.0</td>\n",
       "      <td>0.0</td>\n",
       "      <td>0.0</td>\n",
       "      <td>0.0</td>\n",
       "      <td>0.0</td>\n",
       "      <td>0.0</td>\n",
       "    </tr>\n",
       "    <tr>\n",
       "      <th>2</th>\n",
       "      <td>Jenae K.</td>\n",
       "      <td>2018-06-01</td>\n",
       "      <td>Amazon Go</td>\n",
       "      <td>product shelf sensor know grab item</td>\n",
       "      <td>[\" 'technology'\"]</td>\n",
       "      <td>neutral</td>\n",
       "      <td>0.0</td>\n",
       "      <td>0.0</td>\n",
       "      <td>1.0</td>\n",
       "      <td>0.0</td>\n",
       "      <td>0.0</td>\n",
       "      <td>0.0</td>\n",
       "      <td>0.0</td>\n",
       "      <td>0.0</td>\n",
       "      <td>0.0</td>\n",
       "      <td>0.0</td>\n",
       "    </tr>\n",
       "    <tr>\n",
       "      <th>3</th>\n",
       "      <td>Jenae K.</td>\n",
       "      <td>2018-06-01</td>\n",
       "      <td>Amazon Go</td>\n",
       "      <td>crazy no cashier no line</td>\n",
       "      <td>[\" 'payment and checkout'\"]</td>\n",
       "      <td>negative</td>\n",
       "      <td>0.0</td>\n",
       "      <td>0.0</td>\n",
       "      <td>0.0</td>\n",
       "      <td>1.0</td>\n",
       "      <td>0.0</td>\n",
       "      <td>0.0</td>\n",
       "      <td>0.0</td>\n",
       "      <td>0.0</td>\n",
       "      <td>0.0</td>\n",
       "      <td>0.0</td>\n",
       "    </tr>\n",
       "    <tr>\n",
       "      <th>4</th>\n",
       "      <td>Jenae K.</td>\n",
       "      <td>2018-06-01</td>\n",
       "      <td>Amazon Go</td>\n",
       "      <td>super simple course still worker ensure entran...</td>\n",
       "      <td>[\" 'technology'\", \" 'shopping experience'\", \" ...</td>\n",
       "      <td>positive</td>\n",
       "      <td>0.0</td>\n",
       "      <td>0.0</td>\n",
       "      <td>1.0</td>\n",
       "      <td>1.0</td>\n",
       "      <td>1.0</td>\n",
       "      <td>1.0</td>\n",
       "      <td>0.0</td>\n",
       "      <td>0.0</td>\n",
       "      <td>0.0</td>\n",
       "      <td>0.0</td>\n",
       "    </tr>\n",
       "    <tr>\n",
       "      <th>...</th>\n",
       "      <td>...</td>\n",
       "      <td>...</td>\n",
       "      <td>...</td>\n",
       "      <td>...</td>\n",
       "      <td>...</td>\n",
       "      <td>...</td>\n",
       "      <td>...</td>\n",
       "      <td>...</td>\n",
       "      <td>...</td>\n",
       "      <td>...</td>\n",
       "      <td>...</td>\n",
       "      <td>...</td>\n",
       "      <td>...</td>\n",
       "      <td>...</td>\n",
       "      <td>...</td>\n",
       "      <td>...</td>\n",
       "    </tr>\n",
       "    <tr>\n",
       "      <th>87641</th>\n",
       "      <td>Melissa C.</td>\n",
       "      <td>2020-08-09</td>\n",
       "      <td>Walmart</td>\n",
       "      <td>time worth stop come unless</td>\n",
       "      <td>[\" 'price and value'\"]</td>\n",
       "      <td>negative</td>\n",
       "      <td>0.0</td>\n",
       "      <td>0.0</td>\n",
       "      <td>0.0</td>\n",
       "      <td>0.0</td>\n",
       "      <td>0.0</td>\n",
       "      <td>0.0</td>\n",
       "      <td>0.0</td>\n",
       "      <td>1.0</td>\n",
       "      <td>0.0</td>\n",
       "      <td>0.0</td>\n",
       "    </tr>\n",
       "    <tr>\n",
       "      <th>87642</th>\n",
       "      <td>Mark H.</td>\n",
       "      <td>2020-09-09</td>\n",
       "      <td>Walmart</td>\n",
       "      <td>lose shipment twice row delay order two week s...</td>\n",
       "      <td>[\" 'technology'\", \" 'unemployment'\"]</td>\n",
       "      <td>negative</td>\n",
       "      <td>0.0</td>\n",
       "      <td>0.0</td>\n",
       "      <td>1.0</td>\n",
       "      <td>0.0</td>\n",
       "      <td>0.0</td>\n",
       "      <td>1.0</td>\n",
       "      <td>0.0</td>\n",
       "      <td>0.0</td>\n",
       "      <td>0.0</td>\n",
       "      <td>0.0</td>\n",
       "    </tr>\n",
       "    <tr>\n",
       "      <th>87643</th>\n",
       "      <td>Mark H.</td>\n",
       "      <td>2020-09-09</td>\n",
       "      <td>Walmart</td>\n",
       "      <td>call refund tell would take day get money back</td>\n",
       "      <td>[\" 'price and value'\", \" 'payment and checkout'\"]</td>\n",
       "      <td>neutral</td>\n",
       "      <td>0.0</td>\n",
       "      <td>0.0</td>\n",
       "      <td>0.0</td>\n",
       "      <td>1.0</td>\n",
       "      <td>0.0</td>\n",
       "      <td>0.0</td>\n",
       "      <td>0.0</td>\n",
       "      <td>1.0</td>\n",
       "      <td>0.0</td>\n",
       "      <td>0.0</td>\n",
       "    </tr>\n",
       "    <tr>\n",
       "      <th>87644</th>\n",
       "      <td>Lorna B.</td>\n",
       "      <td>2021-09-09</td>\n",
       "      <td>Walmart</td>\n",
       "      <td>far too many grocery available store not avail...</td>\n",
       "      <td>[\" 'technology'\", \" 'general'\"]</td>\n",
       "      <td>neutral</td>\n",
       "      <td>0.0</td>\n",
       "      <td>0.0</td>\n",
       "      <td>1.0</td>\n",
       "      <td>0.0</td>\n",
       "      <td>0.0</td>\n",
       "      <td>0.0</td>\n",
       "      <td>0.0</td>\n",
       "      <td>0.0</td>\n",
       "      <td>1.0</td>\n",
       "      <td>0.0</td>\n",
       "    </tr>\n",
       "    <tr>\n",
       "      <th>87645</th>\n",
       "      <td>NATISHA J.</td>\n",
       "      <td>2021-09-09</td>\n",
       "      <td>Walmart</td>\n",
       "      <td>place need walmart lead sell good merchandise ...</td>\n",
       "      <td>[\" 'shopping experience'\"]</td>\n",
       "      <td>positive</td>\n",
       "      <td>0.0</td>\n",
       "      <td>0.0</td>\n",
       "      <td>0.0</td>\n",
       "      <td>0.0</td>\n",
       "      <td>1.0</td>\n",
       "      <td>0.0</td>\n",
       "      <td>0.0</td>\n",
       "      <td>0.0</td>\n",
       "      <td>0.0</td>\n",
       "      <td>0.0</td>\n",
       "    </tr>\n",
       "  </tbody>\n",
       "</table>\n",
       "<p>87646 rows × 16 columns</p>\n",
       "</div>"
      ],
      "text/plain": [
       "             Name        Time      Store  \\\n",
       "0        Jenae K.  2018-06-01  Amazon Go   \n",
       "1        Jenae K.  2018-06-01  Amazon Go   \n",
       "2        Jenae K.  2018-06-01  Amazon Go   \n",
       "3        Jenae K.  2018-06-01  Amazon Go   \n",
       "4        Jenae K.  2018-06-01  Amazon Go   \n",
       "...           ...         ...        ...   \n",
       "87641  Melissa C.  2020-08-09    Walmart   \n",
       "87642     Mark H.  2020-09-09    Walmart   \n",
       "87643     Mark H.  2020-09-09    Walmart   \n",
       "87644    Lorna B.  2021-09-09    Walmart   \n",
       "87645  NATISHA J.  2021-09-09    Walmart   \n",
       "\n",
       "                                                 Comment  \\\n",
       "0      store awesome super cool concept definitley se...   \n",
       "1      scan app enter store grab whatever want shelf ...   \n",
       "2                    product shelf sensor know grab item   \n",
       "3                               crazy no cashier no line   \n",
       "4      super simple course still worker ensure entran...   \n",
       "...                                                  ...   \n",
       "87641                        time worth stop come unless   \n",
       "87642  lose shipment twice row delay order two week s...   \n",
       "87643     call refund tell would take day get money back   \n",
       "87644  far too many grocery available store not avail...   \n",
       "87645  place need walmart lead sell good merchandise ...   \n",
       "\n",
       "                                                  Aspect  polarity  \\\n",
       "0      [\" 'data integration'\", \" 'marketing and commu...  positive   \n",
       "1           [\" 'technology'\", \" 'payment and checkout'\"]  positive   \n",
       "2                                      [\" 'technology'\"]   neutral   \n",
       "3                            [\" 'payment and checkout'\"]  negative   \n",
       "4      [\" 'technology'\", \" 'shopping experience'\", \" ...  positive   \n",
       "...                                                  ...       ...   \n",
       "87641                             [\" 'price and value'\"]  negative   \n",
       "87642               [\" 'technology'\", \" 'unemployment'\"]  negative   \n",
       "87643  [\" 'price and value'\", \" 'payment and checkout'\"]   neutral   \n",
       "87644                    [\" 'technology'\", \" 'general'\"]   neutral   \n",
       "87645                         [\" 'shopping experience'\"]  positive   \n",
       "\n",
       "        'data integration'   'marketing and communication'   'technology'  \\\n",
       "0                      1.0                             1.0            0.0   \n",
       "1                      0.0                             0.0            1.0   \n",
       "2                      0.0                             0.0            1.0   \n",
       "3                      0.0                             0.0            0.0   \n",
       "4                      0.0                             0.0            1.0   \n",
       "...                    ...                             ...            ...   \n",
       "87641                  0.0                             0.0            0.0   \n",
       "87642                  0.0                             0.0            1.0   \n",
       "87643                  0.0                             0.0            0.0   \n",
       "87644                  0.0                             0.0            1.0   \n",
       "87645                  0.0                             0.0            0.0   \n",
       "\n",
       "        'payment and checkout'   'shopping experience'   'unemployment'  \\\n",
       "0                          0.0                     0.0              0.0   \n",
       "1                          1.0                     0.0              0.0   \n",
       "2                          0.0                     0.0              0.0   \n",
       "3                          1.0                     0.0              0.0   \n",
       "4                          1.0                     1.0              1.0   \n",
       "...                        ...                     ...              ...   \n",
       "87641                      0.0                     0.0              0.0   \n",
       "87642                      0.0                     0.0              1.0   \n",
       "87643                      1.0                     0.0              0.0   \n",
       "87644                      0.0                     0.0              0.0   \n",
       "87645                      0.0                     1.0              0.0   \n",
       "\n",
       "        'product available and store design'   'price and value'   'general'  \\\n",
       "0                                        0.0                 0.0         0.0   \n",
       "1                                        0.0                 0.0         0.0   \n",
       "2                                        0.0                 0.0         0.0   \n",
       "3                                        0.0                 0.0         0.0   \n",
       "4                                        0.0                 0.0         0.0   \n",
       "...                                      ...                 ...         ...   \n",
       "87641                                    0.0                 1.0         0.0   \n",
       "87642                                    0.0                 0.0         0.0   \n",
       "87643                                    0.0                 1.0         0.0   \n",
       "87644                                    0.0                 0.0         1.0   \n",
       "87645                                    0.0                 0.0         0.0   \n",
       "\n",
       "        'privacy and security'  \n",
       "0                          0.0  \n",
       "1                          0.0  \n",
       "2                          0.0  \n",
       "3                          0.0  \n",
       "4                          0.0  \n",
       "...                        ...  \n",
       "87641                      0.0  \n",
       "87642                      0.0  \n",
       "87643                      0.0  \n",
       "87644                      0.0  \n",
       "87645                      0.0  \n",
       "\n",
       "[87646 rows x 16 columns]"
      ]
     },
     "execution_count": 2,
     "metadata": {},
     "output_type": "execute_result"
    }
   ],
   "source": [
    "# read data\n",
    "df = pd.read_csv('Data_drop_year.csv')\n",
    "df"
   ]
  },
  {
   "cell_type": "code",
   "execution_count": 3,
   "metadata": {},
   "outputs": [],
   "source": [
    "from IPython.display import Markdown, display\n",
    "def printmd(string):\n",
    "    display(Markdown(string))\n",
    "#printmd('**bold**')"
   ]
  },
  {
   "cell_type": "code",
   "execution_count": 4,
   "metadata": {},
   "outputs": [
    {
     "name": "stdout",
     "output_type": "stream",
     "text": [
      "Number of rows in data = 87646\n",
      "Number of columns in data = 16\n",
      "\n",
      "\n"
     ]
    },
    {
     "data": {
      "text/markdown": [
       "**Sample data:**"
      ],
      "text/plain": [
       "<IPython.core.display.Markdown object>"
      ]
     },
     "metadata": {},
     "output_type": "display_data"
    },
    {
     "data": {
      "text/html": [
       "<div>\n",
       "<style scoped>\n",
       "    .dataframe tbody tr th:only-of-type {\n",
       "        vertical-align: middle;\n",
       "    }\n",
       "\n",
       "    .dataframe tbody tr th {\n",
       "        vertical-align: top;\n",
       "    }\n",
       "\n",
       "    .dataframe thead th {\n",
       "        text-align: right;\n",
       "    }\n",
       "</style>\n",
       "<table border=\"1\" class=\"dataframe\">\n",
       "  <thead>\n",
       "    <tr style=\"text-align: right;\">\n",
       "      <th></th>\n",
       "      <th>Name</th>\n",
       "      <th>Time</th>\n",
       "      <th>Store</th>\n",
       "      <th>Comment</th>\n",
       "      <th>Aspect</th>\n",
       "      <th>polarity</th>\n",
       "      <th>'data integration'</th>\n",
       "      <th>'marketing and communication'</th>\n",
       "      <th>'technology'</th>\n",
       "      <th>'payment and checkout'</th>\n",
       "      <th>'shopping experience'</th>\n",
       "      <th>'unemployment'</th>\n",
       "      <th>'product available and store design'</th>\n",
       "      <th>'price and value'</th>\n",
       "      <th>'general'</th>\n",
       "      <th>'privacy and security'</th>\n",
       "    </tr>\n",
       "  </thead>\n",
       "  <tbody>\n",
       "    <tr>\n",
       "      <th>0</th>\n",
       "      <td>Jenae K.</td>\n",
       "      <td>2018-06-01</td>\n",
       "      <td>Amazon Go</td>\n",
       "      <td>store awesome super cool concept definitley se...</td>\n",
       "      <td>[\" 'data integration'\", \" 'marketing and commu...</td>\n",
       "      <td>positive</td>\n",
       "      <td>1.0</td>\n",
       "      <td>1.0</td>\n",
       "      <td>0.0</td>\n",
       "      <td>0.0</td>\n",
       "      <td>0.0</td>\n",
       "      <td>0.0</td>\n",
       "      <td>0.0</td>\n",
       "      <td>0.0</td>\n",
       "      <td>0.0</td>\n",
       "      <td>0.0</td>\n",
       "    </tr>\n",
       "    <tr>\n",
       "      <th>1</th>\n",
       "      <td>Jenae K.</td>\n",
       "      <td>2018-06-01</td>\n",
       "      <td>Amazon Go</td>\n",
       "      <td>scan app enter store grab whatever want shelf ...</td>\n",
       "      <td>[\" 'technology'\", \" 'payment and checkout'\"]</td>\n",
       "      <td>positive</td>\n",
       "      <td>0.0</td>\n",
       "      <td>0.0</td>\n",
       "      <td>1.0</td>\n",
       "      <td>1.0</td>\n",
       "      <td>0.0</td>\n",
       "      <td>0.0</td>\n",
       "      <td>0.0</td>\n",
       "      <td>0.0</td>\n",
       "      <td>0.0</td>\n",
       "      <td>0.0</td>\n",
       "    </tr>\n",
       "    <tr>\n",
       "      <th>2</th>\n",
       "      <td>Jenae K.</td>\n",
       "      <td>2018-06-01</td>\n",
       "      <td>Amazon Go</td>\n",
       "      <td>product shelf sensor know grab item</td>\n",
       "      <td>[\" 'technology'\"]</td>\n",
       "      <td>neutral</td>\n",
       "      <td>0.0</td>\n",
       "      <td>0.0</td>\n",
       "      <td>1.0</td>\n",
       "      <td>0.0</td>\n",
       "      <td>0.0</td>\n",
       "      <td>0.0</td>\n",
       "      <td>0.0</td>\n",
       "      <td>0.0</td>\n",
       "      <td>0.0</td>\n",
       "      <td>0.0</td>\n",
       "    </tr>\n",
       "    <tr>\n",
       "      <th>3</th>\n",
       "      <td>Jenae K.</td>\n",
       "      <td>2018-06-01</td>\n",
       "      <td>Amazon Go</td>\n",
       "      <td>crazy no cashier no line</td>\n",
       "      <td>[\" 'payment and checkout'\"]</td>\n",
       "      <td>negative</td>\n",
       "      <td>0.0</td>\n",
       "      <td>0.0</td>\n",
       "      <td>0.0</td>\n",
       "      <td>1.0</td>\n",
       "      <td>0.0</td>\n",
       "      <td>0.0</td>\n",
       "      <td>0.0</td>\n",
       "      <td>0.0</td>\n",
       "      <td>0.0</td>\n",
       "      <td>0.0</td>\n",
       "    </tr>\n",
       "    <tr>\n",
       "      <th>4</th>\n",
       "      <td>Jenae K.</td>\n",
       "      <td>2018-06-01</td>\n",
       "      <td>Amazon Go</td>\n",
       "      <td>super simple course still worker ensure entran...</td>\n",
       "      <td>[\" 'technology'\", \" 'shopping experience'\", \" ...</td>\n",
       "      <td>positive</td>\n",
       "      <td>0.0</td>\n",
       "      <td>0.0</td>\n",
       "      <td>1.0</td>\n",
       "      <td>1.0</td>\n",
       "      <td>1.0</td>\n",
       "      <td>1.0</td>\n",
       "      <td>0.0</td>\n",
       "      <td>0.0</td>\n",
       "      <td>0.0</td>\n",
       "      <td>0.0</td>\n",
       "    </tr>\n",
       "  </tbody>\n",
       "</table>\n",
       "</div>"
      ],
      "text/plain": [
       "       Name        Time      Store  \\\n",
       "0  Jenae K.  2018-06-01  Amazon Go   \n",
       "1  Jenae K.  2018-06-01  Amazon Go   \n",
       "2  Jenae K.  2018-06-01  Amazon Go   \n",
       "3  Jenae K.  2018-06-01  Amazon Go   \n",
       "4  Jenae K.  2018-06-01  Amazon Go   \n",
       "\n",
       "                                             Comment  \\\n",
       "0  store awesome super cool concept definitley se...   \n",
       "1  scan app enter store grab whatever want shelf ...   \n",
       "2                product shelf sensor know grab item   \n",
       "3                           crazy no cashier no line   \n",
       "4  super simple course still worker ensure entran...   \n",
       "\n",
       "                                              Aspect  polarity  \\\n",
       "0  [\" 'data integration'\", \" 'marketing and commu...  positive   \n",
       "1       [\" 'technology'\", \" 'payment and checkout'\"]  positive   \n",
       "2                                  [\" 'technology'\"]   neutral   \n",
       "3                        [\" 'payment and checkout'\"]  negative   \n",
       "4  [\" 'technology'\", \" 'shopping experience'\", \" ...  positive   \n",
       "\n",
       "    'data integration'   'marketing and communication'   'technology'  \\\n",
       "0                  1.0                             1.0            0.0   \n",
       "1                  0.0                             0.0            1.0   \n",
       "2                  0.0                             0.0            1.0   \n",
       "3                  0.0                             0.0            0.0   \n",
       "4                  0.0                             0.0            1.0   \n",
       "\n",
       "    'payment and checkout'   'shopping experience'   'unemployment'  \\\n",
       "0                      0.0                     0.0              0.0   \n",
       "1                      1.0                     0.0              0.0   \n",
       "2                      0.0                     0.0              0.0   \n",
       "3                      1.0                     0.0              0.0   \n",
       "4                      1.0                     1.0              1.0   \n",
       "\n",
       "    'product available and store design'   'price and value'   'general'  \\\n",
       "0                                    0.0                 0.0         0.0   \n",
       "1                                    0.0                 0.0         0.0   \n",
       "2                                    0.0                 0.0         0.0   \n",
       "3                                    0.0                 0.0         0.0   \n",
       "4                                    0.0                 0.0         0.0   \n",
       "\n",
       "    'privacy and security'  \n",
       "0                      0.0  \n",
       "1                      0.0  \n",
       "2                      0.0  \n",
       "3                      0.0  \n",
       "4                      0.0  "
      ]
     },
     "execution_count": 4,
     "metadata": {},
     "output_type": "execute_result"
    }
   ],
   "source": [
    "print(\"Number of rows in data =\",df.shape[0])\n",
    "print(\"Number of columns in data =\",df.shape[1])\n",
    "print(\"\\n\")\n",
    "printmd(\"**Sample data:**\")\n",
    "df.head()"
   ]
  },
  {
   "cell_type": "code",
   "execution_count": 5,
   "metadata": {},
   "outputs": [
    {
     "name": "stdout",
     "output_type": "stream",
     "text": [
      "[\" 'data integration'\", \" 'marketing and communication'\", \" 'technology'\", \" 'payment and checkout'\", \" 'shopping experience'\", \" 'unemployment'\", \" 'product available and store design'\", \" 'price and value'\", \" 'general'\", \" 'privacy and security'\"]\n"
     ]
    }
   ],
   "source": [
    "categories = list(df.columns.values)\n",
    "categories = categories[6:]\n",
    "print(categories)"
   ]
  },
  {
   "cell_type": "code",
   "execution_count": 6,
   "metadata": {},
   "outputs": [
    {
     "name": "stdout",
     "output_type": "stream",
     "text": [
      "(61352, 16)\n",
      "(26294, 16)\n"
     ]
    }
   ],
   "source": [
    "from sklearn.model_selection import train_test_split\n",
    "\n",
    "train, test = train_test_split(df, random_state=42, test_size=0.30, shuffle=True)\n",
    "\n",
    "print(train.shape)\n",
    "print(test.shape)"
   ]
  },
  {
   "cell_type": "code",
   "execution_count": 7,
   "metadata": {},
   "outputs": [],
   "source": [
    "train_text = train['Comment']\n",
    "test_text = test['Comment']"
   ]
  },
  {
   "cell_type": "code",
   "execution_count": 8,
   "metadata": {},
   "outputs": [
    {
     "data": {
      "text/html": [
       "<style>#sk-container-id-1 {color: black;background-color: white;}#sk-container-id-1 pre{padding: 0;}#sk-container-id-1 div.sk-toggleable {background-color: white;}#sk-container-id-1 label.sk-toggleable__label {cursor: pointer;display: block;width: 100%;margin-bottom: 0;padding: 0.3em;box-sizing: border-box;text-align: center;}#sk-container-id-1 label.sk-toggleable__label-arrow:before {content: \"▸\";float: left;margin-right: 0.25em;color: #696969;}#sk-container-id-1 label.sk-toggleable__label-arrow:hover:before {color: black;}#sk-container-id-1 div.sk-estimator:hover label.sk-toggleable__label-arrow:before {color: black;}#sk-container-id-1 div.sk-toggleable__content {max-height: 0;max-width: 0;overflow: hidden;text-align: left;background-color: #f0f8ff;}#sk-container-id-1 div.sk-toggleable__content pre {margin: 0.2em;color: black;border-radius: 0.25em;background-color: #f0f8ff;}#sk-container-id-1 input.sk-toggleable__control:checked~div.sk-toggleable__content {max-height: 200px;max-width: 100%;overflow: auto;}#sk-container-id-1 input.sk-toggleable__control:checked~label.sk-toggleable__label-arrow:before {content: \"▾\";}#sk-container-id-1 div.sk-estimator input.sk-toggleable__control:checked~label.sk-toggleable__label {background-color: #d4ebff;}#sk-container-id-1 div.sk-label input.sk-toggleable__control:checked~label.sk-toggleable__label {background-color: #d4ebff;}#sk-container-id-1 input.sk-hidden--visually {border: 0;clip: rect(1px 1px 1px 1px);clip: rect(1px, 1px, 1px, 1px);height: 1px;margin: -1px;overflow: hidden;padding: 0;position: absolute;width: 1px;}#sk-container-id-1 div.sk-estimator {font-family: monospace;background-color: #f0f8ff;border: 1px dotted black;border-radius: 0.25em;box-sizing: border-box;margin-bottom: 0.5em;}#sk-container-id-1 div.sk-estimator:hover {background-color: #d4ebff;}#sk-container-id-1 div.sk-parallel-item::after {content: \"\";width: 100%;border-bottom: 1px solid gray;flex-grow: 1;}#sk-container-id-1 div.sk-label:hover label.sk-toggleable__label {background-color: #d4ebff;}#sk-container-id-1 div.sk-serial::before {content: \"\";position: absolute;border-left: 1px solid gray;box-sizing: border-box;top: 0;bottom: 0;left: 50%;z-index: 0;}#sk-container-id-1 div.sk-serial {display: flex;flex-direction: column;align-items: center;background-color: white;padding-right: 0.2em;padding-left: 0.2em;position: relative;}#sk-container-id-1 div.sk-item {position: relative;z-index: 1;}#sk-container-id-1 div.sk-parallel {display: flex;align-items: stretch;justify-content: center;background-color: white;position: relative;}#sk-container-id-1 div.sk-item::before, #sk-container-id-1 div.sk-parallel-item::before {content: \"\";position: absolute;border-left: 1px solid gray;box-sizing: border-box;top: 0;bottom: 0;left: 50%;z-index: -1;}#sk-container-id-1 div.sk-parallel-item {display: flex;flex-direction: column;z-index: 1;position: relative;background-color: white;}#sk-container-id-1 div.sk-parallel-item:first-child::after {align-self: flex-end;width: 50%;}#sk-container-id-1 div.sk-parallel-item:last-child::after {align-self: flex-start;width: 50%;}#sk-container-id-1 div.sk-parallel-item:only-child::after {width: 0;}#sk-container-id-1 div.sk-dashed-wrapped {border: 1px dashed gray;margin: 0 0.4em 0.5em 0.4em;box-sizing: border-box;padding-bottom: 0.4em;background-color: white;}#sk-container-id-1 div.sk-label label {font-family: monospace;font-weight: bold;display: inline-block;line-height: 1.2em;}#sk-container-id-1 div.sk-label-container {text-align: center;}#sk-container-id-1 div.sk-container {/* jupyter's `normalize.less` sets `[hidden] { display: none; }` but bootstrap.min.css set `[hidden] { display: none !important; }` so we also need the `!important` here to be able to override the default hidden behavior on the sphinx rendered scikit-learn.org. See: https://github.com/scikit-learn/scikit-learn/issues/21755 */display: inline-block !important;position: relative;}#sk-container-id-1 div.sk-text-repr-fallback {display: none;}</style><div id=\"sk-container-id-1\" class=\"sk-top-container\"><div class=\"sk-text-repr-fallback\"><pre>TfidfVectorizer(ngram_range=(1, 3), strip_accents=&#x27;unicode&#x27;)</pre><b>In a Jupyter environment, please rerun this cell to show the HTML representation or trust the notebook. <br />On GitHub, the HTML representation is unable to render, please try loading this page with nbviewer.org.</b></div><div class=\"sk-container\" hidden><div class=\"sk-item\"><div class=\"sk-estimator sk-toggleable\"><input class=\"sk-toggleable__control sk-hidden--visually\" id=\"sk-estimator-id-1\" type=\"checkbox\" checked><label for=\"sk-estimator-id-1\" class=\"sk-toggleable__label sk-toggleable__label-arrow\">TfidfVectorizer</label><div class=\"sk-toggleable__content\"><pre>TfidfVectorizer(ngram_range=(1, 3), strip_accents=&#x27;unicode&#x27;)</pre></div></div></div></div></div>"
      ],
      "text/plain": [
       "TfidfVectorizer(ngram_range=(1, 3), strip_accents='unicode')"
      ]
     },
     "execution_count": 8,
     "metadata": {},
     "output_type": "execute_result"
    }
   ],
   "source": [
    "from sklearn.feature_extraction.text import TfidfVectorizer\n",
    "vectorizer = TfidfVectorizer(strip_accents='unicode', analyzer='word', ngram_range=(1,3), norm='l2')\n",
    "vectorizer.fit(train_text)\n",
    "vectorizer.fit(test_text)"
   ]
  },
  {
   "cell_type": "code",
   "execution_count": 9,
   "metadata": {},
   "outputs": [],
   "source": [
    "x_train = vectorizer.transform(train_text)\n",
    "y_train = train.drop(labels = ['Comment','Name','Time','Store'], axis=1)\n",
    "\n",
    "x_test = vectorizer.transform(test_text)\n",
    "y_test = test.drop(labels = ['Comment','Name','Time','Store'], axis=1)"
   ]
  },
  {
   "cell_type": "code",
   "execution_count": 10,
   "metadata": {},
   "outputs": [],
   "source": [
    "from sklearn.linear_model import LogisticRegression\n",
    "from sklearn.pipeline import Pipeline\n",
    "from sklearn.metrics import accuracy_score\n",
    "from sklearn.multiclass import OneVsRestClassifier"
   ]
  },
  {
   "cell_type": "code",
   "execution_count": 11,
   "metadata": {},
   "outputs": [
    {
     "data": {
      "text/markdown": [
       "**Processing  'data integration' comments...**"
      ],
      "text/plain": [
       "<IPython.core.display.Markdown object>"
      ]
     },
     "metadata": {},
     "output_type": "display_data"
    },
    {
     "name": "stdout",
     "output_type": "stream",
     "text": [
      "Test accuracy is 0.9763824446641819\n",
      "\n",
      "\n"
     ]
    },
    {
     "data": {
      "text/markdown": [
       "**Processing  'marketing and communication' comments...**"
      ],
      "text/plain": [
       "<IPython.core.display.Markdown object>"
      ]
     },
     "metadata": {},
     "output_type": "display_data"
    },
    {
     "name": "stdout",
     "output_type": "stream",
     "text": [
      "Test accuracy is 0.9628052027078421\n",
      "\n",
      "\n"
     ]
    },
    {
     "data": {
      "text/markdown": [
       "**Processing  'technology' comments...**"
      ],
      "text/plain": [
       "<IPython.core.display.Markdown object>"
      ]
     },
     "metadata": {},
     "output_type": "display_data"
    },
    {
     "name": "stdout",
     "output_type": "stream",
     "text": [
      "Test accuracy is 0.8988362364037423\n",
      "\n",
      "\n"
     ]
    },
    {
     "data": {
      "text/markdown": [
       "**Processing  'payment and checkout' comments...**"
      ],
      "text/plain": [
       "<IPython.core.display.Markdown object>"
      ]
     },
     "metadata": {},
     "output_type": "display_data"
    },
    {
     "name": "stdout",
     "output_type": "stream",
     "text": [
      "Test accuracy is 0.8773104130219822\n",
      "\n",
      "\n"
     ]
    },
    {
     "data": {
      "text/markdown": [
       "**Processing  'shopping experience' comments...**"
      ],
      "text/plain": [
       "<IPython.core.display.Markdown object>"
      ]
     },
     "metadata": {},
     "output_type": "display_data"
    },
    {
     "name": "stdout",
     "output_type": "stream",
     "text": [
      "Test accuracy is 0.8892142694150756\n",
      "\n",
      "\n"
     ]
    },
    {
     "data": {
      "text/markdown": [
       "**Processing  'unemployment' comments...**"
      ],
      "text/plain": [
       "<IPython.core.display.Markdown object>"
      ]
     },
     "metadata": {},
     "output_type": "display_data"
    },
    {
     "name": "stdout",
     "output_type": "stream",
     "text": [
      "Test accuracy is 0.9339012702517685\n",
      "\n",
      "\n"
     ]
    },
    {
     "data": {
      "text/markdown": [
       "**Processing  'product available and store design' comments...**"
      ],
      "text/plain": [
       "<IPython.core.display.Markdown object>"
      ]
     },
     "metadata": {},
     "output_type": "display_data"
    },
    {
     "name": "stdout",
     "output_type": "stream",
     "text": [
      "Test accuracy is 0.9407849699551228\n",
      "\n",
      "\n"
     ]
    },
    {
     "data": {
      "text/markdown": [
       "**Processing  'price and value' comments...**"
      ],
      "text/plain": [
       "<IPython.core.display.Markdown object>"
      ]
     },
     "metadata": {},
     "output_type": "display_data"
    },
    {
     "name": "stdout",
     "output_type": "stream",
     "text": [
      "Test accuracy is 0.921312847037347\n",
      "\n",
      "\n"
     ]
    },
    {
     "data": {
      "text/markdown": [
       "**Processing  'general' comments...**"
      ],
      "text/plain": [
       "<IPython.core.display.Markdown object>"
      ]
     },
     "metadata": {},
     "output_type": "display_data"
    },
    {
     "name": "stdout",
     "output_type": "stream",
     "text": [
      "Test accuracy is 0.8915341903095764\n",
      "\n",
      "\n"
     ]
    },
    {
     "data": {
      "text/markdown": [
       "**Processing  'privacy and security' comments...**"
      ],
      "text/plain": [
       "<IPython.core.display.Markdown object>"
      ]
     },
     "metadata": {},
     "output_type": "display_data"
    },
    {
     "name": "stdout",
     "output_type": "stream",
     "text": [
      "Test accuracy is 0.93572678177531\n",
      "\n",
      "\n",
      "CPU times: total: 656 ms\n",
      "Wall time: 19.9 s\n"
     ]
    }
   ],
   "source": [
    "%%time\n",
    "\n",
    "# Using pipeline for applying logistic regression and one vs rest classifier\n",
    "LogReg_pipeline = Pipeline([\n",
    "                ('clf', OneVsRestClassifier(LogisticRegression(solver='sag'), n_jobs=-1)),\n",
    "            ])\n",
    "\n",
    "for category in categories:\n",
    "    printmd('**Processing {} comments...**'.format(category))\n",
    "    \n",
    "    # Training logistic regression model on train data\n",
    "    LogReg_pipeline.fit(x_train, train[category])\n",
    "    \n",
    "    # calculating test accuracy\n",
    "    prediction = LogReg_pipeline.predict(x_test)\n",
    "    print('Test accuracy is {}'.format(accuracy_score(test[category], prediction)))\n",
    "    print(\"\\n\")"
   ]
  },
  {
   "attachments": {},
   "cell_type": "markdown",
   "metadata": {},
   "source": [
    "# Test ROC"
   ]
  },
  {
   "cell_type": "code",
   "execution_count": 12,
   "metadata": {},
   "outputs": [],
   "source": [
    "# create train and test data\n",
    "X_train, X_test, y_train, y_test = train_test_split(df['Comment'], df.drop(['Name','Time','Store','Comment','Aspect','polarity'],axis=1), test_size=0.2, random_state=42)"
   ]
  },
  {
   "cell_type": "code",
   "execution_count": 13,
   "metadata": {},
   "outputs": [
    {
     "data": {
      "text/html": [
       "<div>\n",
       "<style scoped>\n",
       "    .dataframe tbody tr th:only-of-type {\n",
       "        vertical-align: middle;\n",
       "    }\n",
       "\n",
       "    .dataframe tbody tr th {\n",
       "        vertical-align: top;\n",
       "    }\n",
       "\n",
       "    .dataframe thead th {\n",
       "        text-align: right;\n",
       "    }\n",
       "</style>\n",
       "<table border=\"1\" class=\"dataframe\">\n",
       "  <thead>\n",
       "    <tr style=\"text-align: right;\">\n",
       "      <th></th>\n",
       "      <th>'data integration'</th>\n",
       "      <th>'marketing and communication'</th>\n",
       "      <th>'technology'</th>\n",
       "      <th>'payment and checkout'</th>\n",
       "      <th>'shopping experience'</th>\n",
       "      <th>'unemployment'</th>\n",
       "      <th>'product available and store design'</th>\n",
       "      <th>'price and value'</th>\n",
       "      <th>'general'</th>\n",
       "      <th>'privacy and security'</th>\n",
       "    </tr>\n",
       "  </thead>\n",
       "  <tbody>\n",
       "    <tr>\n",
       "      <th>1647</th>\n",
       "      <td>0.0</td>\n",
       "      <td>0.0</td>\n",
       "      <td>1.0</td>\n",
       "      <td>1.0</td>\n",
       "      <td>0.0</td>\n",
       "      <td>0.0</td>\n",
       "      <td>0.0</td>\n",
       "      <td>0.0</td>\n",
       "      <td>0.0</td>\n",
       "      <td>0.0</td>\n",
       "    </tr>\n",
       "    <tr>\n",
       "      <th>39155</th>\n",
       "      <td>0.0</td>\n",
       "      <td>0.0</td>\n",
       "      <td>0.0</td>\n",
       "      <td>0.0</td>\n",
       "      <td>0.0</td>\n",
       "      <td>0.0</td>\n",
       "      <td>0.0</td>\n",
       "      <td>1.0</td>\n",
       "      <td>0.0</td>\n",
       "      <td>0.0</td>\n",
       "    </tr>\n",
       "    <tr>\n",
       "      <th>52561</th>\n",
       "      <td>0.0</td>\n",
       "      <td>0.0</td>\n",
       "      <td>1.0</td>\n",
       "      <td>0.0</td>\n",
       "      <td>0.0</td>\n",
       "      <td>0.0</td>\n",
       "      <td>0.0</td>\n",
       "      <td>0.0</td>\n",
       "      <td>0.0</td>\n",
       "      <td>0.0</td>\n",
       "    </tr>\n",
       "    <tr>\n",
       "      <th>21969</th>\n",
       "      <td>0.0</td>\n",
       "      <td>0.0</td>\n",
       "      <td>0.0</td>\n",
       "      <td>0.0</td>\n",
       "      <td>1.0</td>\n",
       "      <td>0.0</td>\n",
       "      <td>0.0</td>\n",
       "      <td>0.0</td>\n",
       "      <td>0.0</td>\n",
       "      <td>0.0</td>\n",
       "    </tr>\n",
       "    <tr>\n",
       "      <th>87221</th>\n",
       "      <td>0.0</td>\n",
       "      <td>0.0</td>\n",
       "      <td>1.0</td>\n",
       "      <td>0.0</td>\n",
       "      <td>0.0</td>\n",
       "      <td>0.0</td>\n",
       "      <td>0.0</td>\n",
       "      <td>0.0</td>\n",
       "      <td>1.0</td>\n",
       "      <td>0.0</td>\n",
       "    </tr>\n",
       "  </tbody>\n",
       "</table>\n",
       "</div>"
      ],
      "text/plain": [
       "        'data integration'   'marketing and communication'   'technology'  \\\n",
       "1647                   0.0                             0.0            1.0   \n",
       "39155                  0.0                             0.0            0.0   \n",
       "52561                  0.0                             0.0            1.0   \n",
       "21969                  0.0                             0.0            0.0   \n",
       "87221                  0.0                             0.0            1.0   \n",
       "\n",
       "        'payment and checkout'   'shopping experience'   'unemployment'  \\\n",
       "1647                       1.0                     0.0              0.0   \n",
       "39155                      0.0                     0.0              0.0   \n",
       "52561                      0.0                     0.0              0.0   \n",
       "21969                      0.0                     1.0              0.0   \n",
       "87221                      0.0                     0.0              0.0   \n",
       "\n",
       "        'product available and store design'   'price and value'   'general'  \\\n",
       "1647                                     0.0                 0.0         0.0   \n",
       "39155                                    0.0                 1.0         0.0   \n",
       "52561                                    0.0                 0.0         0.0   \n",
       "21969                                    0.0                 0.0         0.0   \n",
       "87221                                    0.0                 0.0         1.0   \n",
       "\n",
       "        'privacy and security'  \n",
       "1647                       0.0  \n",
       "39155                      0.0  \n",
       "52561                      0.0  \n",
       "21969                      0.0  \n",
       "87221                      0.0  "
      ]
     },
     "execution_count": 13,
     "metadata": {},
     "output_type": "execute_result"
    }
   ],
   "source": [
    "y_train.head()"
   ]
  },
  {
   "cell_type": "code",
   "execution_count": 14,
   "metadata": {},
   "outputs": [],
   "source": [
    "# create a pipeline for logistic regression with onevsrest classifier and tfidf vectorizer\n",
    "from sklearn.pipeline import Pipeline\n",
    "from sklearn.feature_extraction.text import TfidfVectorizer\n",
    "from sklearn.multiclass import OneVsRestClassifier\n",
    "from sklearn.linear_model import LogisticRegression\n",
    "\n",
    "# import roc_auc_score\n",
    "from sklearn.metrics import roc_auc_score\n",
    "\n",
    "# create a pipeline\n",
    "logPipeline = Pipeline([\n",
    "    ('tfidf', TfidfVectorizer(max_df=0.8, max_features=5000)),\n",
    "    ('clf', OneVsRestClassifier(LogisticRegression(solver='sag'), n_jobs=1)),\n",
    "])"
   ]
  },
  {
   "cell_type": "code",
   "execution_count": 15,
   "metadata": {},
   "outputs": [
    {
     "name": "stdout",
     "output_type": "stream",
     "text": [
      "Accuracy =  0.7066172276098117\n",
      "roc_auc_score =  0.8506137895334195\n"
     ]
    }
   ],
   "source": [
    "# fit the training dataset on the pipeline\n",
    "logPipeline.fit(X_train, y_train)\n",
    "\n",
    "# make predictions and get the accuracy\n",
    "predictions = logPipeline.predict(X_test)\n",
    "\n",
    "# accuracy\n",
    "print(\"Accuracy = \",accuracy_score(y_test,predictions))\n",
    "\n",
    "# roc_auc_score\n",
    "print(\"roc_auc_score = \",roc_auc_score(y_test,predictions))"
   ]
  },
  {
   "cell_type": "code",
   "execution_count": 16,
   "metadata": {},
   "outputs": [],
   "source": [
    "y_train_pred_proba = logPipeline.predict_proba(X_train)\n",
    "y_valid_pred_proba = logPipeline.predict_proba(X_test)"
   ]
  },
  {
   "cell_type": "code",
   "execution_count": 17,
   "metadata": {},
   "outputs": [
    {
     "name": "stdout",
     "output_type": "stream",
     "text": [
      "ROC AUC Score Train: 0.9867161320740917\n",
      "ROC AUC Score Test: 0.9823538048117171\n"
     ]
    }
   ],
   "source": [
    "roc_auc_score_train = roc_auc_score(y_train, y_train_pred_proba,average='weighted')\n",
    "roc_auc_score_test = roc_auc_score(y_test, y_valid_pred_proba,average='weighted')\n",
    "\n",
    "print(\"ROC AUC Score Train:\", roc_auc_score_train)\n",
    "print(\"ROC AUC Score Test:\", roc_auc_score_test)"
   ]
  },
  {
   "attachments": {},
   "cell_type": "markdown",
   "metadata": {},
   "source": [
    "# Create pipeline with k-fold cross validation"
   ]
  },
  {
   "cell_type": "code",
   "execution_count": 42,
   "metadata": {},
   "outputs": [],
   "source": [
    "# new train and test data\n",
    "X_train, X_test, y_train, y_test = train_test_split(df['Comment'], df.drop(['Name','Time','Store','Comment','Aspect','polarity'],axis=1), test_size=0.2, random_state=42)"
   ]
  },
  {
   "cell_type": "code",
   "execution_count": 36,
   "metadata": {},
   "outputs": [
    {
     "data": {
      "text/html": [
       "<div>\n",
       "<style scoped>\n",
       "    .dataframe tbody tr th:only-of-type {\n",
       "        vertical-align: middle;\n",
       "    }\n",
       "\n",
       "    .dataframe tbody tr th {\n",
       "        vertical-align: top;\n",
       "    }\n",
       "\n",
       "    .dataframe thead th {\n",
       "        text-align: right;\n",
       "    }\n",
       "</style>\n",
       "<table border=\"1\" class=\"dataframe\">\n",
       "  <thead>\n",
       "    <tr style=\"text-align: right;\">\n",
       "      <th></th>\n",
       "      <th>'data integration'</th>\n",
       "      <th>'marketing and communication'</th>\n",
       "      <th>'technology'</th>\n",
       "      <th>'payment and checkout'</th>\n",
       "      <th>'shopping experience'</th>\n",
       "      <th>'unemployment'</th>\n",
       "      <th>'product available and store design'</th>\n",
       "      <th>'price and value'</th>\n",
       "      <th>'general'</th>\n",
       "      <th>'privacy and security'</th>\n",
       "    </tr>\n",
       "  </thead>\n",
       "  <tbody>\n",
       "    <tr>\n",
       "      <th>1647</th>\n",
       "      <td>0.0</td>\n",
       "      <td>0.0</td>\n",
       "      <td>1.0</td>\n",
       "      <td>1.0</td>\n",
       "      <td>0.0</td>\n",
       "      <td>0.0</td>\n",
       "      <td>0.0</td>\n",
       "      <td>0.0</td>\n",
       "      <td>0.0</td>\n",
       "      <td>0.0</td>\n",
       "    </tr>\n",
       "    <tr>\n",
       "      <th>39155</th>\n",
       "      <td>0.0</td>\n",
       "      <td>0.0</td>\n",
       "      <td>0.0</td>\n",
       "      <td>0.0</td>\n",
       "      <td>0.0</td>\n",
       "      <td>0.0</td>\n",
       "      <td>0.0</td>\n",
       "      <td>1.0</td>\n",
       "      <td>0.0</td>\n",
       "      <td>0.0</td>\n",
       "    </tr>\n",
       "    <tr>\n",
       "      <th>52561</th>\n",
       "      <td>0.0</td>\n",
       "      <td>0.0</td>\n",
       "      <td>1.0</td>\n",
       "      <td>0.0</td>\n",
       "      <td>0.0</td>\n",
       "      <td>0.0</td>\n",
       "      <td>0.0</td>\n",
       "      <td>0.0</td>\n",
       "      <td>0.0</td>\n",
       "      <td>0.0</td>\n",
       "    </tr>\n",
       "    <tr>\n",
       "      <th>21969</th>\n",
       "      <td>0.0</td>\n",
       "      <td>0.0</td>\n",
       "      <td>0.0</td>\n",
       "      <td>0.0</td>\n",
       "      <td>1.0</td>\n",
       "      <td>0.0</td>\n",
       "      <td>0.0</td>\n",
       "      <td>0.0</td>\n",
       "      <td>0.0</td>\n",
       "      <td>0.0</td>\n",
       "    </tr>\n",
       "    <tr>\n",
       "      <th>87221</th>\n",
       "      <td>0.0</td>\n",
       "      <td>0.0</td>\n",
       "      <td>1.0</td>\n",
       "      <td>0.0</td>\n",
       "      <td>0.0</td>\n",
       "      <td>0.0</td>\n",
       "      <td>0.0</td>\n",
       "      <td>0.0</td>\n",
       "      <td>1.0</td>\n",
       "      <td>0.0</td>\n",
       "    </tr>\n",
       "  </tbody>\n",
       "</table>\n",
       "</div>"
      ],
      "text/plain": [
       "        'data integration'   'marketing and communication'   'technology'  \\\n",
       "1647                   0.0                             0.0            1.0   \n",
       "39155                  0.0                             0.0            0.0   \n",
       "52561                  0.0                             0.0            1.0   \n",
       "21969                  0.0                             0.0            0.0   \n",
       "87221                  0.0                             0.0            1.0   \n",
       "\n",
       "        'payment and checkout'   'shopping experience'   'unemployment'  \\\n",
       "1647                       1.0                     0.0              0.0   \n",
       "39155                      0.0                     0.0              0.0   \n",
       "52561                      0.0                     0.0              0.0   \n",
       "21969                      0.0                     1.0              0.0   \n",
       "87221                      0.0                     0.0              0.0   \n",
       "\n",
       "        'product available and store design'   'price and value'   'general'  \\\n",
       "1647                                     0.0                 0.0         0.0   \n",
       "39155                                    0.0                 1.0         0.0   \n",
       "52561                                    0.0                 0.0         0.0   \n",
       "21969                                    0.0                 0.0         0.0   \n",
       "87221                                    0.0                 0.0         1.0   \n",
       "\n",
       "        'privacy and security'  \n",
       "1647                       0.0  \n",
       "39155                      0.0  \n",
       "52561                      0.0  \n",
       "21969                      0.0  \n",
       "87221                      0.0  "
      ]
     },
     "execution_count": 36,
     "metadata": {},
     "output_type": "execute_result"
    }
   ],
   "source": [
    "y_train.head()"
   ]
  },
  {
   "cell_type": "code",
   "execution_count": 43,
   "metadata": {},
   "outputs": [],
   "source": [
    "# vectorize the text \n",
    "from sklearn.feature_extraction.text import TfidfVectorizer\n",
    "TfidfVectorizer = TfidfVectorizer(max_df=0.8, max_features=5000, ngram_range=(1,2))\n",
    "\n",
    "# fit and transform train and test features\n",
    "X_train_tfidf = TfidfVectorizer.fit_transform(X_train)\n",
    "X_test_tfidf = TfidfVectorizer.transform(X_test)"
   ]
  },
  {
   "cell_type": "code",
   "execution_count": 44,
   "metadata": {},
   "outputs": [
    {
     "name": "stdout",
     "output_type": "stream",
     "text": [
      "Mean ROC AUC score:  0.978722503260473\n",
      "ROC AUC scores:  [0.97846985 0.97744729 0.97855107 0.97853679 0.97896844 0.97839539\n",
      " 0.97929878 0.97923092 0.9782972  0.9800293 ]\n"
     ]
    }
   ],
   "source": [
    "# cross validation for logistic regression with onevsrest classifier\n",
    "from sklearn.model_selection import cross_val_score\n",
    "from sklearn.linear_model import LogisticRegression\n",
    "from sklearn.multiclass import OneVsRestClassifier\n",
    "\n",
    "# onerest classifier with kfold cv\n",
    "clf = OneVsRestClassifier(LogisticRegression(solver='sag'), n_jobs=1)\n",
    "scores = cross_val_score(clf, X_train_tfidf, y_train, cv=10, scoring='roc_auc')\n",
    "\n",
    "# print mean score and 5 fold scores\n",
    "print(\"Mean ROC AUC score: \", scores.mean())\n",
    "print(\"ROC AUC scores: \", scores)"
   ]
  },
  {
   "attachments": {},
   "cell_type": "markdown",
   "metadata": {},
   "source": [
    "# Polarity classifier"
   ]
  },
  {
   "cell_type": "code",
   "execution_count": 38,
   "metadata": {},
   "outputs": [],
   "source": [
    "# new train test list for predicting polarity\n",
    "X_train, X_test, y_train, y_test = train_test_split(df['Comment'], df['polarity'], test_size=0.2, random_state=42)"
   ]
  },
  {
   "cell_type": "code",
   "execution_count": 40,
   "metadata": {},
   "outputs": [
    {
     "name": "stdout",
     "output_type": "stream",
     "text": [
      "Mean accuracy:  0.8620001707324683\n",
      "ROC accuracy:  [0.85802909 0.86536404 0.86472224 0.86001569 0.86186979]\n"
     ]
    }
   ],
   "source": [
    "# build a pipeline for logistic regression with onevsrest classifier and tfidf vectorizer with cross validation\n",
    "from sklearn.pipeline import Pipeline\n",
    "from sklearn.feature_extraction.text import TfidfVectorizer\n",
    "\n",
    "# create a pipeline\n",
    "logPipeline = Pipeline([\n",
    "    ('tfidf', TfidfVectorizer(max_df=0.8, max_features=5000, ngram_range=(1,2))),\n",
    "    ('clf', OneVsRestClassifier(LogisticRegression(solver='sag'), n_jobs=1)),\n",
    "])\n",
    "\n",
    "# kfold split\n",
    "from sklearn.model_selection import KFold\n",
    "kfold = KFold(n_splits=5, random_state=42, shuffle=True)\n",
    "\n",
    "# cross validation\n",
    "results = cross_val_score(logPipeline, X_train, y_train, cv=kfold, scoring='accuracy')\n",
    "\n",
    "# print mean score and 5 fold scores\n",
    "print(\"Mean accuracy: \", results.mean())\n",
    "print(\"ROC accuracy: \", results)\n",
    "\n"
   ]
  }
 ],
 "metadata": {
  "kernelspec": {
   "display_name": "Python 3",
   "language": "python",
   "name": "python3"
  },
  "language_info": {
   "codemirror_mode": {
    "name": "ipython",
    "version": 3
   },
   "file_extension": ".py",
   "mimetype": "text/x-python",
   "name": "python",
   "nbconvert_exporter": "python",
   "pygments_lexer": "ipython3",
   "version": "3.9.13 (tags/v3.9.13:6de2ca5, May 17 2022, 16:36:42) [MSC v.1929 64 bit (AMD64)]"
  },
  "orig_nbformat": 4,
  "vscode": {
   "interpreter": {
    "hash": "14958d3aee5f1cad06795f787e54b96185c25fb40dfec723a5be941f3a531b8c"
   }
  }
 },
 "nbformat": 4,
 "nbformat_minor": 2
}
