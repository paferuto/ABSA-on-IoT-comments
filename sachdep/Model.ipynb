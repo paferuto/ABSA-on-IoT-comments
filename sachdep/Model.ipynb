{
 "cells": [
  {
   "cell_type": "code",
   "execution_count": 1,
   "metadata": {},
   "outputs": [],
   "source": [
    "import pandas as pd\n",
    "import numpy as np"
   ]
  },
  {
   "cell_type": "code",
   "execution_count": 2,
   "metadata": {},
   "outputs": [],
   "source": [
    "# read data\n",
    "df = pd.read_csv('Data_drop_year.csv')"
   ]
  },
  {
   "cell_type": "code",
   "execution_count": 3,
   "metadata": {},
   "outputs": [],
   "source": [
    "from IPython.display import Markdown, display\n",
    "def printmd(string):\n",
    "    display(Markdown(string))\n",
    "#printmd('**bold**')"
   ]
  },
  {
   "cell_type": "code",
   "execution_count": 4,
   "metadata": {},
   "outputs": [
    {
     "name": "stdout",
     "output_type": "stream",
     "text": [
      "Number of rows in data = 87646\n",
      "Number of columns in data = 16\n",
      "\n",
      "\n",
      "**Sample data:**\n"
     ]
    }
   ],
   "source": [
    "print(\"Number of rows in data =\",df.shape[0])\n",
    "print(\"Number of columns in data =\",df.shape[1])\n",
    "print(\"\\n\")\n",
    "print(\"**Sample data:**\")"
   ]
  },
  {
   "cell_type": "code",
   "execution_count": 5,
   "metadata": {},
   "outputs": [],
   "source": [
    "categories = list(df.columns.values)\n",
    "categories = categories[6:]"
   ]
  },
  {
   "attachments": {},
   "cell_type": "markdown",
   "metadata": {},
   "source": [
    "# Test ROC"
   ]
  },
  {
   "cell_type": "code",
   "execution_count": 12,
   "metadata": {},
   "outputs": [],
   "source": [
    "# create train and test data\n",
    "X_train, X_test, y_train, y_test = train_test_split(df['Comment'], df.drop(['Name','Time','Store','Comment','Aspect','polarity'],axis=1), test_size=0.2, random_state=42)"
   ]
  },
  {
   "cell_type": "code",
   "execution_count": 13,
   "metadata": {},
   "outputs": [
    {
     "data": {
      "text/html": [
       "<div>\n",
       "<style scoped>\n",
       "    .dataframe tbody tr th:only-of-type {\n",
       "        vertical-align: middle;\n",
       "    }\n",
       "\n",
       "    .dataframe tbody tr th {\n",
       "        vertical-align: top;\n",
       "    }\n",
       "\n",
       "    .dataframe thead th {\n",
       "        text-align: right;\n",
       "    }\n",
       "</style>\n",
       "<table border=\"1\" class=\"dataframe\">\n",
       "  <thead>\n",
       "    <tr style=\"text-align: right;\">\n",
       "      <th></th>\n",
       "      <th>'data integration'</th>\n",
       "      <th>'marketing and communication'</th>\n",
       "      <th>'technology'</th>\n",
       "      <th>'payment and checkout'</th>\n",
       "      <th>'shopping experience'</th>\n",
       "      <th>'unemployment'</th>\n",
       "      <th>'product available and store design'</th>\n",
       "      <th>'price and value'</th>\n",
       "      <th>'general'</th>\n",
       "      <th>'privacy and security'</th>\n",
       "    </tr>\n",
       "  </thead>\n",
       "  <tbody>\n",
       "    <tr>\n",
       "      <th>1647</th>\n",
       "      <td>0.0</td>\n",
       "      <td>0.0</td>\n",
       "      <td>1.0</td>\n",
       "      <td>1.0</td>\n",
       "      <td>0.0</td>\n",
       "      <td>0.0</td>\n",
       "      <td>0.0</td>\n",
       "      <td>0.0</td>\n",
       "      <td>0.0</td>\n",
       "      <td>0.0</td>\n",
       "    </tr>\n",
       "    <tr>\n",
       "      <th>39155</th>\n",
       "      <td>0.0</td>\n",
       "      <td>0.0</td>\n",
       "      <td>0.0</td>\n",
       "      <td>0.0</td>\n",
       "      <td>0.0</td>\n",
       "      <td>0.0</td>\n",
       "      <td>0.0</td>\n",
       "      <td>1.0</td>\n",
       "      <td>0.0</td>\n",
       "      <td>0.0</td>\n",
       "    </tr>\n",
       "    <tr>\n",
       "      <th>52561</th>\n",
       "      <td>0.0</td>\n",
       "      <td>0.0</td>\n",
       "      <td>1.0</td>\n",
       "      <td>0.0</td>\n",
       "      <td>0.0</td>\n",
       "      <td>0.0</td>\n",
       "      <td>0.0</td>\n",
       "      <td>0.0</td>\n",
       "      <td>0.0</td>\n",
       "      <td>0.0</td>\n",
       "    </tr>\n",
       "    <tr>\n",
       "      <th>21969</th>\n",
       "      <td>0.0</td>\n",
       "      <td>0.0</td>\n",
       "      <td>0.0</td>\n",
       "      <td>0.0</td>\n",
       "      <td>1.0</td>\n",
       "      <td>0.0</td>\n",
       "      <td>0.0</td>\n",
       "      <td>0.0</td>\n",
       "      <td>0.0</td>\n",
       "      <td>0.0</td>\n",
       "    </tr>\n",
       "    <tr>\n",
       "      <th>87221</th>\n",
       "      <td>0.0</td>\n",
       "      <td>0.0</td>\n",
       "      <td>1.0</td>\n",
       "      <td>0.0</td>\n",
       "      <td>0.0</td>\n",
       "      <td>0.0</td>\n",
       "      <td>0.0</td>\n",
       "      <td>0.0</td>\n",
       "      <td>1.0</td>\n",
       "      <td>0.0</td>\n",
       "    </tr>\n",
       "  </tbody>\n",
       "</table>\n",
       "</div>"
      ],
      "text/plain": [
       "        'data integration'   'marketing and communication'   'technology'  \\\n",
       "1647                   0.0                             0.0            1.0   \n",
       "39155                  0.0                             0.0            0.0   \n",
       "52561                  0.0                             0.0            1.0   \n",
       "21969                  0.0                             0.0            0.0   \n",
       "87221                  0.0                             0.0            1.0   \n",
       "\n",
       "        'payment and checkout'   'shopping experience'   'unemployment'  \\\n",
       "1647                       1.0                     0.0              0.0   \n",
       "39155                      0.0                     0.0              0.0   \n",
       "52561                      0.0                     0.0              0.0   \n",
       "21969                      0.0                     1.0              0.0   \n",
       "87221                      0.0                     0.0              0.0   \n",
       "\n",
       "        'product available and store design'   'price and value'   'general'  \\\n",
       "1647                                     0.0                 0.0         0.0   \n",
       "39155                                    0.0                 1.0         0.0   \n",
       "52561                                    0.0                 0.0         0.0   \n",
       "21969                                    0.0                 0.0         0.0   \n",
       "87221                                    0.0                 0.0         1.0   \n",
       "\n",
       "        'privacy and security'  \n",
       "1647                       0.0  \n",
       "39155                      0.0  \n",
       "52561                      0.0  \n",
       "21969                      0.0  \n",
       "87221                      0.0  "
      ]
     },
     "execution_count": 13,
     "metadata": {},
     "output_type": "execute_result"
    }
   ],
   "source": [
    "y_train.head()"
   ]
  },
  {
   "cell_type": "code",
   "execution_count": 14,
   "metadata": {},
   "outputs": [],
   "source": [
    "# create a pipeline for logistic regression with onevsrest classifier and tfidf vectorizer\n",
    "from sklearn.pipeline import Pipeline\n",
    "from sklearn.feature_extraction.text import TfidfVectorizer\n",
    "from sklearn.multiclass import OneVsRestClassifier\n",
    "from sklearn.linear_model import LogisticRegression\n",
    "\n",
    "# import roc_auc_score\n",
    "from sklearn.metrics import roc_auc_score\n",
    "\n",
    "# create a pipeline\n",
    "logPipeline = Pipeline([\n",
    "    ('tfidf', TfidfVectorizer(max_df=0.8, max_features=5000)),\n",
    "    ('clf', OneVsRestClassifier(LogisticRegression(solver='sag'), n_jobs=1)),\n",
    "])"
   ]
  },
  {
   "cell_type": "code",
   "execution_count": 15,
   "metadata": {},
   "outputs": [
    {
     "name": "stdout",
     "output_type": "stream",
     "text": [
      "Accuracy =  0.7066172276098117\n",
      "roc_auc_score =  0.8506137895334195\n"
     ]
    }
   ],
   "source": [
    "# fit the training dataset on the pipeline\n",
    "logPipeline.fit(X_train, y_train)\n",
    "\n",
    "# make predictions and get the accuracy\n",
    "predictions = logPipeline.predict(X_test)\n",
    "\n",
    "# accuracy\n",
    "print(\"Accuracy = \",accuracy_score(y_test,predictions))\n",
    "\n",
    "# roc_auc_score\n",
    "print(\"roc_auc_score = \",roc_auc_score(y_test,predictions))"
   ]
  },
  {
   "cell_type": "code",
   "execution_count": 16,
   "metadata": {},
   "outputs": [],
   "source": [
    "y_train_pred_proba = logPipeline.predict_proba(X_train)\n",
    "y_valid_pred_proba = logPipeline.predict_proba(X_test)"
   ]
  },
  {
   "cell_type": "code",
   "execution_count": 17,
   "metadata": {},
   "outputs": [
    {
     "name": "stdout",
     "output_type": "stream",
     "text": [
      "ROC AUC Score Train: 0.9867161320740917\n",
      "ROC AUC Score Test: 0.9823538048117171\n"
     ]
    }
   ],
   "source": [
    "roc_auc_score_train = roc_auc_score(y_train, y_train_pred_proba,average='weighted')\n",
    "roc_auc_score_test = roc_auc_score(y_test, y_valid_pred_proba,average='weighted')\n",
    "\n",
    "print(\"ROC AUC Score Train:\", roc_auc_score_train)\n",
    "print(\"ROC AUC Score Test:\", roc_auc_score_test)"
   ]
  },
  {
   "attachments": {},
   "cell_type": "markdown",
   "metadata": {},
   "source": [
    "# Aspect classification"
   ]
  },
  {
   "cell_type": "code",
   "execution_count": 6,
   "metadata": {},
   "outputs": [],
   "source": [
    "# Train and test data for aspects classification\n",
    "from sklearn.model_selection import train_test_split\n",
    "X_train, X_test, y_train, y_test = train_test_split(df['Comment'], df.drop(['Name','Time','Store','Comment','Aspect','polarity'],axis=1), test_size=0.2, random_state=42)"
   ]
  },
  {
   "cell_type": "code",
   "execution_count": 7,
   "metadata": {},
   "outputs": [
    {
     "data": {
      "text/html": [
       "<div>\n",
       "<style scoped>\n",
       "    .dataframe tbody tr th:only-of-type {\n",
       "        vertical-align: middle;\n",
       "    }\n",
       "\n",
       "    .dataframe tbody tr th {\n",
       "        vertical-align: top;\n",
       "    }\n",
       "\n",
       "    .dataframe thead th {\n",
       "        text-align: right;\n",
       "    }\n",
       "</style>\n",
       "<table border=\"1\" class=\"dataframe\">\n",
       "  <thead>\n",
       "    <tr style=\"text-align: right;\">\n",
       "      <th></th>\n",
       "      <th>'data integration'</th>\n",
       "      <th>'marketing and communication'</th>\n",
       "      <th>'technology'</th>\n",
       "      <th>'payment and checkout'</th>\n",
       "      <th>'shopping experience'</th>\n",
       "      <th>'unemployment'</th>\n",
       "      <th>'product available and store design'</th>\n",
       "      <th>'price and value'</th>\n",
       "      <th>'general'</th>\n",
       "      <th>'privacy and security'</th>\n",
       "    </tr>\n",
       "  </thead>\n",
       "  <tbody>\n",
       "    <tr>\n",
       "      <th>1647</th>\n",
       "      <td>0.0</td>\n",
       "      <td>0.0</td>\n",
       "      <td>1.0</td>\n",
       "      <td>1.0</td>\n",
       "      <td>0.0</td>\n",
       "      <td>0.0</td>\n",
       "      <td>0.0</td>\n",
       "      <td>0.0</td>\n",
       "      <td>0.0</td>\n",
       "      <td>0.0</td>\n",
       "    </tr>\n",
       "    <tr>\n",
       "      <th>39155</th>\n",
       "      <td>0.0</td>\n",
       "      <td>0.0</td>\n",
       "      <td>0.0</td>\n",
       "      <td>0.0</td>\n",
       "      <td>0.0</td>\n",
       "      <td>0.0</td>\n",
       "      <td>0.0</td>\n",
       "      <td>1.0</td>\n",
       "      <td>0.0</td>\n",
       "      <td>0.0</td>\n",
       "    </tr>\n",
       "    <tr>\n",
       "      <th>52561</th>\n",
       "      <td>0.0</td>\n",
       "      <td>0.0</td>\n",
       "      <td>1.0</td>\n",
       "      <td>0.0</td>\n",
       "      <td>0.0</td>\n",
       "      <td>0.0</td>\n",
       "      <td>0.0</td>\n",
       "      <td>0.0</td>\n",
       "      <td>0.0</td>\n",
       "      <td>0.0</td>\n",
       "    </tr>\n",
       "    <tr>\n",
       "      <th>21969</th>\n",
       "      <td>0.0</td>\n",
       "      <td>0.0</td>\n",
       "      <td>0.0</td>\n",
       "      <td>0.0</td>\n",
       "      <td>1.0</td>\n",
       "      <td>0.0</td>\n",
       "      <td>0.0</td>\n",
       "      <td>0.0</td>\n",
       "      <td>0.0</td>\n",
       "      <td>0.0</td>\n",
       "    </tr>\n",
       "    <tr>\n",
       "      <th>87221</th>\n",
       "      <td>0.0</td>\n",
       "      <td>0.0</td>\n",
       "      <td>1.0</td>\n",
       "      <td>0.0</td>\n",
       "      <td>0.0</td>\n",
       "      <td>0.0</td>\n",
       "      <td>0.0</td>\n",
       "      <td>0.0</td>\n",
       "      <td>1.0</td>\n",
       "      <td>0.0</td>\n",
       "    </tr>\n",
       "  </tbody>\n",
       "</table>\n",
       "</div>"
      ],
      "text/plain": [
       "        'data integration'   'marketing and communication'   'technology'  \\\n",
       "1647                   0.0                             0.0            1.0   \n",
       "39155                  0.0                             0.0            0.0   \n",
       "52561                  0.0                             0.0            1.0   \n",
       "21969                  0.0                             0.0            0.0   \n",
       "87221                  0.0                             0.0            1.0   \n",
       "\n",
       "        'payment and checkout'   'shopping experience'   'unemployment'  \\\n",
       "1647                       1.0                     0.0              0.0   \n",
       "39155                      0.0                     0.0              0.0   \n",
       "52561                      0.0                     0.0              0.0   \n",
       "21969                      0.0                     1.0              0.0   \n",
       "87221                      0.0                     0.0              0.0   \n",
       "\n",
       "        'product available and store design'   'price and value'   'general'  \\\n",
       "1647                                     0.0                 0.0         0.0   \n",
       "39155                                    0.0                 1.0         0.0   \n",
       "52561                                    0.0                 0.0         0.0   \n",
       "21969                                    0.0                 0.0         0.0   \n",
       "87221                                    0.0                 0.0         1.0   \n",
       "\n",
       "        'privacy and security'  \n",
       "1647                       0.0  \n",
       "39155                      0.0  \n",
       "52561                      0.0  \n",
       "21969                      0.0  \n",
       "87221                      0.0  "
      ]
     },
     "execution_count": 7,
     "metadata": {},
     "output_type": "execute_result"
    }
   ],
   "source": [
    "y_train.head()"
   ]
  },
  {
   "cell_type": "code",
   "execution_count": 8,
   "metadata": {},
   "outputs": [],
   "source": [
    "# vectorize the text \n",
    "from sklearn.feature_extraction.text import TfidfVectorizer\n",
    "TfidfVectorizer = TfidfVectorizer(max_df=0.8, max_features=5000, ngram_range=(1,2))\n",
    "\n",
    "# fit and transform train and test features\n",
    "X_train_tfidf = TfidfVectorizer.fit_transform(X_train)\n",
    "X_test_tfidf = TfidfVectorizer.transform(X_test)"
   ]
  },
  {
   "attachments": {},
   "cell_type": "markdown",
   "metadata": {},
   "source": [
    "### Logistic regression"
   ]
  },
  {
   "cell_type": "code",
   "execution_count": 9,
   "metadata": {},
   "outputs": [],
   "source": [
    "# cross validation for logistic regression with onevsrest classifier\n",
    "from sklearn.model_selection import cross_validate\n",
    "from sklearn.linear_model import LogisticRegression\n",
    "from sklearn.multiclass import OneVsRestClassifier\n",
    "\n",
    "# onerest classifier with kfold cv\n",
    "clf_log = OneVsRestClassifier(LogisticRegression(solver='saga',max_iter=100,penalty='l1',C=10), n_jobs=1)"
   ]
  },
  {
   "cell_type": "code",
   "execution_count": null,
   "metadata": {},
   "outputs": [],
   "source": [
    "# cross validate\n",
    "scoring = ['accuracy', 'precision_macro', 'recall_macro', 'f1_macro', 'roc_auc_ovr_weighted']\n",
    "scores = cross_validate(clf_log, X_train_tfidf, y_train, cv=5, scoring=scoring, return_train_score=True)"
   ]
  },
  {
   "cell_type": "code",
   "execution_count": null,
   "metadata": {},
   "outputs": [],
   "source": [
    "# print scores\n",
    "print (\"Accuracy: %0.2f (+/- %0.2f)\" % (scores['test_accuracy'].mean(), scores['test_accuracy'].std() * 2))\n",
    "print (\"Precision: %0.2f (+/- %0.2f)\" % (scores['test_precision_macro'].mean(), scores['test_precision_macro'].std() * 2))\n",
    "print (\"Recall: %0.2f (+/- %0.2f)\" % (scores['test_recall_macro'].mean(), scores['test_recall_macro'].std() * 2))\n",
    "print (\"F1: %0.2f (+/- %0.2f)\" % (scores['test_f1_macro'].mean(), scores['test_f1_macro'].std() * 2))\n",
    "print (\"ROC AUC: %0.2f (+/- %0.2f)\" % (scores['test_roc_auc_ovr_weighted'].mean(), scores['test_roc_auc_ovr_weighted'].std() * 2))"
   ]
  },
  {
   "attachments": {},
   "cell_type": "markdown",
   "metadata": {},
   "source": [
    "### Decision tree"
   ]
  },
  {
   "cell_type": "code",
   "execution_count": 10,
   "metadata": {},
   "outputs": [],
   "source": [
    "#build decision tree\n",
    "from sklearn.tree import DecisionTreeClassifier\n",
    "from sklearn.metrics import accuracy_score\n",
    "from sklearn.multiclass import OneVsRestClassifier"
   ]
  },
  {
   "cell_type": "code",
   "execution_count": 11,
   "metadata": {},
   "outputs": [],
   "source": [
    "# onevsrestclassifier with decision tree\n",
    "clf_dec = OneVsRestClassifier(DecisionTreeClassifier(random_state=0), n_jobs=1)"
   ]
  },
  {
   "cell_type": "code",
   "execution_count": null,
   "metadata": {},
   "outputs": [],
   "source": [
    "#cross_validate\n",
    "from sklearn.model_selection import cross_validate\n",
    "scoring = ['accuracy', 'f1_macro', 'recall_macro', 'precision_macro', 'roc_auc_ovr_weighted']\n",
    "scores=cross_validate(clf_dec, X_train_tfidf, y_train, cv=10, scoring=scoring, return_train_score=True)"
   ]
  },
  {
   "cell_type": "code",
   "execution_count": null,
   "metadata": {},
   "outputs": [],
   "source": [
    "# print scores\n",
    "print (\"Accuracy: %0.2f (+/- %0.2f)\" % (scores['test_accuracy'].mean(), scores['test_accuracy'].std() * 2))\n",
    "print (\"Precision: %0.2f (+/- %0.2f)\" % (scores['test_precision_macro'].mean(), scores['test_precision_macro'].std() * 2))\n",
    "print (\"Recall: %0.2f (+/- %0.2f)\" % (scores['test_recall_macro'].mean(), scores['test_recall_macro'].std() * 2))\n",
    "print (\"F1: %0.2f (+/- %0.2f)\" % (scores['test_f1_macro'].mean(), scores['test_f1_macro'].std() * 2))\n",
    "print (\"ROC AUC: %0.2f (+/- %0.2f)\" % (scores['test_roc_auc_ovr_weighted'].mean(), scores['test_roc_auc_ovr_weighted'].std() * 2))"
   ]
  },
  {
   "attachments": {},
   "cell_type": "markdown",
   "metadata": {},
   "source": [
    "### ROC curves"
   ]
  },
  {
   "cell_type": "code",
   "execution_count": 12,
   "metadata": {},
   "outputs": [
    {
     "name": "stderr",
     "output_type": "stream",
     "text": [
      "c:\\Users\\ASUS\\AppData\\Local\\Programs\\Python\\Python39\\lib\\site-packages\\sklearn\\linear_model\\_sag.py:350: ConvergenceWarning: The max_iter was reached which means the coef_ did not converge\n",
      "  warnings.warn(\n",
      "c:\\Users\\ASUS\\AppData\\Local\\Programs\\Python\\Python39\\lib\\site-packages\\sklearn\\linear_model\\_sag.py:350: ConvergenceWarning: The max_iter was reached which means the coef_ did not converge\n",
      "  warnings.warn(\n",
      "c:\\Users\\ASUS\\AppData\\Local\\Programs\\Python\\Python39\\lib\\site-packages\\sklearn\\linear_model\\_sag.py:350: ConvergenceWarning: The max_iter was reached which means the coef_ did not converge\n",
      "  warnings.warn(\n",
      "c:\\Users\\ASUS\\AppData\\Local\\Programs\\Python\\Python39\\lib\\site-packages\\sklearn\\linear_model\\_sag.py:350: ConvergenceWarning: The max_iter was reached which means the coef_ did not converge\n",
      "  warnings.warn(\n",
      "c:\\Users\\ASUS\\AppData\\Local\\Programs\\Python\\Python39\\lib\\site-packages\\sklearn\\linear_model\\_sag.py:350: ConvergenceWarning: The max_iter was reached which means the coef_ did not converge\n",
      "  warnings.warn(\n",
      "c:\\Users\\ASUS\\AppData\\Local\\Programs\\Python\\Python39\\lib\\site-packages\\sklearn\\linear_model\\_sag.py:350: ConvergenceWarning: The max_iter was reached which means the coef_ did not converge\n",
      "  warnings.warn(\n",
      "c:\\Users\\ASUS\\AppData\\Local\\Programs\\Python\\Python39\\lib\\site-packages\\sklearn\\linear_model\\_sag.py:350: ConvergenceWarning: The max_iter was reached which means the coef_ did not converge\n",
      "  warnings.warn(\n",
      "c:\\Users\\ASUS\\AppData\\Local\\Programs\\Python\\Python39\\lib\\site-packages\\sklearn\\linear_model\\_sag.py:350: ConvergenceWarning: The max_iter was reached which means the coef_ did not converge\n",
      "  warnings.warn(\n",
      "c:\\Users\\ASUS\\AppData\\Local\\Programs\\Python\\Python39\\lib\\site-packages\\sklearn\\linear_model\\_sag.py:350: ConvergenceWarning: The max_iter was reached which means the coef_ did not converge\n",
      "  warnings.warn(\n",
      "c:\\Users\\ASUS\\AppData\\Local\\Programs\\Python\\Python39\\lib\\site-packages\\sklearn\\linear_model\\_sag.py:350: ConvergenceWarning: The max_iter was reached which means the coef_ did not converge\n",
      "  warnings.warn(\n"
     ]
    }
   ],
   "source": [
    "# roc curve from logistics regression\n",
    "from sklearn.metrics import roc_curve\n",
    "from sklearn.metrics import roc_auc_score\n",
    "from sklearn.preprocessing import label_binarize\n",
    "import matplotlib.pyplot as plt\n",
    "from sklearn.metrics import auc\n",
    "from sklearn.tree import RandomForestClassifier\n",
    "from sklearn.linear_model import LogisticRegression\n",
    "from sklearn.neighbors import KNeighborsClassifier\n",
    "from sklearn.multiclass import OneVsRestClassifier\n",
    "\n",
    "# onerest classifier with kfold cv\n",
    "clf_log = OneVsRestClassifier(LogisticRegression(solver='saga',max_iter=100,penalty='l1',C=10), n_jobs=1)\n",
    "\n",
    "# onevsrestclassifier with decision tree\n",
    "clf_dec = OneVsRestClassifier(DecisionTreeClassifier(random_state=0), n_jobs=1)\n",
    "\n",
    "# one rest classifier with random forest\n",
    "clf_random = OneVsRestClassifier(RandomForestClassifier(n_estimators=100, max_depth=910,random_state=0), n_jobs=1)\n",
    "\n",
    "# one rest classifier with KNN\n",
    "clf_knn = OneVsRestClassifier(KNeighborsClassifier(n_neighbors=8), n_jobs=1)\n",
    "\n",
    "# Ensemble learning with 4 models\n",
    "from sklearn.ensemble import VotingClassifier\n",
    "# create a pipeline for ensemble model\n",
    "ensemble = Pipeline([\n",
    "        \n",
    "    ('clf', OneVsRestClassifier(VotingClassifier(estimators=[\n",
    "        ('lr', clf_log),\n",
    "        ('knn', clf_knn),\n",
    "        ('dt', clf_dec),\n",
    "        ('rf', clf_random)\n",
    "    ], voting='soft')))\n",
    "])\n",
    "\n",
    "\n",
    "\n",
    "# binarize the output of the classifier\n",
    "y = label_binarize(y_train, classes=[0, 1, 2, 3, 4, 5, 6, 7, 8, 9])\n",
    "y_test_bi = label_binarize(y_test, classes=[0, 1, 2, 3, 4, 5, 6, 7, 8, 9])\n",
    "n_classes = y.shape[1]\n",
    "\n",
    "# fit the classifier\n",
    "clf_log.fit(X_train_tfidf, y)\n",
    "clf_dec.fit(X_train_tfidf, y)\n",
    "clf_knn.fit(X_train_tfidf, y)\n",
    "clf_random.fit(X_train_tfidf, y)\n",
    "ensemble.fit(X_train_tfidf, y)\n",
    "\n",
    "# predict the probabilities\n",
    "y_score_log = clf_log.predict_proba(X_test_tfidf)\n",
    "y_score_dec = clf_dec.predict_proba(X_test_tfidf)\n",
    "y_score_knn = clf_knn.predict_proba(X_test_tfidf)\n",
    "y_score_random = clf_random.predict_proba(X_test_tfidf)\n",
    "y_score_ensemble = ensemble.predict_proba(X_test_tfidf)"
   ]
  },
  {
   "cell_type": "code",
   "execution_count": 13,
   "metadata": {},
   "outputs": [],
   "source": [
    "# Compute ROC curve and ROC area for each class\n",
    "fpr_log = dict()\n",
    "tpr_log = dict()\n",
    "roc_auc_log = dict()\n",
    "fpr_dec = dict()\n",
    "tpr_dec = dict()\n",
    "roc_auc_dec = dict()\n",
    "fpr_knn = dict()\n",
    "tpr_knn = dict()\n",
    "roc_auc_knn = dict()\n",
    "fpr_random = dict()\n",
    "tpr_random = dict()\n",
    "roc_auc_random = dict()\n",
    "fpr_ensemble = dict()\n",
    "tpr_ensemble = dict()\n",
    "roc_auc_ensemble = dict()\n",
    "for i in range(n_classes):\n",
    "    fpr_log[i], tpr_log[i], _ = roc_curve(y_test_bi[:, i], y_score_log[:, i])\n",
    "    roc_auc_log[i] = auc(fpr_log[i], tpr_log[i])\n",
    "    fpr_dec[i], tpr_dec[i], _ = roc_curve(y_test_bi[:, i], y_score_dec[:, i])\n",
    "    roc_auc_dec[i] = auc(fpr_dec[i], tpr_dec[i])\n",
    "    fpr_knn[i], tpr_knn[i], _ = roc_curve(y_test_bi[:, i], y_score_knn[:, i])\n",
    "    roc_auc_knn[i] = auc(fpr_knn[i], tpr_knn[i])\n",
    "    fpr_random[i], tpr_random[i], _ = roc_curve(y_test_bi[:, i], y_score_random[:, i])\n",
    "    roc_auc_random[i] = auc(fpr_random[i], tpr_random[i])\n",
    "    fpr_ensemble[i], tpr_ensemble[i], _ = roc_curve(y_test_bi[:, i], y_score_ensemble[:, i])\n",
    "    roc_auc_ensemble[i] = auc(fpr_ensemble[i], tpr_ensemble[i])\n",
    "\n",
    "# Compute micro-average ROC curve and ROC area\n",
    "fpr_log[\"micro\"], tpr_log[\"micro\"], _ = roc_curve(y_test_bi.ravel(), y_score_log.ravel())\n",
    "roc_auc_log[\"micro\"] = auc(fpr_log[\"micro\"], tpr_log[\"micro\"])\n",
    "fpr_dec[\"micro\"], tpr_dec[\"micro\"], _ = roc_curve(y_test_bi.ravel(), y_score_dec.ravel())\n",
    "roc_auc_dec[\"micro\"] = auc(fpr_dec[\"micro\"], tpr_dec[\"micro\"])\n",
    "fpr_knn[\"micro\"], tpr_knn[\"micro\"], _ = roc_curve(y_test_bi.ravel(), y_score_knn.ravel())\n",
    "roc_auc_knn[\"micro\"] = auc(fpr_knn[\"micro\"], tpr_knn[\"micro\"])\n",
    "fpr_random[\"micro\"], tpr_random[\"micro\"], _ = roc_curve(y_test_bi.ravel(), y_score_random.ravel())\n",
    "roc_auc_random[\"micro\"] = auc(fpr_random[\"micro\"], tpr_random[\"micro\"])\n",
    "fpr_ensemble[\"micro\"], tpr_ensemble[\"micro\"], _ = roc_curve(y_test_bi.ravel(), y_score_ensemble.ravel())\n",
    "roc_auc_ensemble[\"micro\"] = auc(fpr_ensemble[\"micro\"], tpr_ensemble[\"micro\"])"
   ]
  },
  {
   "cell_type": "code",
   "execution_count": 14,
   "metadata": {},
   "outputs": [
    {
     "data": {
      "image/png": "[encoded data removed]",
      "text/plain": [
       "<Figure size 640x480 with 1 Axes>"
      ]
     },
     "metadata": {},
     "output_type": "display_data"
    }
   ],
   "source": [
    "# plot the roc curve\n",
    "plt.figure()\n",
    "lw = 1\n",
    "plt.plot(fpr_log[2], tpr_log[2], color='darkorange',\n",
    "            lw=lw, label='Logistic Regression (area = %0.2f)' % roc_auc_log[2])\n",
    "plt.plot(fpr_dec[2], tpr_dec[2], color='green',\n",
    "            lw=lw, label='Decision Tree (area = %0.2f)' % roc_auc_dec[2])\n",
    "plt.plot(fpr_knn[2], tpr_knn[2], color='blue',\n",
    "            lw=lw, label='KNN (area = %0.2f)' % roc_auc_knn[2])\n",
    "plt.plot(fpr_random[2], tpr_random[2], color='red',\n",
    "            lw=lw, label='Random Forest (area = %0.2f)' % roc_auc_random[2])\n",
    "plt.plot(fpr_ensemble[2], tpr_ensemble[2], color='purple',\n",
    "            lw=lw, label='Ensemble (area = %0.2f)' % roc_auc_ensemble[2])\n",
    "plt.plot([0, 1], [0, 1], color='navy', lw=lw, linestyle='--')\n",
    "plt.xlim([0.0, 1.0])\n",
    "plt.ylim([0.0, 1.05])\n",
    "plt.xlabel('False Positive Rate')\n",
    "plt.ylabel('True Positive Rate')\n",
    "plt.title('Receiver operating characteristic')\n",
    "plt.legend(loc=\"lower right\")\n",
    "plt.show()"
   ]
  },
  {
   "cell_type": "code",
   "execution_count": 15,
   "metadata": {},
   "outputs": [
    {
     "name": "stdout",
     "output_type": "stream",
     "text": [
      "Logistic Regression: ROC AUC=0.979\n"
     ]
    }
   ],
   "source": [
    "# calculate the auc\n",
    "auc_log = roc_auc_score(y_test_bi, y_score_log, average='macro', multi_class='ovr')\n",
    "print('Logistic Regression: ROC AUC=%.3f' % (auc_log))"
   ]
  },
  {
   "attachments": {},
   "cell_type": "markdown",
   "metadata": {},
   "source": [
    "# Polarity classifier"
   ]
  },
  {
   "cell_type": "code",
   "execution_count": 6,
   "metadata": {},
   "outputs": [],
   "source": [
    "# new train test list for predicting polarity\n",
    "from sklearn.model_selection import train_test_split\n",
    "X_train, X_test, y_train, y_test = train_test_split(df['Comment'], df['polarity'], test_size=0.2, random_state=42)"
   ]
  },
  {
   "cell_type": "code",
   "execution_count": 7,
   "metadata": {},
   "outputs": [],
   "source": [
    "# tfidf vectorizer\n",
    "from sklearn.feature_extraction.text import TfidfVectorizer\n",
    "tfidf_vect = TfidfVectorizer(analyzer='word', token_pattern=r'\\w{1,}', max_features=5000)\n",
    "X_train_tfidf = tfidf_vect.fit_transform(X_train)\n",
    "X_test_tfidf = tfidf_vect.transform(X_test)"
   ]
  },
  {
   "cell_type": "code",
   "execution_count": 9,
   "metadata": {},
   "outputs": [],
   "source": [
    "# encode y_train and y_test\n",
    "from sklearn.preprocessing import LabelEncoder\n",
    "label_encoder = LabelEncoder()\n",
    "label_encoder.fit(y_train)\n",
    "y_train_code = label_encoder.fit_transform(y_train)\n",
    "y_test_code = label_encoder.transform(y_test)"
   ]
  },
  {
   "attachments": {},
   "cell_type": "markdown",
   "metadata": {},
   "source": [
    "### Logistic regression"
   ]
  },
  {
   "cell_type": "code",
   "execution_count": 11,
   "metadata": {},
   "outputs": [],
   "source": [
    "# build a pipeline for logistic regression with onevsrest classifier and tfidf vectorizer with cross validation\n",
    "from sklearn.pipeline import Pipeline\n",
    "from sklearn.feature_extraction.text import TfidfVectorizer\n",
    "from sklearn.linear_model import LogisticRegression\n",
    "from sklearn.multiclass import OneVsRestClassifier\n",
    "\n",
    "logPol = LogisticRegression()\n",
    "logPolOvr = OneVsRestClassifier(logPol,n_jobs=-1)"
   ]
  },
  {
   "cell_type": "code",
   "execution_count": 12,
   "metadata": {},
   "outputs": [
    {
     "name": "stdout",
     "output_type": "stream",
     "text": [
      "{'estimator__C': 10, 'estimator__max_iter': 100, 'estimator__penalty': 'l1', 'estimator__solver': 'saga'}\n"
     ]
    }
   ],
   "source": [
    "# gridsearch cv for logistic regression\n",
    "from sklearn.model_selection import GridSearchCV\n",
    "parameters = {'estimator__C': [0.1, 1, 10, 100, 1000],\n",
    "              'estimator__penalty': ['l1', 'l2'],\n",
    "              'estimator__solver': ['liblinear', 'saga'],\n",
    "              'estimator__max_iter': [100, 1000, 2500, 5000]}\n",
    "clf_logPol = GridSearchCV(logPolOvr, parameters, cv=2, scoring='accuracy', n_jobs=-1)\n",
    "\n",
    "# find the best parameters\n",
    "clf_logPol.fit(X_train_tfidf, y_train_code)\n",
    "print(clf_logPol.best_params_)"
   ]
  },
  {
   "cell_type": "code",
   "execution_count": 14,
   "metadata": {},
   "outputs": [
    {
     "name": "stdout",
     "output_type": "stream",
     "text": [
      "              precision    recall  f1-score   support\n",
      "\n",
      "           0       0.84      0.80      0.82      5184\n",
      "           1       0.93      0.95      0.94      6257\n",
      "           2       0.85      0.86      0.85      6089\n",
      "\n",
      "    accuracy                           0.87     17530\n",
      "   macro avg       0.87      0.87      0.87     17530\n",
      "weighted avg       0.87      0.87      0.87     17530\n",
      "\n"
     ]
    }
   ],
   "source": [
    "logPolOvr = OneVsRestClassifier(LogisticRegression(C=10, max_iter = 100, penalty = 'l1', solver = 'saga'),n_jobs=-1)\n",
    "\n",
    "logPolOvr.fit(X_train_tfidf, y_train_code)\n",
    "\n",
    "# predict on test data\n",
    "y_pred_logPol = logPolOvr.predict(X_test_tfidf)\n",
    "\n",
    "# print the report\n",
    "from sklearn.metrics import classification_report\n",
    "print(classification_report(y_test_code, y_pred_logPol))"
   ]
  },
  {
   "cell_type": "code",
   "execution_count": 15,
   "metadata": {},
   "outputs": [
    {
     "name": "stdout",
     "output_type": "stream",
     "text": [
      "Accuracy: 0.88 (+/- 0.01)\n",
      "Precision: 0.87 (+/- 0.01)\n",
      "Recall: 0.87 (+/- 0.01)\n",
      "F1: 0.87 (+/- 0.01)\n",
      "ROC AUC: 0.94 (+/- 0.00)\n"
     ]
    }
   ],
   "source": [
    "# cross validation\n",
    "from sklearn.model_selection import cross_validate\n",
    "\n",
    "scoring = ['accuracy', 'f1_macro', 'recall_macro', 'precision_macro', 'roc_auc_ovr_weighted']\n",
    "scores=cross_validate(logPolOvr, X_train_tfidf, y_train_code, cv=10, scoring=scoring, return_train_score=True)\n",
    "\n",
    "# print scores\n",
    "print (\"Accuracy: %0.2f (+/- %0.2f)\" % (scores['test_accuracy'].mean(), scores['test_accuracy'].std() * 2))\n",
    "print (\"Precision: %0.2f (+/- %0.2f)\" % (scores['test_precision_macro'].mean(), scores['test_precision_macro'].std() * 2))\n",
    "print (\"Recall: %0.2f (+/- %0.2f)\" % (scores['test_recall_macro'].mean(), scores['test_recall_macro'].std() * 2))\n",
    "print (\"F1: %0.2f (+/- %0.2f)\" % (scores['test_f1_macro'].mean(), scores['test_f1_macro'].std() * 2))\n",
    "print (\"ROC AUC: %0.2f (+/- %0.2f)\" % (scores['test_roc_auc_ovr_weighted'].mean(), scores['test_roc_auc_ovr_weighted'].std() * 2))"
   ]
  },
  {
   "attachments": {},
   "cell_type": "markdown",
   "metadata": {},
   "source": [
    "### Decision tree"
   ]
  },
  {
   "cell_type": "code",
   "execution_count": 22,
   "metadata": {},
   "outputs": [],
   "source": [
    "# Build a decision tree model\n",
    "from sklearn.tree import DecisionTreeClassifier\n",
    "from sklearn.multiclass import OneVsRestClassifier\n",
    "decPol = DecisionTreeClassifier()\n",
    "decPolOvr = OneVsRestClassifier(decPol,n_jobs=-1)"
   ]
  },
  {
   "cell_type": "code",
   "execution_count": 23,
   "metadata": {},
   "outputs": [
    {
     "name": "stdout",
     "output_type": "stream",
     "text": [
      "{'estimator__criterion': 'gini', 'estimator__max_depth': 20, 'estimator__min_samples_leaf': 3, 'estimator__min_samples_split': 16, 'estimator__splitter': 'best'}\n"
     ]
    }
   ],
   "source": [
    "# gridsearch cv for decision tree\n",
    "from sklearn.model_selection import GridSearchCV\n",
    "parameters = {'estimator__criterion': ['gini', 'entropy'],\n",
    "                'estimator__splitter': ['best', 'random'],\n",
    "                'estimator__max_depth': [2, 4, 6, 8, 10, 12, 14, 16, 18, 20],\n",
    "                'estimator__min_samples_split': [2, 4, 6, 8, 10, 12, 14, 16, 18, 20],\n",
    "                'estimator__min_samples_leaf': [1, 2, 3, 4, 5, 6, 7, 8, 9, 10]}\n",
    "clf_decPol = GridSearchCV(decPolOvr, parameters, cv=2, scoring='accuracy', n_jobs=-1)\n",
    "\n",
    "# find the best parameters\n",
    "clf_decPol.fit(X_train_tfidf, y_train_code)\n",
    "print(clf_decPol.best_params_)"
   ]
  },
  {
   "cell_type": "code",
   "execution_count": 27,
   "metadata": {},
   "outputs": [],
   "source": [
    "clf_decPol =OneVsRestClassifier(DecisionTreeClassifier(criterion='gini', max_depth=20, min_samples_leaf=3, min_samples_split=16, splitter='best')) "
   ]
  },
  {
   "cell_type": "code",
   "execution_count": 28,
   "metadata": {},
   "outputs": [
    {
     "name": "stdout",
     "output_type": "stream",
     "text": [
      "              precision    recall  f1-score   support\n",
      "\n",
      "           0       0.81      0.53      0.64      5184\n",
      "           1       0.60      0.97      0.74      6257\n",
      "           2       0.85      0.55      0.67      6089\n",
      "\n",
      "    accuracy                           0.69     17530\n",
      "   macro avg       0.75      0.68      0.68     17530\n",
      "weighted avg       0.75      0.69      0.68     17530\n",
      "\n"
     ]
    }
   ],
   "source": [
    "# fit classifier with best parameters on training data\n",
    "clf_decPol.fit(X_train_tfidf, y_train_code)\n",
    "\n",
    "# predict on test data\n",
    "y_pred_decPol = clf_decPol.predict(X_test_tfidf)\n",
    "\n",
    "# print classification report\n",
    "from sklearn.metrics import classification_report\n",
    "print(classification_report(y_test_code, y_pred_decPol))"
   ]
  },
  {
   "cell_type": "code",
   "execution_count": null,
   "metadata": {},
   "outputs": [],
   "source": [
    "# print confusion matrix\n",
    "from sklearn.metrics import confusion_matrix\n",
    "print(confusion_matrix(y_test_code, y_pred_decPol))"
   ]
  },
  {
   "cell_type": "code",
   "execution_count": 30,
   "metadata": {},
   "outputs": [
    {
     "name": "stdout",
     "output_type": "stream",
     "text": [
      "              precision    recall  f1-score   support\n",
      "\n",
      "           0       0.90      0.70      0.78      5184\n",
      "           1       0.95      0.94      0.95      6257\n",
      "           2       0.77      0.92      0.84      6089\n",
      "\n",
      "    accuracy                           0.86     17530\n",
      "   macro avg       0.87      0.85      0.86     17530\n",
      "weighted avg       0.87      0.86      0.86     17530\n",
      "\n"
     ]
    }
   ],
   "source": [
    "clf_decPol = OneVsRestClassifier(DecisionTreeClassifier())\n",
    "\n",
    "y_pred_decPol = clf_decPol.fit(X_train_tfidf, y_train_code).predict(X_test_tfidf)\n",
    "\n",
    "# print classification report\n",
    "from sklearn.metrics import classification_report\n",
    "print(classification_report(y_test_code, y_pred_decPol))"
   ]
  },
  {
   "cell_type": "code",
   "execution_count": null,
   "metadata": {},
   "outputs": [],
   "source": [
    "# cross validation\n",
    "from sklearn.model_selection import cross_validate\n",
    "\n",
    "scoring = ['accuracy', 'f1_macro', 'recall_macro', 'precision_macro', 'roc_auc_ovr_weighted']\n",
    "scores=cross_validate(decPol, X_train, y_train, cv=10, scoring=scoring, return_train_score=True)\n",
    "\n",
    "# print scores\n",
    "print (\"Accuracy: %0.2f (+/- %0.2f)\" % (scores['test_accuracy'].mean(), scores['test_accuracy'].std() * 2))\n",
    "print (\"Precision: %0.2f (+/- %0.2f)\" % (scores['test_precision_macro'].mean(), scores['test_precision_macro'].std() * 2))\n",
    "print (\"Recall: %0.2f (+/- %0.2f)\" % (scores['test_recall_macro'].mean(), scores['test_recall_macro'].std() * 2))\n",
    "print (\"F1: %0.2f (+/- %0.2f)\" % (scores['test_f1_macro'].mean(), scores['test_f1_macro'].std() * 2))\n",
    "print (\"ROC AUC: %0.2f (+/- %0.2f)\" % (scores['test_roc_auc_ovr_weighted'].mean(), scores['test_roc_auc_ovr_weighted'].std() * 2))"
   ]
  },
  {
   "attachments": {},
   "cell_type": "markdown",
   "metadata": {},
   "source": [
    "### ROC curve"
   ]
  },
  {
   "cell_type": "code",
   "execution_count": 117,
   "metadata": {},
   "outputs": [
    {
     "data": {
      "text/plain": [
       "(17530, 3)"
      ]
     },
     "execution_count": 117,
     "metadata": {},
     "output_type": "execute_result"
    }
   ],
   "source": [
    "from sklearn.preprocessing import LabelBinarizer\n",
    "\n",
    "label_binarizer = LabelBinarizer().fit(y_train)\n",
    "y_onehot_test = label_binarizer.transform(y_test)\n",
    "y_onehot_test.shape  # (n_samples, n_classes)"
   ]
  },
  {
   "cell_type": "code",
   "execution_count": 126,
   "metadata": {},
   "outputs": [
    {
     "name": "stderr",
     "output_type": "stream",
     "text": [
      "c:\\Users\\ASUS\\AppData\\Local\\Programs\\Python\\Python39\\lib\\site-packages\\sklearn\\linear_model\\_logistic.py:444: ConvergenceWarning: lbfgs failed to converge (status=1):\n",
      "STOP: TOTAL NO. of ITERATIONS REACHED LIMIT.\n",
      "\n",
      "Increase the number of iterations (max_iter) or scale the data as shown in:\n",
      "    https://scikit-learn.org/stable/modules/preprocessing.html\n",
      "Please also refer to the documentation for alternative solver options:\n",
      "    https://scikit-learn.org/stable/modules/linear_model.html#logistic-regression\n",
      "  n_iter_i = _check_optimize_result(\n"
     ]
    }
   ],
   "source": [
    "from sklearn.linear_model import LogisticRegression\n",
    "\n",
    "classifier = LogisticRegression()\n",
    "y_score = classifier.fit(X_train_tfidf, y_train).predict_proba(X_test_tfidf)"
   ]
  },
  {
   "cell_type": "code",
   "execution_count": 130,
   "metadata": {},
   "outputs": [
    {
     "data": {
      "image/png": "[encoded data removed]",
      "text/plain": [
       "<Figure size 640x480 with 1 Axes>"
      ]
     },
     "metadata": {},
     "output_type": "display_data"
    }
   ],
   "source": [
    "from sklearn.metrics import RocCurveDisplay\n",
    "RocCurveDisplay.from_predictions(\n",
    "    y_onehot_test.ravel(),\n",
    "    y_score.ravel(),\n",
    "    name=\"micro-average OvR\",\n",
    "    color=\"darkorange\",\n",
    ")\n",
    "plt.plot([0, 1], [0, 1], \"k--\", label=\"chance level (AUC = 0.5)\")\n",
    "plt.axis(\"square\")\n",
    "plt.xlabel(\"False Positive Rate\")\n",
    "plt.ylabel(\"True Positive Rate\")\n",
    "plt.title(\"Micro-averaged One-vs-Rest\\nReceiver Operating Characteristic\")\n",
    "plt.legend()\n",
    "plt.show()"
   ]
  }
 ],
 "metadata": {
  "kernelspec": {
   "display_name": "Python 3",
   "language": "python",
   "name": "python3"
  },
  "language_info": {
   "codemirror_mode": {
    "name": "ipython",
    "version": 3
   },
   "file_extension": ".py",
   "mimetype": "text/x-python",
   "name": "python",
   "nbconvert_exporter": "python",
   "pygments_lexer": "ipython3",
   "version": "3.10.7 (tags/v3.10.7:6cc6b13, Sep  5 2022, 14:08:36) [MSC v.1933 64 bit (AMD64)]"
  },
  "orig_nbformat": 4,
  "vscode": {
   "interpreter": {
    "hash": "0e0f673793d8fece6e1ab59d7a407353a7a8b324b6c2157cbb558fdb5ad58c40"
   }
  }
 },
 "nbformat": 4,
 "nbformat_minor": 2
}
