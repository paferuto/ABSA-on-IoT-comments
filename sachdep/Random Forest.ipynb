{
 "cells": [
  {
   "cell_type": "code",
   "execution_count": 64,
   "metadata": {},
   "outputs": [],
   "source": [
    "import pandas as pd"
   ]
  },
  {
   "cell_type": "code",
   "execution_count": 65,
   "metadata": {},
   "outputs": [
    {
     "data": {
      "text/html": [
       "<div>\n",
       "<style scoped>\n",
       "    .dataframe tbody tr th:only-of-type {\n",
       "        vertical-align: middle;\n",
       "    }\n",
       "\n",
       "    .dataframe tbody tr th {\n",
       "        vertical-align: top;\n",
       "    }\n",
       "\n",
       "    .dataframe thead th {\n",
       "        text-align: right;\n",
       "    }\n",
       "</style>\n",
       "<table border=\"1\" class=\"dataframe\">\n",
       "  <thead>\n",
       "    <tr style=\"text-align: right;\">\n",
       "      <th></th>\n",
       "      <th>Name</th>\n",
       "      <th>Time</th>\n",
       "      <th>Store</th>\n",
       "      <th>Comment</th>\n",
       "      <th>Aspect</th>\n",
       "      <th>polarity</th>\n",
       "      <th>'data integration'</th>\n",
       "      <th>'marketing and communication'</th>\n",
       "      <th>'technology'</th>\n",
       "      <th>'payment and checkout'</th>\n",
       "      <th>'shopping experience'</th>\n",
       "      <th>'unemployment'</th>\n",
       "      <th>'product available and store design'</th>\n",
       "      <th>'price and value'</th>\n",
       "      <th>'general'</th>\n",
       "      <th>'privacy and security'</th>\n",
       "    </tr>\n",
       "  </thead>\n",
       "  <tbody>\n",
       "    <tr>\n",
       "      <th>0</th>\n",
       "      <td>Jenae K.</td>\n",
       "      <td>2018-06-01</td>\n",
       "      <td>Amazon Go</td>\n",
       "      <td>store awesome super cool concept definitley se...</td>\n",
       "      <td>[\" 'data integration'\", \" 'marketing and commu...</td>\n",
       "      <td>positive</td>\n",
       "      <td>1.0</td>\n",
       "      <td>1.0</td>\n",
       "      <td>0.0</td>\n",
       "      <td>0.0</td>\n",
       "      <td>0.0</td>\n",
       "      <td>0.0</td>\n",
       "      <td>0.0</td>\n",
       "      <td>0.0</td>\n",
       "      <td>0.0</td>\n",
       "      <td>0.0</td>\n",
       "    </tr>\n",
       "    <tr>\n",
       "      <th>1</th>\n",
       "      <td>Jenae K.</td>\n",
       "      <td>2018-06-01</td>\n",
       "      <td>Amazon Go</td>\n",
       "      <td>scan app enter store grab whatever want shelf ...</td>\n",
       "      <td>[\" 'technology'\", \" 'payment and checkout'\"]</td>\n",
       "      <td>positive</td>\n",
       "      <td>0.0</td>\n",
       "      <td>0.0</td>\n",
       "      <td>1.0</td>\n",
       "      <td>1.0</td>\n",
       "      <td>0.0</td>\n",
       "      <td>0.0</td>\n",
       "      <td>0.0</td>\n",
       "      <td>0.0</td>\n",
       "      <td>0.0</td>\n",
       "      <td>0.0</td>\n",
       "    </tr>\n",
       "    <tr>\n",
       "      <th>2</th>\n",
       "      <td>Jenae K.</td>\n",
       "      <td>2018-06-01</td>\n",
       "      <td>Amazon Go</td>\n",
       "      <td>product shelf sensor know grab item</td>\n",
       "      <td>[\" 'technology'\"]</td>\n",
       "      <td>neutral</td>\n",
       "      <td>0.0</td>\n",
       "      <td>0.0</td>\n",
       "      <td>1.0</td>\n",
       "      <td>0.0</td>\n",
       "      <td>0.0</td>\n",
       "      <td>0.0</td>\n",
       "      <td>0.0</td>\n",
       "      <td>0.0</td>\n",
       "      <td>0.0</td>\n",
       "      <td>0.0</td>\n",
       "    </tr>\n",
       "    <tr>\n",
       "      <th>3</th>\n",
       "      <td>Jenae K.</td>\n",
       "      <td>2018-06-01</td>\n",
       "      <td>Amazon Go</td>\n",
       "      <td>crazy no cashier no line</td>\n",
       "      <td>[\" 'payment and checkout'\"]</td>\n",
       "      <td>negative</td>\n",
       "      <td>0.0</td>\n",
       "      <td>0.0</td>\n",
       "      <td>0.0</td>\n",
       "      <td>1.0</td>\n",
       "      <td>0.0</td>\n",
       "      <td>0.0</td>\n",
       "      <td>0.0</td>\n",
       "      <td>0.0</td>\n",
       "      <td>0.0</td>\n",
       "      <td>0.0</td>\n",
       "    </tr>\n",
       "    <tr>\n",
       "      <th>4</th>\n",
       "      <td>Jenae K.</td>\n",
       "      <td>2018-06-01</td>\n",
       "      <td>Amazon Go</td>\n",
       "      <td>super simple course still worker ensure entran...</td>\n",
       "      <td>[\" 'technology'\", \" 'shopping experience'\", \" ...</td>\n",
       "      <td>positive</td>\n",
       "      <td>0.0</td>\n",
       "      <td>0.0</td>\n",
       "      <td>1.0</td>\n",
       "      <td>1.0</td>\n",
       "      <td>1.0</td>\n",
       "      <td>1.0</td>\n",
       "      <td>0.0</td>\n",
       "      <td>0.0</td>\n",
       "      <td>0.0</td>\n",
       "      <td>0.0</td>\n",
       "    </tr>\n",
       "    <tr>\n",
       "      <th>...</th>\n",
       "      <td>...</td>\n",
       "      <td>...</td>\n",
       "      <td>...</td>\n",
       "      <td>...</td>\n",
       "      <td>...</td>\n",
       "      <td>...</td>\n",
       "      <td>...</td>\n",
       "      <td>...</td>\n",
       "      <td>...</td>\n",
       "      <td>...</td>\n",
       "      <td>...</td>\n",
       "      <td>...</td>\n",
       "      <td>...</td>\n",
       "      <td>...</td>\n",
       "      <td>...</td>\n",
       "      <td>...</td>\n",
       "    </tr>\n",
       "    <tr>\n",
       "      <th>87641</th>\n",
       "      <td>Melissa C.</td>\n",
       "      <td>2020-08-09</td>\n",
       "      <td>Walmart</td>\n",
       "      <td>time worth stop come unless</td>\n",
       "      <td>[\" 'price and value'\"]</td>\n",
       "      <td>negative</td>\n",
       "      <td>0.0</td>\n",
       "      <td>0.0</td>\n",
       "      <td>0.0</td>\n",
       "      <td>0.0</td>\n",
       "      <td>0.0</td>\n",
       "      <td>0.0</td>\n",
       "      <td>0.0</td>\n",
       "      <td>1.0</td>\n",
       "      <td>0.0</td>\n",
       "      <td>0.0</td>\n",
       "    </tr>\n",
       "    <tr>\n",
       "      <th>87642</th>\n",
       "      <td>Mark H.</td>\n",
       "      <td>2020-09-09</td>\n",
       "      <td>Walmart</td>\n",
       "      <td>lose shipment twice row delay order two week s...</td>\n",
       "      <td>[\" 'technology'\", \" 'unemployment'\"]</td>\n",
       "      <td>negative</td>\n",
       "      <td>0.0</td>\n",
       "      <td>0.0</td>\n",
       "      <td>1.0</td>\n",
       "      <td>0.0</td>\n",
       "      <td>0.0</td>\n",
       "      <td>1.0</td>\n",
       "      <td>0.0</td>\n",
       "      <td>0.0</td>\n",
       "      <td>0.0</td>\n",
       "      <td>0.0</td>\n",
       "    </tr>\n",
       "    <tr>\n",
       "      <th>87643</th>\n",
       "      <td>Mark H.</td>\n",
       "      <td>2020-09-09</td>\n",
       "      <td>Walmart</td>\n",
       "      <td>call refund tell would take day get money back</td>\n",
       "      <td>[\" 'price and value'\", \" 'payment and checkout'\"]</td>\n",
       "      <td>neutral</td>\n",
       "      <td>0.0</td>\n",
       "      <td>0.0</td>\n",
       "      <td>0.0</td>\n",
       "      <td>1.0</td>\n",
       "      <td>0.0</td>\n",
       "      <td>0.0</td>\n",
       "      <td>0.0</td>\n",
       "      <td>1.0</td>\n",
       "      <td>0.0</td>\n",
       "      <td>0.0</td>\n",
       "    </tr>\n",
       "    <tr>\n",
       "      <th>87644</th>\n",
       "      <td>Lorna B.</td>\n",
       "      <td>2021-09-09</td>\n",
       "      <td>Walmart</td>\n",
       "      <td>far too many grocery available store not avail...</td>\n",
       "      <td>[\" 'technology'\", \" 'general'\"]</td>\n",
       "      <td>neutral</td>\n",
       "      <td>0.0</td>\n",
       "      <td>0.0</td>\n",
       "      <td>1.0</td>\n",
       "      <td>0.0</td>\n",
       "      <td>0.0</td>\n",
       "      <td>0.0</td>\n",
       "      <td>0.0</td>\n",
       "      <td>0.0</td>\n",
       "      <td>1.0</td>\n",
       "      <td>0.0</td>\n",
       "    </tr>\n",
       "    <tr>\n",
       "      <th>87645</th>\n",
       "      <td>NATISHA J.</td>\n",
       "      <td>2021-09-09</td>\n",
       "      <td>Walmart</td>\n",
       "      <td>place need walmart lead sell good merchandise ...</td>\n",
       "      <td>[\" 'shopping experience'\"]</td>\n",
       "      <td>positive</td>\n",
       "      <td>0.0</td>\n",
       "      <td>0.0</td>\n",
       "      <td>0.0</td>\n",
       "      <td>0.0</td>\n",
       "      <td>1.0</td>\n",
       "      <td>0.0</td>\n",
       "      <td>0.0</td>\n",
       "      <td>0.0</td>\n",
       "      <td>0.0</td>\n",
       "      <td>0.0</td>\n",
       "    </tr>\n",
       "  </tbody>\n",
       "</table>\n",
       "<p>87646 rows × 16 columns</p>\n",
       "</div>"
      ],
      "text/plain": [
       "             Name        Time      Store  \\\n",
       "0        Jenae K.  2018-06-01  Amazon Go   \n",
       "1        Jenae K.  2018-06-01  Amazon Go   \n",
       "2        Jenae K.  2018-06-01  Amazon Go   \n",
       "3        Jenae K.  2018-06-01  Amazon Go   \n",
       "4        Jenae K.  2018-06-01  Amazon Go   \n",
       "...           ...         ...        ...   \n",
       "87641  Melissa C.  2020-08-09    Walmart   \n",
       "87642     Mark H.  2020-09-09    Walmart   \n",
       "87643     Mark H.  2020-09-09    Walmart   \n",
       "87644    Lorna B.  2021-09-09    Walmart   \n",
       "87645  NATISHA J.  2021-09-09    Walmart   \n",
       "\n",
       "                                                 Comment  \\\n",
       "0      store awesome super cool concept definitley se...   \n",
       "1      scan app enter store grab whatever want shelf ...   \n",
       "2                    product shelf sensor know grab item   \n",
       "3                               crazy no cashier no line   \n",
       "4      super simple course still worker ensure entran...   \n",
       "...                                                  ...   \n",
       "87641                        time worth stop come unless   \n",
       "87642  lose shipment twice row delay order two week s...   \n",
       "87643     call refund tell would take day get money back   \n",
       "87644  far too many grocery available store not avail...   \n",
       "87645  place need walmart lead sell good merchandise ...   \n",
       "\n",
       "                                                  Aspect  polarity  \\\n",
       "0      [\" 'data integration'\", \" 'marketing and commu...  positive   \n",
       "1           [\" 'technology'\", \" 'payment and checkout'\"]  positive   \n",
       "2                                      [\" 'technology'\"]   neutral   \n",
       "3                            [\" 'payment and checkout'\"]  negative   \n",
       "4      [\" 'technology'\", \" 'shopping experience'\", \" ...  positive   \n",
       "...                                                  ...       ...   \n",
       "87641                             [\" 'price and value'\"]  negative   \n",
       "87642               [\" 'technology'\", \" 'unemployment'\"]  negative   \n",
       "87643  [\" 'price and value'\", \" 'payment and checkout'\"]   neutral   \n",
       "87644                    [\" 'technology'\", \" 'general'\"]   neutral   \n",
       "87645                         [\" 'shopping experience'\"]  positive   \n",
       "\n",
       "        'data integration'   'marketing and communication'   'technology'  \\\n",
       "0                      1.0                             1.0            0.0   \n",
       "1                      0.0                             0.0            1.0   \n",
       "2                      0.0                             0.0            1.0   \n",
       "3                      0.0                             0.0            0.0   \n",
       "4                      0.0                             0.0            1.0   \n",
       "...                    ...                             ...            ...   \n",
       "87641                  0.0                             0.0            0.0   \n",
       "87642                  0.0                             0.0            1.0   \n",
       "87643                  0.0                             0.0            0.0   \n",
       "87644                  0.0                             0.0            1.0   \n",
       "87645                  0.0                             0.0            0.0   \n",
       "\n",
       "        'payment and checkout'   'shopping experience'   'unemployment'  \\\n",
       "0                          0.0                     0.0              0.0   \n",
       "1                          1.0                     0.0              0.0   \n",
       "2                          0.0                     0.0              0.0   \n",
       "3                          1.0                     0.0              0.0   \n",
       "4                          1.0                     1.0              1.0   \n",
       "...                        ...                     ...              ...   \n",
       "87641                      0.0                     0.0              0.0   \n",
       "87642                      0.0                     0.0              1.0   \n",
       "87643                      1.0                     0.0              0.0   \n",
       "87644                      0.0                     0.0              0.0   \n",
       "87645                      0.0                     1.0              0.0   \n",
       "\n",
       "        'product available and store design'   'price and value'   'general'  \\\n",
       "0                                        0.0                 0.0         0.0   \n",
       "1                                        0.0                 0.0         0.0   \n",
       "2                                        0.0                 0.0         0.0   \n",
       "3                                        0.0                 0.0         0.0   \n",
       "4                                        0.0                 0.0         0.0   \n",
       "...                                      ...                 ...         ...   \n",
       "87641                                    0.0                 1.0         0.0   \n",
       "87642                                    0.0                 0.0         0.0   \n",
       "87643                                    0.0                 1.0         0.0   \n",
       "87644                                    0.0                 0.0         1.0   \n",
       "87645                                    0.0                 0.0         0.0   \n",
       "\n",
       "        'privacy and security'  \n",
       "0                          0.0  \n",
       "1                          0.0  \n",
       "2                          0.0  \n",
       "3                          0.0  \n",
       "4                          0.0  \n",
       "...                        ...  \n",
       "87641                      0.0  \n",
       "87642                      0.0  \n",
       "87643                      0.0  \n",
       "87644                      0.0  \n",
       "87645                      0.0  \n",
       "\n",
       "[87646 rows x 16 columns]"
      ]
     },
     "execution_count": 65,
     "metadata": {},
     "output_type": "execute_result"
    }
   ],
   "source": [
    "# read data\n",
    "df = pd.read_csv('Data_drop_year.csv')\n",
    "df"
   ]
  },
  {
   "cell_type": "code",
   "execution_count": 66,
   "metadata": {},
   "outputs": [],
   "source": [
    "from IPython.display import Markdown, display\n",
    "def printmd(string):\n",
    "    display(Markdown(string))\n",
    "#printmd('**bold**')"
   ]
  },
  {
   "cell_type": "code",
   "execution_count": 67,
   "metadata": {},
   "outputs": [
    {
     "name": "stdout",
     "output_type": "stream",
     "text": [
      "Number of rows in data = 87646\n",
      "Number of columns in data = 16\n",
      "\n",
      "\n"
     ]
    },
    {
     "data": {
      "text/markdown": [
       "**Sample data:**"
      ],
      "text/plain": [
       "<IPython.core.display.Markdown object>"
      ]
     },
     "metadata": {},
     "output_type": "display_data"
    },
    {
     "data": {
      "text/html": [
       "<div>\n",
       "<style scoped>\n",
       "    .dataframe tbody tr th:only-of-type {\n",
       "        vertical-align: middle;\n",
       "    }\n",
       "\n",
       "    .dataframe tbody tr th {\n",
       "        vertical-align: top;\n",
       "    }\n",
       "\n",
       "    .dataframe thead th {\n",
       "        text-align: right;\n",
       "    }\n",
       "</style>\n",
       "<table border=\"1\" class=\"dataframe\">\n",
       "  <thead>\n",
       "    <tr style=\"text-align: right;\">\n",
       "      <th></th>\n",
       "      <th>Name</th>\n",
       "      <th>Time</th>\n",
       "      <th>Store</th>\n",
       "      <th>Comment</th>\n",
       "      <th>Aspect</th>\n",
       "      <th>polarity</th>\n",
       "      <th>'data integration'</th>\n",
       "      <th>'marketing and communication'</th>\n",
       "      <th>'technology'</th>\n",
       "      <th>'payment and checkout'</th>\n",
       "      <th>'shopping experience'</th>\n",
       "      <th>'unemployment'</th>\n",
       "      <th>'product available and store design'</th>\n",
       "      <th>'price and value'</th>\n",
       "      <th>'general'</th>\n",
       "      <th>'privacy and security'</th>\n",
       "    </tr>\n",
       "  </thead>\n",
       "  <tbody>\n",
       "    <tr>\n",
       "      <th>0</th>\n",
       "      <td>Jenae K.</td>\n",
       "      <td>2018-06-01</td>\n",
       "      <td>Amazon Go</td>\n",
       "      <td>store awesome super cool concept definitley se...</td>\n",
       "      <td>[\" 'data integration'\", \" 'marketing and commu...</td>\n",
       "      <td>positive</td>\n",
       "      <td>1.0</td>\n",
       "      <td>1.0</td>\n",
       "      <td>0.0</td>\n",
       "      <td>0.0</td>\n",
       "      <td>0.0</td>\n",
       "      <td>0.0</td>\n",
       "      <td>0.0</td>\n",
       "      <td>0.0</td>\n",
       "      <td>0.0</td>\n",
       "      <td>0.0</td>\n",
       "    </tr>\n",
       "    <tr>\n",
       "      <th>1</th>\n",
       "      <td>Jenae K.</td>\n",
       "      <td>2018-06-01</td>\n",
       "      <td>Amazon Go</td>\n",
       "      <td>scan app enter store grab whatever want shelf ...</td>\n",
       "      <td>[\" 'technology'\", \" 'payment and checkout'\"]</td>\n",
       "      <td>positive</td>\n",
       "      <td>0.0</td>\n",
       "      <td>0.0</td>\n",
       "      <td>1.0</td>\n",
       "      <td>1.0</td>\n",
       "      <td>0.0</td>\n",
       "      <td>0.0</td>\n",
       "      <td>0.0</td>\n",
       "      <td>0.0</td>\n",
       "      <td>0.0</td>\n",
       "      <td>0.0</td>\n",
       "    </tr>\n",
       "    <tr>\n",
       "      <th>2</th>\n",
       "      <td>Jenae K.</td>\n",
       "      <td>2018-06-01</td>\n",
       "      <td>Amazon Go</td>\n",
       "      <td>product shelf sensor know grab item</td>\n",
       "      <td>[\" 'technology'\"]</td>\n",
       "      <td>neutral</td>\n",
       "      <td>0.0</td>\n",
       "      <td>0.0</td>\n",
       "      <td>1.0</td>\n",
       "      <td>0.0</td>\n",
       "      <td>0.0</td>\n",
       "      <td>0.0</td>\n",
       "      <td>0.0</td>\n",
       "      <td>0.0</td>\n",
       "      <td>0.0</td>\n",
       "      <td>0.0</td>\n",
       "    </tr>\n",
       "    <tr>\n",
       "      <th>3</th>\n",
       "      <td>Jenae K.</td>\n",
       "      <td>2018-06-01</td>\n",
       "      <td>Amazon Go</td>\n",
       "      <td>crazy no cashier no line</td>\n",
       "      <td>[\" 'payment and checkout'\"]</td>\n",
       "      <td>negative</td>\n",
       "      <td>0.0</td>\n",
       "      <td>0.0</td>\n",
       "      <td>0.0</td>\n",
       "      <td>1.0</td>\n",
       "      <td>0.0</td>\n",
       "      <td>0.0</td>\n",
       "      <td>0.0</td>\n",
       "      <td>0.0</td>\n",
       "      <td>0.0</td>\n",
       "      <td>0.0</td>\n",
       "    </tr>\n",
       "    <tr>\n",
       "      <th>4</th>\n",
       "      <td>Jenae K.</td>\n",
       "      <td>2018-06-01</td>\n",
       "      <td>Amazon Go</td>\n",
       "      <td>super simple course still worker ensure entran...</td>\n",
       "      <td>[\" 'technology'\", \" 'shopping experience'\", \" ...</td>\n",
       "      <td>positive</td>\n",
       "      <td>0.0</td>\n",
       "      <td>0.0</td>\n",
       "      <td>1.0</td>\n",
       "      <td>1.0</td>\n",
       "      <td>1.0</td>\n",
       "      <td>1.0</td>\n",
       "      <td>0.0</td>\n",
       "      <td>0.0</td>\n",
       "      <td>0.0</td>\n",
       "      <td>0.0</td>\n",
       "    </tr>\n",
       "  </tbody>\n",
       "</table>\n",
       "</div>"
      ],
      "text/plain": [
       "       Name        Time      Store  \\\n",
       "0  Jenae K.  2018-06-01  Amazon Go   \n",
       "1  Jenae K.  2018-06-01  Amazon Go   \n",
       "2  Jenae K.  2018-06-01  Amazon Go   \n",
       "3  Jenae K.  2018-06-01  Amazon Go   \n",
       "4  Jenae K.  2018-06-01  Amazon Go   \n",
       "\n",
       "                                             Comment  \\\n",
       "0  store awesome super cool concept definitley se...   \n",
       "1  scan app enter store grab whatever want shelf ...   \n",
       "2                product shelf sensor know grab item   \n",
       "3                           crazy no cashier no line   \n",
       "4  super simple course still worker ensure entran...   \n",
       "\n",
       "                                              Aspect  polarity  \\\n",
       "0  [\" 'data integration'\", \" 'marketing and commu...  positive   \n",
       "1       [\" 'technology'\", \" 'payment and checkout'\"]  positive   \n",
       "2                                  [\" 'technology'\"]   neutral   \n",
       "3                        [\" 'payment and checkout'\"]  negative   \n",
       "4  [\" 'technology'\", \" 'shopping experience'\", \" ...  positive   \n",
       "\n",
       "    'data integration'   'marketing and communication'   'technology'  \\\n",
       "0                  1.0                             1.0            0.0   \n",
       "1                  0.0                             0.0            1.0   \n",
       "2                  0.0                             0.0            1.0   \n",
       "3                  0.0                             0.0            0.0   \n",
       "4                  0.0                             0.0            1.0   \n",
       "\n",
       "    'payment and checkout'   'shopping experience'   'unemployment'  \\\n",
       "0                      0.0                     0.0              0.0   \n",
       "1                      1.0                     0.0              0.0   \n",
       "2                      0.0                     0.0              0.0   \n",
       "3                      1.0                     0.0              0.0   \n",
       "4                      1.0                     1.0              1.0   \n",
       "\n",
       "    'product available and store design'   'price and value'   'general'  \\\n",
       "0                                    0.0                 0.0         0.0   \n",
       "1                                    0.0                 0.0         0.0   \n",
       "2                                    0.0                 0.0         0.0   \n",
       "3                                    0.0                 0.0         0.0   \n",
       "4                                    0.0                 0.0         0.0   \n",
       "\n",
       "    'privacy and security'  \n",
       "0                      0.0  \n",
       "1                      0.0  \n",
       "2                      0.0  \n",
       "3                      0.0  \n",
       "4                      0.0  "
      ]
     },
     "execution_count": 67,
     "metadata": {},
     "output_type": "execute_result"
    }
   ],
   "source": [
    "print(\"Number of rows in data =\",df.shape[0])\n",
    "print(\"Number of columns in data =\",df.shape[1])\n",
    "print(\"\\n\")\n",
    "printmd(\"**Sample data:**\")\n",
    "df.head()"
   ]
  },
  {
   "cell_type": "code",
   "execution_count": 68,
   "metadata": {},
   "outputs": [
    {
     "name": "stdout",
     "output_type": "stream",
     "text": [
      "[\" 'data integration'\", \" 'marketing and communication'\", \" 'technology'\", \" 'payment and checkout'\", \" 'shopping experience'\", \" 'unemployment'\", \" 'product available and store design'\", \" 'price and value'\", \" 'general'\", \" 'privacy and security'\"]\n"
     ]
    }
   ],
   "source": [
    "categories = list(df.columns.values)\n",
    "categories = categories[6:]\n",
    "print(categories)"
   ]
  },
  {
   "cell_type": "code",
   "execution_count": 69,
   "metadata": {},
   "outputs": [
    {
     "name": "stdout",
     "output_type": "stream",
     "text": [
      "(61352, 16)\n",
      "(26294, 16)\n"
     ]
    }
   ],
   "source": [
    "from sklearn.model_selection import train_test_split\n",
    "\n",
    "train, test = train_test_split(df, random_state=42, test_size=0.30, shuffle=True)\n",
    "\n",
    "print(train.shape)\n",
    "print(test.shape)"
   ]
  },
  {
   "cell_type": "code",
   "execution_count": 70,
   "metadata": {},
   "outputs": [],
   "source": [
    "train_text = train['Comment']\n",
    "test_text = test['Comment']"
   ]
  },
  {
   "cell_type": "code",
   "execution_count": 71,
   "metadata": {},
   "outputs": [
    {
     "data": {
      "text/html": [
       "<style>#sk-container-id-3 {color: black;background-color: white;}#sk-container-id-3 pre{padding: 0;}#sk-container-id-3 div.sk-toggleable {background-color: white;}#sk-container-id-3 label.sk-toggleable__label {cursor: pointer;display: block;width: 100%;margin-bottom: 0;padding: 0.3em;box-sizing: border-box;text-align: center;}#sk-container-id-3 label.sk-toggleable__label-arrow:before {content: \"▸\";float: left;margin-right: 0.25em;color: #696969;}#sk-container-id-3 label.sk-toggleable__label-arrow:hover:before {color: black;}#sk-container-id-3 div.sk-estimator:hover label.sk-toggleable__label-arrow:before {color: black;}#sk-container-id-3 div.sk-toggleable__content {max-height: 0;max-width: 0;overflow: hidden;text-align: left;background-color: #f0f8ff;}#sk-container-id-3 div.sk-toggleable__content pre {margin: 0.2em;color: black;border-radius: 0.25em;background-color: #f0f8ff;}#sk-container-id-3 input.sk-toggleable__control:checked~div.sk-toggleable__content {max-height: 200px;max-width: 100%;overflow: auto;}#sk-container-id-3 input.sk-toggleable__control:checked~label.sk-toggleable__label-arrow:before {content: \"▾\";}#sk-container-id-3 div.sk-estimator input.sk-toggleable__control:checked~label.sk-toggleable__label {background-color: #d4ebff;}#sk-container-id-3 div.sk-label input.sk-toggleable__control:checked~label.sk-toggleable__label {background-color: #d4ebff;}#sk-container-id-3 input.sk-hidden--visually {border: 0;clip: rect(1px 1px 1px 1px);clip: rect(1px, 1px, 1px, 1px);height: 1px;margin: -1px;overflow: hidden;padding: 0;position: absolute;width: 1px;}#sk-container-id-3 div.sk-estimator {font-family: monospace;background-color: #f0f8ff;border: 1px dotted black;border-radius: 0.25em;box-sizing: border-box;margin-bottom: 0.5em;}#sk-container-id-3 div.sk-estimator:hover {background-color: #d4ebff;}#sk-container-id-3 div.sk-parallel-item::after {content: \"\";width: 100%;border-bottom: 1px solid gray;flex-grow: 1;}#sk-container-id-3 div.sk-label:hover label.sk-toggleable__label {background-color: #d4ebff;}#sk-container-id-3 div.sk-serial::before {content: \"\";position: absolute;border-left: 1px solid gray;box-sizing: border-box;top: 0;bottom: 0;left: 50%;z-index: 0;}#sk-container-id-3 div.sk-serial {display: flex;flex-direction: column;align-items: center;background-color: white;padding-right: 0.2em;padding-left: 0.2em;position: relative;}#sk-container-id-3 div.sk-item {position: relative;z-index: 1;}#sk-container-id-3 div.sk-parallel {display: flex;align-items: stretch;justify-content: center;background-color: white;position: relative;}#sk-container-id-3 div.sk-item::before, #sk-container-id-3 div.sk-parallel-item::before {content: \"\";position: absolute;border-left: 1px solid gray;box-sizing: border-box;top: 0;bottom: 0;left: 50%;z-index: -1;}#sk-container-id-3 div.sk-parallel-item {display: flex;flex-direction: column;z-index: 1;position: relative;background-color: white;}#sk-container-id-3 div.sk-parallel-item:first-child::after {align-self: flex-end;width: 50%;}#sk-container-id-3 div.sk-parallel-item:last-child::after {align-self: flex-start;width: 50%;}#sk-container-id-3 div.sk-parallel-item:only-child::after {width: 0;}#sk-container-id-3 div.sk-dashed-wrapped {border: 1px dashed gray;margin: 0 0.4em 0.5em 0.4em;box-sizing: border-box;padding-bottom: 0.4em;background-color: white;}#sk-container-id-3 div.sk-label label {font-family: monospace;font-weight: bold;display: inline-block;line-height: 1.2em;}#sk-container-id-3 div.sk-label-container {text-align: center;}#sk-container-id-3 div.sk-container {/* jupyter's `normalize.less` sets `[hidden] { display: none; }` but bootstrap.min.css set `[hidden] { display: none !important; }` so we also need the `!important` here to be able to override the default hidden behavior on the sphinx rendered scikit-learn.org. See: https://github.com/scikit-learn/scikit-learn/issues/21755 */display: inline-block !important;position: relative;}#sk-container-id-3 div.sk-text-repr-fallback {display: none;}</style><div id=\"sk-container-id-3\" class=\"sk-top-container\"><div class=\"sk-text-repr-fallback\"><pre>TfidfVectorizer(ngram_range=(1, 3), strip_accents=&#x27;unicode&#x27;)</pre><b>In a Jupyter environment, please rerun this cell to show the HTML representation or trust the notebook. <br />On GitHub, the HTML representation is unable to render, please try loading this page with nbviewer.org.</b></div><div class=\"sk-container\" hidden><div class=\"sk-item\"><div class=\"sk-estimator sk-toggleable\"><input class=\"sk-toggleable__control sk-hidden--visually\" id=\"sk-estimator-id-3\" type=\"checkbox\" checked><label for=\"sk-estimator-id-3\" class=\"sk-toggleable__label sk-toggleable__label-arrow\">TfidfVectorizer</label><div class=\"sk-toggleable__content\"><pre>TfidfVectorizer(ngram_range=(1, 3), strip_accents=&#x27;unicode&#x27;)</pre></div></div></div></div></div>"
      ],
      "text/plain": [
       "TfidfVectorizer(ngram_range=(1, 3), strip_accents='unicode')"
      ]
     },
     "execution_count": 71,
     "metadata": {},
     "output_type": "execute_result"
    }
   ],
   "source": [
    "from sklearn.feature_extraction.text import TfidfVectorizer\n",
    "vectorizer = TfidfVectorizer(strip_accents='unicode', analyzer='word', ngram_range=(1,3), norm='l2')\n",
    "vectorizer.fit(train_text)\n",
    "vectorizer.fit(test_text)"
   ]
  },
  {
   "cell_type": "code",
   "execution_count": 72,
   "metadata": {},
   "outputs": [],
   "source": [
    "x_train = vectorizer.transform(train_text)\n",
    "y_train = train.drop(labels = ['Comment','Name','Time','Store'], axis=1)\n",
    "\n",
    "x_test = vectorizer.transform(test_text)\n",
    "y_test = test.drop(labels = ['Comment','Name','Time','Store'], axis=1)"
   ]
  },
  {
   "cell_type": "code",
   "execution_count": 73,
   "metadata": {},
   "outputs": [],
   "source": [
    "from sklearn.ensemble import RandomForestClassifier\n",
    "from sklearn.pipeline import Pipeline\n",
    "from sklearn.metrics import accuracy_score\n",
    "from sklearn.multiclass import OneVsRestClassifier"
   ]
  },
  {
   "cell_type": "code",
   "execution_count": 74,
   "metadata": {},
   "outputs": [
    {
     "data": {
      "text/markdown": [
       "**Processing  'data integration' comments...**"
      ],
      "text/plain": [
       "<IPython.core.display.Markdown object>"
      ]
     },
     "metadata": {},
     "output_type": "display_data"
    },
    {
     "name": "stdout",
     "output_type": "stream",
     "text": [
      "Test accuracy is 0.974632996120788\n",
      "\n",
      "\n"
     ]
    },
    {
     "data": {
      "text/markdown": [
       "**Processing  'marketing and communication' comments...**"
      ],
      "text/plain": [
       "<IPython.core.display.Markdown object>"
      ]
     },
     "metadata": {},
     "output_type": "display_data"
    },
    {
     "name": "stdout",
     "output_type": "stream",
     "text": [
      "Test accuracy is 0.9547805583022743\n",
      "\n",
      "\n"
     ]
    },
    {
     "data": {
      "text/markdown": [
       "**Processing  'technology' comments...**"
      ],
      "text/plain": [
       "<IPython.core.display.Markdown object>"
      ]
     },
     "metadata": {},
     "output_type": "display_data"
    },
    {
     "name": "stdout",
     "output_type": "stream",
     "text": [
      "Test accuracy is 0.6756674526507949\n",
      "\n",
      "\n"
     ]
    },
    {
     "data": {
      "text/markdown": [
       "**Processing  'payment and checkout' comments...**"
      ],
      "text/plain": [
       "<IPython.core.display.Markdown object>"
      ]
     },
     "metadata": {},
     "output_type": "display_data"
    },
    {
     "name": "stdout",
     "output_type": "stream",
     "text": [
      "Test accuracy is 0.7031642199741386\n",
      "\n",
      "\n"
     ]
    },
    {
     "data": {
      "text/markdown": [
       "**Processing  'shopping experience' comments...**"
      ],
      "text/plain": [
       "<IPython.core.display.Markdown object>"
      ]
     },
     "metadata": {},
     "output_type": "display_data"
    },
    {
     "name": "stdout",
     "output_type": "stream",
     "text": [
      "Test accuracy is 0.7804822392941355\n",
      "\n",
      "\n"
     ]
    },
    {
     "data": {
      "text/markdown": [
       "**Processing  'unemployment' comments...**"
      ],
      "text/plain": [
       "<IPython.core.display.Markdown object>"
      ]
     },
     "metadata": {},
     "output_type": "display_data"
    },
    {
     "name": "stdout",
     "output_type": "stream",
     "text": [
      "Test accuracy is 0.9146573362744352\n",
      "\n",
      "\n"
     ]
    },
    {
     "data": {
      "text/markdown": [
       "**Processing  'product available and store design' comments...**"
      ],
      "text/plain": [
       "<IPython.core.display.Markdown object>"
      ]
     },
     "metadata": {},
     "output_type": "display_data"
    },
    {
     "name": "stdout",
     "output_type": "stream",
     "text": [
      "Test accuracy is 0.9237088309119952\n",
      "\n",
      "\n"
     ]
    },
    {
     "data": {
      "text/markdown": [
       "**Processing  'price and value' comments...**"
      ],
      "text/plain": [
       "<IPython.core.display.Markdown object>"
      ]
     },
     "metadata": {},
     "output_type": "display_data"
    },
    {
     "name": "stdout",
     "output_type": "stream",
     "text": [
      "Test accuracy is 0.8793260819958926\n",
      "\n",
      "\n"
     ]
    },
    {
     "data": {
      "text/markdown": [
       "**Processing  'general' comments...**"
      ],
      "text/plain": [
       "<IPython.core.display.Markdown object>"
      ]
     },
     "metadata": {},
     "output_type": "display_data"
    },
    {
     "name": "stdout",
     "output_type": "stream",
     "text": [
      "Test accuracy is 0.7869475926066783\n",
      "\n",
      "\n"
     ]
    },
    {
     "data": {
      "text/markdown": [
       "**Processing  'privacy and security' comments...**"
      ],
      "text/plain": [
       "<IPython.core.display.Markdown object>"
      ]
     },
     "metadata": {},
     "output_type": "display_data"
    },
    {
     "name": "stdout",
     "output_type": "stream",
     "text": [
      "Test accuracy is 0.9078877310413022\n",
      "\n",
      "\n",
      "CPU times: total: 31.3 s\n",
      "Wall time: 11min 37s\n"
     ]
    }
   ],
   "source": [
    "%%time\n",
    "# Using pipeline for applying random forest and one vs rest classifier\n",
    "RF_pipeline = Pipeline([\n",
    "                ('clf', OneVsRestClassifier(RandomForestClassifier(n_estimators=200, max_depth=3, random_state=0), n_jobs=-1)),\n",
    "            ])\n",
    "for category in categories:\n",
    "    printmd('**Processing {} comments...**'.format(category))\n",
    "    \n",
    "    # Training random forest model on train data\n",
    "    RF_pipeline.fit(x_train, train[category])\n",
    "    \n",
    "    # calculating test accuracy\n",
    "    prediction = RF_pipeline.predict(x_test)\n",
    "    print('Test accuracy is {}'.format(accuracy_score(test[category], prediction)))\n",
    "    print(\"\\n\")\n"
   ]
  },
  {
   "attachments": {},
   "cell_type": "markdown",
   "metadata": {},
   "source": [
    "# Test ROC"
   ]
  },
  {
   "cell_type": "code",
   "execution_count": 75,
   "metadata": {},
   "outputs": [],
   "source": [
    "# create train and test data\n",
    "X_train, X_test, y_train, y_test = train_test_split(df['Comment'], df.drop(['Name','Time','Store','Comment','Aspect','polarity'],axis=1), test_size=0.2, random_state=42)"
   ]
  },
  {
   "cell_type": "code",
   "execution_count": 76,
   "metadata": {},
   "outputs": [
    {
     "data": {
      "text/html": [
       "<div>\n",
       "<style scoped>\n",
       "    .dataframe tbody tr th:only-of-type {\n",
       "        vertical-align: middle;\n",
       "    }\n",
       "\n",
       "    .dataframe tbody tr th {\n",
       "        vertical-align: top;\n",
       "    }\n",
       "\n",
       "    .dataframe thead th {\n",
       "        text-align: right;\n",
       "    }\n",
       "</style>\n",
       "<table border=\"1\" class=\"dataframe\">\n",
       "  <thead>\n",
       "    <tr style=\"text-align: right;\">\n",
       "      <th></th>\n",
       "      <th>'data integration'</th>\n",
       "      <th>'marketing and communication'</th>\n",
       "      <th>'technology'</th>\n",
       "      <th>'payment and checkout'</th>\n",
       "      <th>'shopping experience'</th>\n",
       "      <th>'unemployment'</th>\n",
       "      <th>'product available and store design'</th>\n",
       "      <th>'price and value'</th>\n",
       "      <th>'general'</th>\n",
       "      <th>'privacy and security'</th>\n",
       "    </tr>\n",
       "  </thead>\n",
       "  <tbody>\n",
       "    <tr>\n",
       "      <th>1647</th>\n",
       "      <td>0.0</td>\n",
       "      <td>0.0</td>\n",
       "      <td>1.0</td>\n",
       "      <td>1.0</td>\n",
       "      <td>0.0</td>\n",
       "      <td>0.0</td>\n",
       "      <td>0.0</td>\n",
       "      <td>0.0</td>\n",
       "      <td>0.0</td>\n",
       "      <td>0.0</td>\n",
       "    </tr>\n",
       "    <tr>\n",
       "      <th>39155</th>\n",
       "      <td>0.0</td>\n",
       "      <td>0.0</td>\n",
       "      <td>0.0</td>\n",
       "      <td>0.0</td>\n",
       "      <td>0.0</td>\n",
       "      <td>0.0</td>\n",
       "      <td>0.0</td>\n",
       "      <td>1.0</td>\n",
       "      <td>0.0</td>\n",
       "      <td>0.0</td>\n",
       "    </tr>\n",
       "    <tr>\n",
       "      <th>52561</th>\n",
       "      <td>0.0</td>\n",
       "      <td>0.0</td>\n",
       "      <td>1.0</td>\n",
       "      <td>0.0</td>\n",
       "      <td>0.0</td>\n",
       "      <td>0.0</td>\n",
       "      <td>0.0</td>\n",
       "      <td>0.0</td>\n",
       "      <td>0.0</td>\n",
       "      <td>0.0</td>\n",
       "    </tr>\n",
       "    <tr>\n",
       "      <th>21969</th>\n",
       "      <td>0.0</td>\n",
       "      <td>0.0</td>\n",
       "      <td>0.0</td>\n",
       "      <td>0.0</td>\n",
       "      <td>1.0</td>\n",
       "      <td>0.0</td>\n",
       "      <td>0.0</td>\n",
       "      <td>0.0</td>\n",
       "      <td>0.0</td>\n",
       "      <td>0.0</td>\n",
       "    </tr>\n",
       "    <tr>\n",
       "      <th>87221</th>\n",
       "      <td>0.0</td>\n",
       "      <td>0.0</td>\n",
       "      <td>1.0</td>\n",
       "      <td>0.0</td>\n",
       "      <td>0.0</td>\n",
       "      <td>0.0</td>\n",
       "      <td>0.0</td>\n",
       "      <td>0.0</td>\n",
       "      <td>1.0</td>\n",
       "      <td>0.0</td>\n",
       "    </tr>\n",
       "  </tbody>\n",
       "</table>\n",
       "</div>"
      ],
      "text/plain": [
       "        'data integration'   'marketing and communication'   'technology'  \\\n",
       "1647                   0.0                             0.0            1.0   \n",
       "39155                  0.0                             0.0            0.0   \n",
       "52561                  0.0                             0.0            1.0   \n",
       "21969                  0.0                             0.0            0.0   \n",
       "87221                  0.0                             0.0            1.0   \n",
       "\n",
       "        'payment and checkout'   'shopping experience'   'unemployment'  \\\n",
       "1647                       1.0                     0.0              0.0   \n",
       "39155                      0.0                     0.0              0.0   \n",
       "52561                      0.0                     0.0              0.0   \n",
       "21969                      0.0                     1.0              0.0   \n",
       "87221                      0.0                     0.0              0.0   \n",
       "\n",
       "        'product available and store design'   'price and value'   'general'  \\\n",
       "1647                                     0.0                 0.0         0.0   \n",
       "39155                                    0.0                 1.0         0.0   \n",
       "52561                                    0.0                 0.0         0.0   \n",
       "21969                                    0.0                 0.0         0.0   \n",
       "87221                                    0.0                 0.0         1.0   \n",
       "\n",
       "        'privacy and security'  \n",
       "1647                       0.0  \n",
       "39155                      0.0  \n",
       "52561                      0.0  \n",
       "21969                      0.0  \n",
       "87221                      0.0  "
      ]
     },
     "execution_count": 76,
     "metadata": {},
     "output_type": "execute_result"
    }
   ],
   "source": [
    "y_train.head()"
   ]
  },
  {
   "cell_type": "code",
   "execution_count": 77,
   "metadata": {},
   "outputs": [
    {
     "name": "stdout",
     "output_type": "stream",
     "text": [
      "Accuracy =  0.7406731317741015\n",
      "ROC_AUC_Score =  0.8966700562477223\n"
     ]
    }
   ],
   "source": [
    "# create a pipeline for random forest with onevsrest classifier and tfidf vectorizer\n",
    "from sklearn.pipeline import Pipeline\n",
    "from sklearn.feature_extraction.text import TfidfVectorizer\n",
    "from sklearn.multiclass import OneVsRestClassifier\n",
    "from sklearn.ensemble import RandomForestClassifier\n",
    "\n",
    "#import roc_auc_score\n",
    "from sklearn.metrics import roc_auc_score\n",
    "\n",
    "# create a pipeline\n",
    "pipeline = Pipeline([\n",
    "    ('tfidf', TfidfVectorizer(stop_words='english')),\n",
    "    ('clf', OneVsRestClassifier(RandomForestClassifier(random_state=0), n_jobs=-1)),\n",
    "])\n",
    "\n",
    "# fit the training dataset on the pipeline\n",
    "pipeline.fit(X_train, y_train)\n",
    "\n",
    "# make predictions on the test set\n",
    "predictions = pipeline.predict(X_test)\n",
    "\n",
    "# calculate accuracy\n",
    "accuracy = accuracy_score(y_test,predictions)\n",
    "print(\"Accuracy = \", accuracy)\n",
    "\n",
    "# calculate roc_auc_score\n",
    "roc_auc = roc_auc_score(y_test,predictions)\n",
    "print(\"ROC_AUC_Score = \", roc_auc)"
   ]
  },
  {
   "cell_type": "code",
   "execution_count": 78,
   "metadata": {},
   "outputs": [],
   "source": [
    "y_train_pred = pipeline.predict_proba(X_train)\n",
    "y_test_pred = pipeline.predict_proba(X_test)\n",
    "\n"
   ]
  },
  {
   "cell_type": "code",
   "execution_count": 79,
   "metadata": {},
   "outputs": [
    {
     "name": "stdout",
     "output_type": "stream",
     "text": [
      "roc_auc_score_train =  0.9999719113512542\n",
      "roc_auc_score_test =  0.9831569253438457\n"
     ]
    }
   ],
   "source": [
    "roc_auc_score_train = roc_auc_score(y_train, y_train_pred, average='weighted')\n",
    "roc_auc_score_test = roc_auc_score(y_test, y_test_pred, average='weighted')\n",
    "\n",
    "print(\"roc_auc_score_train = \", roc_auc_score_train)\n",
    "print(\"roc_auc_score_test = \", roc_auc_score_test)\n"
   ]
  },
  {
   "attachments": {},
   "cell_type": "markdown",
   "metadata": {},
   "source": [
    "# Create pipeline with k-fold cross validation\n"
   ]
  },
  {
   "cell_type": "code",
   "execution_count": 94,
   "metadata": {},
   "outputs": [
    {
     "data": {
      "text/html": [
       "<div>\n",
       "<style scoped>\n",
       "    .dataframe tbody tr th:only-of-type {\n",
       "        vertical-align: middle;\n",
       "    }\n",
       "\n",
       "    .dataframe tbody tr th {\n",
       "        vertical-align: top;\n",
       "    }\n",
       "\n",
       "    .dataframe thead th {\n",
       "        text-align: right;\n",
       "    }\n",
       "</style>\n",
       "<table border=\"1\" class=\"dataframe\">\n",
       "  <thead>\n",
       "    <tr style=\"text-align: right;\">\n",
       "      <th></th>\n",
       "      <th>'data integration'</th>\n",
       "      <th>'marketing and communication'</th>\n",
       "      <th>'technology'</th>\n",
       "      <th>'payment and checkout'</th>\n",
       "      <th>'shopping experience'</th>\n",
       "      <th>'unemployment'</th>\n",
       "      <th>'product available and store design'</th>\n",
       "      <th>'price and value'</th>\n",
       "      <th>'general'</th>\n",
       "      <th>'privacy and security'</th>\n",
       "    </tr>\n",
       "  </thead>\n",
       "  <tbody>\n",
       "    <tr>\n",
       "      <th>1647</th>\n",
       "      <td>0.0</td>\n",
       "      <td>0.0</td>\n",
       "      <td>1.0</td>\n",
       "      <td>1.0</td>\n",
       "      <td>0.0</td>\n",
       "      <td>0.0</td>\n",
       "      <td>0.0</td>\n",
       "      <td>0.0</td>\n",
       "      <td>0.0</td>\n",
       "      <td>0.0</td>\n",
       "    </tr>\n",
       "    <tr>\n",
       "      <th>39155</th>\n",
       "      <td>0.0</td>\n",
       "      <td>0.0</td>\n",
       "      <td>0.0</td>\n",
       "      <td>0.0</td>\n",
       "      <td>0.0</td>\n",
       "      <td>0.0</td>\n",
       "      <td>0.0</td>\n",
       "      <td>1.0</td>\n",
       "      <td>0.0</td>\n",
       "      <td>0.0</td>\n",
       "    </tr>\n",
       "    <tr>\n",
       "      <th>52561</th>\n",
       "      <td>0.0</td>\n",
       "      <td>0.0</td>\n",
       "      <td>1.0</td>\n",
       "      <td>0.0</td>\n",
       "      <td>0.0</td>\n",
       "      <td>0.0</td>\n",
       "      <td>0.0</td>\n",
       "      <td>0.0</td>\n",
       "      <td>0.0</td>\n",
       "      <td>0.0</td>\n",
       "    </tr>\n",
       "    <tr>\n",
       "      <th>21969</th>\n",
       "      <td>0.0</td>\n",
       "      <td>0.0</td>\n",
       "      <td>0.0</td>\n",
       "      <td>0.0</td>\n",
       "      <td>1.0</td>\n",
       "      <td>0.0</td>\n",
       "      <td>0.0</td>\n",
       "      <td>0.0</td>\n",
       "      <td>0.0</td>\n",
       "      <td>0.0</td>\n",
       "    </tr>\n",
       "    <tr>\n",
       "      <th>87221</th>\n",
       "      <td>0.0</td>\n",
       "      <td>0.0</td>\n",
       "      <td>1.0</td>\n",
       "      <td>0.0</td>\n",
       "      <td>0.0</td>\n",
       "      <td>0.0</td>\n",
       "      <td>0.0</td>\n",
       "      <td>0.0</td>\n",
       "      <td>1.0</td>\n",
       "      <td>0.0</td>\n",
       "    </tr>\n",
       "  </tbody>\n",
       "</table>\n",
       "</div>"
      ],
      "text/plain": [
       "        'data integration'   'marketing and communication'   'technology'  \\\n",
       "1647                   0.0                             0.0            1.0   \n",
       "39155                  0.0                             0.0            0.0   \n",
       "52561                  0.0                             0.0            1.0   \n",
       "21969                  0.0                             0.0            0.0   \n",
       "87221                  0.0                             0.0            1.0   \n",
       "\n",
       "        'payment and checkout'   'shopping experience'   'unemployment'  \\\n",
       "1647                       1.0                     0.0              0.0   \n",
       "39155                      0.0                     0.0              0.0   \n",
       "52561                      0.0                     0.0              0.0   \n",
       "21969                      0.0                     1.0              0.0   \n",
       "87221                      0.0                     0.0              0.0   \n",
       "\n",
       "        'product available and store design'   'price and value'   'general'  \\\n",
       "1647                                     0.0                 0.0         0.0   \n",
       "39155                                    0.0                 1.0         0.0   \n",
       "52561                                    0.0                 0.0         0.0   \n",
       "21969                                    0.0                 0.0         0.0   \n",
       "87221                                    0.0                 0.0         1.0   \n",
       "\n",
       "        'privacy and security'  \n",
       "1647                       0.0  \n",
       "39155                      0.0  \n",
       "52561                      0.0  \n",
       "21969                      0.0  \n",
       "87221                      0.0  "
      ]
     },
     "execution_count": 94,
     "metadata": {},
     "output_type": "execute_result"
    }
   ],
   "source": [
    "# new train and test data\n",
    "X_train, X_test, y_train, y_test = train_test_split(df['Comment'], df.drop(['Name','Time','Store','Comment','Aspect','polarity'],axis=1), test_size=0.2, random_state=42)\n",
    "y_train.head()"
   ]
  },
  {
   "cell_type": "code",
   "execution_count": 95,
   "metadata": {},
   "outputs": [],
   "source": [
    "# vectorize the text \n",
    "from sklearn.feature_extraction.text import TfidfVectorizer\n",
    "TfidfVectorizer = TfidfVectorizer(max_df=0.8, max_features=5000, ngram_range=(1,2))\n",
    "\n",
    "# fit and transform train and test features\n",
    "X_train_tfidf = TfidfVectorizer.fit_transform(X_train)\n",
    "X_test_tfidf = TfidfVectorizer.transform(X_test)"
   ]
  },
  {
   "cell_type": "code",
   "execution_count": 96,
   "metadata": {},
   "outputs": [
    {
     "name": "stdout",
     "output_type": "stream",
     "text": [
      "Mean accuracy score:  0.7303183844505452\n",
      "Accuracy scores:  [0.73245864 0.72846549 0.729749   0.72903594 0.7286081  0.729749\n",
      " 0.72700043 0.73612894 0.72814149 0.73384681]\n"
     ]
    }
   ],
   "source": [
    "# cross validation for random forest with onevsrest classifier\n",
    "from sklearn.model_selection import cross_val_score\n",
    "from sklearn.ensemble import RandomForestClassifier\n",
    "from sklearn.multiclass import OneVsRestClassifier\n",
    "\n",
    "# onerest classifier with kfold cv\n",
    "clf = OneVsRestClassifier(RandomForestClassifier(random_state=0), n_jobs=-1)\n",
    "scores = cross_val_score(clf, X_train_tfidf, y_train, cv=10, scoring='accuracy')\n",
    "\n",
    "# print mean score and 10 fold scores\n",
    "print(\"Mean accuracy score: \", scores.mean())\n",
    "print(\"Accuracy scores: \", scores)\n",
    "\n"
   ]
  },
  {
   "cell_type": "code",
   "execution_count": 103,
   "metadata": {},
   "outputs": [
    {
     "name": "stdout",
     "output_type": "stream",
     "text": [
      "Mean roc_auc score:  0.97029000354413\n",
      "roc_auc scores:  [0.96676323 0.96739009 0.97131333 0.96986558 0.97044915 0.97132187\n",
      " 0.97241056 0.9712859  0.9709709  0.97112943]\n"
     ]
    }
   ],
   "source": [
    "# cross validation for random forest with onevsrest classifier\n",
    "from sklearn.model_selection import cross_val_score\n",
    "from sklearn.ensemble import RandomForestClassifier\n",
    "from sklearn.multiclass import OneVsRestClassifier\n",
    "\n",
    "# onerest classifier with kfold cv\n",
    "clf = OneVsRestClassifier(RandomForestClassifier(random_state=0), n_jobs=-1)\n",
    "scores = cross_val_score(clf, X_train_tfidf, y_train, cv=10, scoring='roc_auc')\n",
    "\n",
    "#print mean score and 10 fold scores\n",
    "print(\"Mean roc_auc score: \", scores.mean())\n",
    "print(\"roc_auc scores: \", scores)"
   ]
  },
  {
   "cell_type": "code",
   "execution_count": 101,
   "metadata": {},
   "outputs": [
    {
     "name": "stdout",
     "output_type": "stream",
     "text": [
      "Accuracy:  0.7303183844505452\n",
      "F1:  0.8394933586004368\n",
      "Recall:  0.8418660559707396\n",
      "Precision:  0.8426529196330076\n"
     ]
    },
    {
     "ename": "KeyError",
     "evalue": "'test_roc_auc'",
     "output_type": "error",
     "traceback": [
      "\u001b[1;31m---------------------------------------------------------------------------\u001b[0m",
      "\u001b[1;31mKeyError\u001b[0m                                  Traceback (most recent call last)",
      "Cell \u001b[1;32mIn [101], line 11\u001b[0m\n\u001b[0;32m      9\u001b[0m \u001b[39mprint\u001b[39m(\u001b[39m'\u001b[39m\u001b[39mRecall: \u001b[39m\u001b[39m'\u001b[39m, scores[\u001b[39m'\u001b[39m\u001b[39mtest_recall_macro\u001b[39m\u001b[39m'\u001b[39m]\u001b[39m.\u001b[39mmean())\n\u001b[0;32m     10\u001b[0m \u001b[39mprint\u001b[39m(\u001b[39m'\u001b[39m\u001b[39mPrecision: \u001b[39m\u001b[39m'\u001b[39m, scores[\u001b[39m'\u001b[39m\u001b[39mtest_precision_macro\u001b[39m\u001b[39m'\u001b[39m]\u001b[39m.\u001b[39mmean())\n\u001b[1;32m---> 11\u001b[0m \u001b[39mprint\u001b[39m(\u001b[39m'\u001b[39m\u001b[39mAUC: \u001b[39m\u001b[39m'\u001b[39m, scores[\u001b[39m'\u001b[39;49m\u001b[39mtest_roc_auc\u001b[39;49m\u001b[39m'\u001b[39;49m]\u001b[39m.\u001b[39mmean())\n",
      "\u001b[1;31mKeyError\u001b[0m: 'test_roc_auc'"
     ]
    }
   ],
   "source": [
    "#cross_validate\n",
    "from sklearn.model_selection import cross_validate\n",
    "scoring = ['accuracy', 'f1_macro', 'recall_macro', 'precision_macro', 'roc_auc_ovr']\n",
    "scores=cross_validate(clf, X_train_tfidf, y_train, scoring=scoring, cv=10, return_train_score=True)\n",
    "\n",
    "#print output\n",
    "print('Accuracy: ', scores['test_accuracy'].mean())\n",
    "print('F1: ', scores['test_f1_macro'].mean())\n",
    "print('Recall: ', scores['test_recall_macro'].mean())\n",
    "print('Precision: ', scores['test_precision_macro'].mean())\n",
    "print('AUC: ', scores['test_roc_auc'].mean())"
   ]
  },
  {
   "cell_type": "code",
   "execution_count": 102,
   "metadata": {},
   "outputs": [
    {
     "name": "stdout",
     "output_type": "stream",
     "text": [
      "AUC:  0.97029000354413\n"
     ]
    }
   ],
   "source": [
    "print('AUC: ', scores['test_roc_auc_ovr'].mean())"
   ]
  },
  {
   "cell_type": "code",
   "execution_count": null,
   "metadata": {},
   "outputs": [],
   "source": [
    "import sklearn\n",
    "#calculate f1-macro score\n",
    "from sklearn.metrics import f1_score\n",
    "f1_score(y_test, predictions, average='macro')\n",
    "\n",
    "#calculate mean precision score\n",
    "from sklearn.metrics import precision_score\n"
   ]
  },
  {
   "cell_type": "code",
   "execution_count": null,
   "metadata": {},
   "outputs": [
    {
     "name": "stdout",
     "output_type": "stream",
     "text": [
      "[0.94642008 0.94953177 0.95073278 0.94591907 0.95355739 0.95190726\n",
      " 0.95088162 0.94790922 0.94703823 0.9509752 ]\n"
     ]
    }
   ],
   "source": [
    "from sklearn.model_selection import cross_val_score\n",
    "scores = cross_val_score(pipeline, X_train, y_train, cv=10, scoring='roc_auc')\n",
    "print(scores)"
   ]
  },
  {
   "attachments": {},
   "cell_type": "markdown",
   "metadata": {},
   "source": [
    "# Sentiment"
   ]
  },
  {
   "cell_type": "code",
   "execution_count": null,
   "metadata": {},
   "outputs": [
    {
     "name": "stdout",
     "output_type": "stream",
     "text": [
      "Mean accuracy:  0.8881425655536166\n",
      "ROC accuracy:  [0.88804906 0.8840559  0.89033086 0.88648032 0.88776383 0.88804906\n",
      " 0.88803309 0.89131365 0.88789046 0.88945942]\n"
     ]
    }
   ],
   "source": [
    "# new train test list for predicting polarity\n",
    "X_train, X_test, y_train, y_test = train_test_split(df['Comment'], df['polarity'], test_size=0.2, random_state=42)\n",
    "# build a pipeline for logistic regression with onevsrest classifier and tfidf vectorizer with cross validation\n",
    "from sklearn.pipeline import Pipeline\n",
    "from sklearn.feature_extraction.text import TfidfVectorizer\n",
    "\n",
    "# create a pipeline\n",
    "pipeline = Pipeline([\n",
    "    ('tfidf', TfidfVectorizer(max_df=0.8, max_features=5000, ngram_range=(1,2))),\n",
    "    ('clf', OneVsRestClassifier(RandomForestClassifier(random_state=0), n_jobs=-1)),\n",
    "])\n",
    "\n",
    "# kfold split\n",
    "from sklearn.model_selection import KFold\n",
    "kfold = KFold(n_splits=10, random_state=42, shuffle=True)\n",
    "\n",
    "# cross validation\n",
    "results = cross_val_score(pipeline, X_train, y_train, cv=kfold, scoring='accuracy')\n",
    "\n",
    "# print mean score and 5 fold scores\n",
    "print(\"Mean accuracy: \", results.mean())\n",
    "print(\"ROC accuracy: \", results)"
   ]
  },
  {
   "cell_type": "code",
   "execution_count": null,
   "metadata": {},
   "outputs": [],
   "source": [
    "# cross_val_predict for logPolarity with onevsrest classifier 10 fold cv\n",
    "from sklearn.model_selection import cross_val_predict\n",
    "y_train_pred = cross_val_predict(pipeline, X_train, y_train, cv=10)"
   ]
  },
  {
   "cell_type": "code",
   "execution_count": null,
   "metadata": {},
   "outputs": [
    {
     "name": "stdout",
     "output_type": "stream",
     "text": [
      "0.8841281177142198\n",
      "0.8861182485888313\n",
      "0.8832138530517482\n",
      "0.8881425655536166\n",
      "0.9608745045862562\n"
     ]
    }
   ],
   "source": [
    "#cross validation score calculate f1 score\n",
    "from sklearn.model_selection import cross_val_score\n",
    "f1 = cross_val_score(pipeline, X_train, y_train, cv=kfold, scoring='f1_macro')\n",
    "print (f1.mean())\n",
    "\n",
    "#cross validation score calculate precision\n",
    "from sklearn.model_selection import cross_val_score\n",
    "precision = cross_val_score(pipeline,X_train, y_train, cv=kfold, scoring='precision_macro')\n",
    "print (precision.mean())\n",
    "\n",
    "#cross validation score calculate recall\n",
    "from sklearn.model_selection import cross_val_score\n",
    "recall = cross_val_score(pipeline, X_train, y_train, cv=kfold, scoring='recall_macro')\n",
    "print (recall.mean())\n",
    "\n",
    "#cross validation score calculate accuracy\n",
    "from sklearn.model_selection import cross_val_score\n",
    "accuracy = cross_val_score(pipeline,X_train, y_train, cv=kfold, scoring='accuracy')\n",
    "print (accuracy.mean())\n",
    "\n",
    "#cross validation score calculate roc_auc_score\n",
    "from sklearn.model_selection import cross_val_score\n",
    "roc_auc_score = cross_val_score(pipeline, X_train, y_train, cv=kfold, scoring='roc_auc_ovr')\n",
    "print (roc_auc_score.mean())\n"
   ]
  },
  {
   "cell_type": "code",
   "execution_count": 104,
   "metadata": {},
   "outputs": [
    {
     "ename": "ValueError",
     "evalue": "Classification metrics can't handle a mix of multilabel-indicator and multiclass targets",
     "output_type": "error",
     "traceback": [
      "\u001b[1;31m---------------------------------------------------------------------------\u001b[0m",
      "\u001b[1;31mValueError\u001b[0m                                Traceback (most recent call last)",
      "Cell \u001b[1;32mIn [104], line 3\u001b[0m\n\u001b[0;32m      1\u001b[0m \u001b[39m#create confusion matrix\u001b[39;00m\n\u001b[0;32m      2\u001b[0m \u001b[39mfrom\u001b[39;00m \u001b[39msklearn\u001b[39;00m\u001b[39m.\u001b[39;00m\u001b[39mmetrics\u001b[39;00m \u001b[39mimport\u001b[39;00m confusion_matrix\n\u001b[1;32m----> 3\u001b[0m confusion_matrix(y_train, y_train_pred)\n",
      "File \u001b[1;32mc:\\Users\\DELL\\AppData\\Local\\Programs\\Python\\Python39\\lib\\site-packages\\sklearn\\metrics\\_classification.py:307\u001b[0m, in \u001b[0;36mconfusion_matrix\u001b[1;34m(y_true, y_pred, labels, sample_weight, normalize)\u001b[0m\n\u001b[0;32m    222\u001b[0m \u001b[39mdef\u001b[39;00m \u001b[39mconfusion_matrix\u001b[39m(\n\u001b[0;32m    223\u001b[0m     y_true, y_pred, \u001b[39m*\u001b[39m, labels\u001b[39m=\u001b[39m\u001b[39mNone\u001b[39;00m, sample_weight\u001b[39m=\u001b[39m\u001b[39mNone\u001b[39;00m, normalize\u001b[39m=\u001b[39m\u001b[39mNone\u001b[39;00m\n\u001b[0;32m    224\u001b[0m ):\n\u001b[0;32m    225\u001b[0m     \u001b[39m\"\"\"Compute confusion matrix to evaluate the accuracy of a classification.\u001b[39;00m\n\u001b[0;32m    226\u001b[0m \n\u001b[0;32m    227\u001b[0m \u001b[39m    By definition a confusion matrix :math:`C` is such that :math:`C_{i, j}`\u001b[39;00m\n\u001b[1;32m   (...)\u001b[0m\n\u001b[0;32m    305\u001b[0m \u001b[39m    (0, 2, 1, 1)\u001b[39;00m\n\u001b[0;32m    306\u001b[0m \u001b[39m    \"\"\"\u001b[39;00m\n\u001b[1;32m--> 307\u001b[0m     y_type, y_true, y_pred \u001b[39m=\u001b[39m _check_targets(y_true, y_pred)\n\u001b[0;32m    308\u001b[0m     \u001b[39mif\u001b[39;00m y_type \u001b[39mnot\u001b[39;00m \u001b[39min\u001b[39;00m (\u001b[39m\"\u001b[39m\u001b[39mbinary\u001b[39m\u001b[39m\"\u001b[39m, \u001b[39m\"\u001b[39m\u001b[39mmulticlass\u001b[39m\u001b[39m\"\u001b[39m):\n\u001b[0;32m    309\u001b[0m         \u001b[39mraise\u001b[39;00m \u001b[39mValueError\u001b[39;00m(\u001b[39m\"\u001b[39m\u001b[39m%s\u001b[39;00m\u001b[39m is not supported\u001b[39m\u001b[39m\"\u001b[39m \u001b[39m%\u001b[39m y_type)\n",
      "File \u001b[1;32mc:\\Users\\DELL\\AppData\\Local\\Programs\\Python\\Python39\\lib\\site-packages\\sklearn\\metrics\\_classification.py:93\u001b[0m, in \u001b[0;36m_check_targets\u001b[1;34m(y_true, y_pred)\u001b[0m\n\u001b[0;32m     90\u001b[0m     y_type \u001b[39m=\u001b[39m {\u001b[39m\"\u001b[39m\u001b[39mmulticlass\u001b[39m\u001b[39m\"\u001b[39m}\n\u001b[0;32m     92\u001b[0m \u001b[39mif\u001b[39;00m \u001b[39mlen\u001b[39m(y_type) \u001b[39m>\u001b[39m \u001b[39m1\u001b[39m:\n\u001b[1;32m---> 93\u001b[0m     \u001b[39mraise\u001b[39;00m \u001b[39mValueError\u001b[39;00m(\n\u001b[0;32m     94\u001b[0m         \u001b[39m\"\u001b[39m\u001b[39mClassification metrics can\u001b[39m\u001b[39m'\u001b[39m\u001b[39mt handle a mix of \u001b[39m\u001b[39m{0}\u001b[39;00m\u001b[39m and \u001b[39m\u001b[39m{1}\u001b[39;00m\u001b[39m targets\u001b[39m\u001b[39m\"\u001b[39m\u001b[39m.\u001b[39mformat(\n\u001b[0;32m     95\u001b[0m             type_true, type_pred\n\u001b[0;32m     96\u001b[0m         )\n\u001b[0;32m     97\u001b[0m     )\n\u001b[0;32m     99\u001b[0m \u001b[39m# We can't have more than one value on y_type => The set is no more needed\u001b[39;00m\n\u001b[0;32m    100\u001b[0m y_type \u001b[39m=\u001b[39m y_type\u001b[39m.\u001b[39mpop()\n",
      "\u001b[1;31mValueError\u001b[0m: Classification metrics can't handle a mix of multilabel-indicator and multiclass targets"
     ]
    }
   ],
   "source": [
    "#create confusion matrix\n",
    "from sklearn.metrics import confusion_matrix\n",
    "confusion_matrix(y_train, y_train_pred)"
   ]
  },
  {
   "cell_type": "code",
   "execution_count": null,
   "metadata": {},
   "outputs": [
    {
     "name": "stdout",
     "output_type": "stream",
     "text": [
      "0.8877002506777101\n"
     ]
    }
   ],
   "source": [
    "#calcuate f1 score of one rest classifier with kfolds\n",
    "from sklearn.model_selection import cross_val_score\n",
    "from sklearn.metrics import f1_score\n",
    "from sklearn.metrics import make_scorer\n",
    "f1_scorer = make_scorer(f1_score, average='micro')\n",
    "scores = cross_val_score(pipeline, X_train, y_train, cv=10, scoring=f1_scorer)\n",
    "print(scores.mean())\n"
   ]
  },
  {
   "attachments": {},
   "cell_type": "markdown",
   "metadata": {},
   "source": [
    "## test acc"
   ]
  },
  {
   "cell_type": "code",
   "execution_count": null,
   "metadata": {},
   "outputs": [],
   "source": [
    "#create a pepline for the model to predict polarity\n",
    "from sklearn.pipeline import Pipeline\n",
    "from sklearn.feature_extraction.text import TfidfVectorizer\n",
    "from sklearn.ensemble import RandomForestClassifier\n",
    "from sklearn.model_selection import train_test_split\n",
    "from sklearn.metrics import accuracy_score, confusion_matrix, classification_report\n",
    "from sklearn.metrics import roc_auc_score\n",
    "from sklearn.model_selection import cross_val_score"
   ]
  },
  {
   "cell_type": "code",
   "execution_count": null,
   "metadata": {},
   "outputs": [],
   "source": [
    "#split data into train and test\n",
    "X1 = df['Comment']\n",
    "y1 = df['polarity']\n",
    "X_train1, X_test1, y_train1, y_test1 = train_test_split(X1, y1, test_size=0.2, random_state=42)\n",
    "\n",
    "#build a pipeline\n",
    "pipeline = Pipeline([\n",
    "    ('tfidf', TfidfVectorizer()),\n",
    "    ('clf', RandomForestClassifier()),\n",
    "])\n",
    "\n"
   ]
  },
  {
   "cell_type": "code",
   "execution_count": null,
   "metadata": {},
   "outputs": [
    {
     "name": "stdout",
     "output_type": "stream",
     "text": [
      "accuracy 0.8731317741015402\n",
      "              precision    recall  f1-score   support\n",
      "\n",
      "    negative       0.86      0.79      0.83      5184\n",
      "     neutral       0.89      0.96      0.92      6257\n",
      "    positive       0.86      0.86      0.86      6089\n",
      "\n",
      "    accuracy                           0.87     17530\n",
      "   macro avg       0.87      0.87      0.87     17530\n",
      "weighted avg       0.87      0.87      0.87     17530\n",
      "\n"
     ]
    },
    {
     "ename": "ValueError",
     "evalue": "could not convert string to float: 'neutral'",
     "output_type": "error",
     "traceback": [
      "\u001b[1;31m---------------------------------------------------------------------------\u001b[0m",
      "\u001b[1;31mValueError\u001b[0m                                Traceback (most recent call last)",
      "Cell \u001b[1;32mIn [92], line 11\u001b[0m\n\u001b[0;32m      9\u001b[0m \u001b[39mprint\u001b[39m(classification_report(y_test1, y_pred1))\n\u001b[0;32m     10\u001b[0m \u001b[39m# roc_auc_score\u001b[39;00m\n\u001b[1;32m---> 11\u001b[0m \u001b[39mprint\u001b[39m (roc_auc_score(y_test1, y_pred1))\n",
      "File \u001b[1;32mc:\\Users\\DELL\\AppData\\Local\\Programs\\Python\\Python39\\lib\\site-packages\\sklearn\\metrics\\_ranking.py:550\u001b[0m, in \u001b[0;36mroc_auc_score\u001b[1;34m(y_true, y_score, average, sample_weight, max_fpr, multi_class, labels)\u001b[0m\n\u001b[0;32m    548\u001b[0m y_type \u001b[39m=\u001b[39m type_of_target(y_true, input_name\u001b[39m=\u001b[39m\u001b[39m\"\u001b[39m\u001b[39my_true\u001b[39m\u001b[39m\"\u001b[39m)\n\u001b[0;32m    549\u001b[0m y_true \u001b[39m=\u001b[39m check_array(y_true, ensure_2d\u001b[39m=\u001b[39m\u001b[39mFalse\u001b[39;00m, dtype\u001b[39m=\u001b[39m\u001b[39mNone\u001b[39;00m)\n\u001b[1;32m--> 550\u001b[0m y_score \u001b[39m=\u001b[39m check_array(y_score, ensure_2d\u001b[39m=\u001b[39;49m\u001b[39mFalse\u001b[39;49;00m)\n\u001b[0;32m    552\u001b[0m \u001b[39mif\u001b[39;00m y_type \u001b[39m==\u001b[39m \u001b[39m\"\u001b[39m\u001b[39mmulticlass\u001b[39m\u001b[39m\"\u001b[39m \u001b[39mor\u001b[39;00m (\n\u001b[0;32m    553\u001b[0m     y_type \u001b[39m==\u001b[39m \u001b[39m\"\u001b[39m\u001b[39mbinary\u001b[39m\u001b[39m\"\u001b[39m \u001b[39mand\u001b[39;00m y_score\u001b[39m.\u001b[39mndim \u001b[39m==\u001b[39m \u001b[39m2\u001b[39m \u001b[39mand\u001b[39;00m y_score\u001b[39m.\u001b[39mshape[\u001b[39m1\u001b[39m] \u001b[39m>\u001b[39m \u001b[39m2\u001b[39m\n\u001b[0;32m    554\u001b[0m ):\n\u001b[0;32m    555\u001b[0m     \u001b[39m# do not support partial ROC computation for multiclass\u001b[39;00m\n\u001b[0;32m    556\u001b[0m     \u001b[39mif\u001b[39;00m max_fpr \u001b[39mis\u001b[39;00m \u001b[39mnot\u001b[39;00m \u001b[39mNone\u001b[39;00m \u001b[39mand\u001b[39;00m max_fpr \u001b[39m!=\u001b[39m \u001b[39m1.0\u001b[39m:\n",
      "File \u001b[1;32mc:\\Users\\DELL\\AppData\\Local\\Programs\\Python\\Python39\\lib\\site-packages\\sklearn\\utils\\validation.py:856\u001b[0m, in \u001b[0;36mcheck_array\u001b[1;34m(array, accept_sparse, accept_large_sparse, dtype, order, copy, force_all_finite, ensure_2d, allow_nd, ensure_min_samples, ensure_min_features, estimator, input_name)\u001b[0m\n\u001b[0;32m    854\u001b[0m         array \u001b[39m=\u001b[39m array\u001b[39m.\u001b[39mastype(dtype, casting\u001b[39m=\u001b[39m\u001b[39m\"\u001b[39m\u001b[39munsafe\u001b[39m\u001b[39m\"\u001b[39m, copy\u001b[39m=\u001b[39m\u001b[39mFalse\u001b[39;00m)\n\u001b[0;32m    855\u001b[0m     \u001b[39melse\u001b[39;00m:\n\u001b[1;32m--> 856\u001b[0m         array \u001b[39m=\u001b[39m np\u001b[39m.\u001b[39;49masarray(array, order\u001b[39m=\u001b[39;49morder, dtype\u001b[39m=\u001b[39;49mdtype)\n\u001b[0;32m    857\u001b[0m \u001b[39mexcept\u001b[39;00m ComplexWarning \u001b[39mas\u001b[39;00m complex_warning:\n\u001b[0;32m    858\u001b[0m     \u001b[39mraise\u001b[39;00m \u001b[39mValueError\u001b[39;00m(\n\u001b[0;32m    859\u001b[0m         \u001b[39m\"\u001b[39m\u001b[39mComplex data not supported\u001b[39m\u001b[39m\\n\u001b[39;00m\u001b[39m{}\u001b[39;00m\u001b[39m\\n\u001b[39;00m\u001b[39m\"\u001b[39m\u001b[39m.\u001b[39mformat(array)\n\u001b[0;32m    860\u001b[0m     ) \u001b[39mfrom\u001b[39;00m \u001b[39mcomplex_warning\u001b[39;00m\n",
      "\u001b[1;31mValueError\u001b[0m: could not convert string to float: 'neutral'"
     ]
    }
   ],
   "source": [
    "#fit the model\n",
    "pipeline.fit(X_train1, y_train1)\n",
    "\n",
    "#predict the model\n",
    "y_pred1 = pipeline.predict(X_test1)\n",
    "\n",
    "#check the accuracy\n",
    "print('accuracy %s' % accuracy_score(y_pred1, y_test1))\n",
    "print(classification_report(y_test1, y_pred1))\n",
    "# roc_auc_score\n",
    "print (roc_auc_score(y_test1, y_pred1))\n"
   ]
  },
  {
   "cell_type": "code",
   "execution_count": null,
   "metadata": {},
   "outputs": [
    {
     "data": {
      "text/plain": [
       "array([[4112,  365,  707],\n",
       "       [ 135, 5985,  137],\n",
       "       [ 555,  324, 5210]], dtype=int64)"
      ]
     },
     "execution_count": 199,
     "metadata": {},
     "output_type": "execute_result"
    }
   ],
   "source": [
    "#confusion matrix\n",
    "confusion_matrix(y_test1, y_pred1)"
   ]
  },
  {
   "cell_type": "code",
   "execution_count": null,
   "metadata": {},
   "outputs": [
    {
     "name": "stdout",
     "output_type": "stream",
     "text": [
      "Accuracy: 87.12 %\n",
      "Standard Deviation: 0.28 %\n"
     ]
    }
   ],
   "source": [
    "# k-fold cross validation \n",
    "\n",
    "accuracies = cross_val_score(estimator = pipeline, X = X_train1, y = y_train1, cv = 10)\n",
    "print(\"Accuracy: {:.2f} %\".format(accuracies.mean()*100))\n",
    "print(\"Standard Deviation: {:.2f} %\".format(accuracies.std()*100))"
   ]
  },
  {
   "cell_type": "code",
   "execution_count": null,
   "metadata": {},
   "outputs": [
    {
     "ename": "NameError",
     "evalue": "name 'y_test1' is not defined",
     "output_type": "error",
     "traceback": [
      "\u001b[1;31m---------------------------------------------------------------------------\u001b[0m",
      "\u001b[1;31mNameError\u001b[0m                                 Traceback (most recent call last)",
      "Cell \u001b[1;32mIn [1], line 6\u001b[0m\n\u001b[0;32m      3\u001b[0m \u001b[39mimport\u001b[39;00m \u001b[39mseaborn\u001b[39;00m \u001b[39mas\u001b[39;00m \u001b[39msns\u001b[39;00m\n\u001b[0;32m      4\u001b[0m \u001b[39mimport\u001b[39;00m \u001b[39mmatplotlib\u001b[39;00m\u001b[39m.\u001b[39;00m\u001b[39mpyplot\u001b[39;00m \u001b[39mas\u001b[39;00m \u001b[39mplt\u001b[39;00m\n\u001b[1;32m----> 6\u001b[0m cm \u001b[39m=\u001b[39m confusion_matrix(y_test1, y_pred1)\n\u001b[0;32m      7\u001b[0m sns\u001b[39m.\u001b[39mheatmap(cm, annot\u001b[39m=\u001b[39m\u001b[39mTrue\u001b[39;00m, fmt\u001b[39m=\u001b[39m\u001b[39m'\u001b[39m\u001b[39md\u001b[39m\u001b[39m'\u001b[39m)\n\u001b[0;32m      8\u001b[0m plt\u001b[39m.\u001b[39mshow()\n",
      "\u001b[1;31mNameError\u001b[0m: name 'y_test1' is not defined"
     ]
    }
   ],
   "source": [
    "#draw a confusion matrix\n",
    "from sklearn.metrics import confusion_matrix\n",
    "import seaborn as sns\n",
    "import matplotlib.pyplot as plt\n",
    "\n",
    "cm = confusion_matrix(y_test1, y_pred1)\n",
    "sns.heatmap(cm, annot=True, fmt='d')\n",
    "plt.show()\n"
   ]
  }
 ],
 "metadata": {
  "kernelspec": {
   "display_name": "Python 3",
   "language": "python",
   "name": "python3"
  },
  "language_info": {
   "codemirror_mode": {
    "name": "ipython",
    "version": 3
   },
   "file_extension": ".py",
   "mimetype": "text/x-python",
   "name": "python",
   "nbconvert_exporter": "python",
   "pygments_lexer": "ipython3",
   "version": "3.9.7"
  },
  "orig_nbformat": 4,
  "vscode": {
   "interpreter": {
    "hash": "5addf786bcd861d1ce5006f23111f8cbb206731e5b61b0a5632ba9e0252558a8"
   }
  }
 },
 "nbformat": 4,
 "nbformat_minor": 2
}
