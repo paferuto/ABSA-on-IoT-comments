{
 "cells": [
  {
   "cell_type": "code",
   "execution_count": 5,
   "metadata": {},
   "outputs": [],
   "source": [
    "import pandas as pd"
   ]
  },
  {
   "cell_type": "code",
   "execution_count": 6,
   "metadata": {},
   "outputs": [],
   "source": [
    "df = pd.read_csv('Data_drop_year.csv')"
   ]
  },
  {
   "cell_type": "code",
   "execution_count": 7,
   "metadata": {},
   "outputs": [
    {
     "data": {
      "text/plain": [
       "Name                                     0\n",
       "Time                                     0\n",
       "Store                                    0\n",
       "Comment                                  0\n",
       "Aspect                                   0\n",
       "polarity                                 0\n",
       " 'data integration'                      0\n",
       " 'marketing and communication'           0\n",
       " 'technology'                            0\n",
       " 'payment and checkout'                  0\n",
       " 'shopping experience'                   0\n",
       " 'unemployment'                          0\n",
       " 'product available and store design'    0\n",
       " 'price and value'                       0\n",
       " 'general'                               0\n",
       " 'privacy and security'                  0\n",
       "dtype: int64"
      ]
     },
     "execution_count": 7,
     "metadata": {},
     "output_type": "execute_result"
    }
   ],
   "source": [
    "# check nan in df\n",
    "df.isnull().sum()"
   ]
  },
  {
   "cell_type": "code",
   "execution_count": 8,
   "metadata": {},
   "outputs": [],
   "source": [
    "# create train split with comment column, test split with polarity column\n",
    "train = df[['Comment']]\n",
    "test = df[['polarity']]\n",
    "\n",
    "# train test split\n",
    "from sklearn.model_selection import train_test_split\n",
    "X_train, X_test, y_train, y_test = train_test_split(train, test, test_size=0.2, random_state=42)"
   ]
  },
  {
   "cell_type": "code",
   "execution_count": 12,
   "metadata": {},
   "outputs": [],
   "source": [
    "# build a logistic regression model with glove embedding\n",
    "from sklearn.feature_extraction.text import TfidfVectorizer\n",
    "from sklearn.pipeline import Pipeline\n",
    "from sklearn.tree import DecisionTreeClassifier\n",
    "# build a pipeline\n",
    "pipeline = Pipeline([\n",
    "    ('tfidf', TfidfVectorizer(ngram_range=(1,2),max_features=10000)),\n",
    "    ('clf', DecisionTreeClassifier(criterion='gini', min_samples_leaf=2, min_samples_split=9, min_weight_fraction_leaf=0.0)),\n",
    "])"
   ]
  },
  {
   "cell_type": "code",
   "execution_count": 14,
   "metadata": {},
   "outputs": [],
   "source": [
    "# fit pipeline with k-fold cross validation\n",
    "from sklearn.model_selection import cross_validate\n",
    "scoring = ['accuracy', 'precision_macro', 'recall_macro', 'f1_macro', 'roc_auc_ovr_weighted']\n",
    "scores = cross_validate(pipeline, X_train['Comment'], y_train['polarity'], cv=10, scoring=scoring, return_train_score=True)"
   ]
  },
  {
   "cell_type": "code",
   "execution_count": 16,
   "metadata": {},
   "outputs": [
    {
     "name": "stdout",
     "output_type": "stream",
     "text": [
      "0.8482758712754317\n",
      "0.8478243337381002\n",
      "0.8479726845541725\n",
      "0.8528296480235646\n",
      "0.8902693049444185\n"
     ]
    }
   ],
   "source": [
    "#print results\n",
    "print(scores['test_precision_macro'].mean())\n",
    "print(scores['test_recall_macro'].mean())\n",
    "print(scores['test_f1_macro'].mean())\n",
    "print(scores['test_accuracy'].mean())\n",
    "print(scores['test_roc_auc_ovr_weighted'].mean())"
   ]
  },
  {
   "cell_type": "code",
   "execution_count": null,
   "metadata": {},
   "outputs": [],
   "source": [
    "clf.fit(X_train, y_train)\n",
    "y_pred = clf.predict(X_test)\n",
    "\n",
    "# confusion matrix\n",
    "from sklearn.metrics import confusion_matrix\n",
    "confusion_matrix(y_test, y_pred)\n",
    "\n",
    "# classification report\n",
    "from sklearn.metrics import classification_report\n",
    "print(classification_report(y_test, y_pred))"
   ]
  }
 ],
 "metadata": {
  "kernelspec": {
   "display_name": "Python 3",
   "language": "python",
   "name": "python3"
  },
  "language_info": {
   "codemirror_mode": {
    "name": "ipython",
    "version": 3
   },
   "file_extension": ".py",
   "mimetype": "text/x-python",
   "name": "python",
   "nbconvert_exporter": "python",
   "pygments_lexer": "ipython3",
   "version": "3.9.13"
  },
  "orig_nbformat": 4,
  "vscode": {
   "interpreter": {
    "hash": "14958d3aee5f1cad06795f787e54b96185c25fb40dfec723a5be941f3a531b8c"
   }
  }
 },
 "nbformat": 4,
 "nbformat_minor": 2
}
