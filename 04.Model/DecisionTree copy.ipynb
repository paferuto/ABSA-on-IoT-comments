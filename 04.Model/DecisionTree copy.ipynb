{
 "cells": [
  {
   "cell_type": "code",
   "execution_count": 2,
   "metadata": {},
   "outputs": [],
   "source": [
    "import pandas as pd"
   ]
  },
  {
   "cell_type": "code",
   "execution_count": 26,
   "metadata": {},
   "outputs": [],
   "source": [
    "# read data\n",
    "df = pd.read_csv('Dataset_DropYear.csv')"
   ]
  },
  {
   "cell_type": "code",
   "execution_count": 32,
   "metadata": {},
   "outputs": [],
   "source": [
    "df = pd.read_csv('DataWithLabel.csv')"
   ]
  },
  {
   "cell_type": "code",
   "execution_count": 33,
   "metadata": {},
   "outputs": [
    {
     "data": {
      "text/html": [
       "<div>\n",
       "<style scoped>\n",
       "    .dataframe tbody tr th:only-of-type {\n",
       "        vertical-align: middle;\n",
       "    }\n",
       "\n",
       "    .dataframe tbody tr th {\n",
       "        vertical-align: top;\n",
       "    }\n",
       "\n",
       "    .dataframe thead th {\n",
       "        text-align: right;\n",
       "    }\n",
       "</style>\n",
       "<table border=\"1\" class=\"dataframe\">\n",
       "  <thead>\n",
       "    <tr style=\"text-align: right;\">\n",
       "      <th></th>\n",
       "      <th>Unnamed: 0</th>\n",
       "      <th>Name</th>\n",
       "      <th>Time</th>\n",
       "      <th>Store</th>\n",
       "      <th>Comment</th>\n",
       "      <th>label</th>\n",
       "      <th>sentiment_score</th>\n",
       "      <th>polarity</th>\n",
       "    </tr>\n",
       "  </thead>\n",
       "  <tbody>\n",
       "    <tr>\n",
       "      <th>0</th>\n",
       "      <td>0</td>\n",
       "      <td>macantonioc</td>\n",
       "      <td>25-06-2007</td>\n",
       "      <td>DigInfo</td>\n",
       "      <td>interesting</td>\n",
       "      <td>['', 'shopping experience']</td>\n",
       "      <td>0.4019</td>\n",
       "      <td>positive</td>\n",
       "    </tr>\n",
       "    <tr>\n",
       "      <th>1</th>\n",
       "      <td>1</td>\n",
       "      <td>donkeyfly69</td>\n",
       "      <td>27-02-2008</td>\n",
       "      <td>DigInfo</td>\n",
       "      <td>not even seem convenient</td>\n",
       "      <td>['', 'shopping experience']</td>\n",
       "      <td>0.0000</td>\n",
       "      <td>neutral</td>\n",
       "    </tr>\n",
       "    <tr>\n",
       "      <th>2</th>\n",
       "      <td>2</td>\n",
       "      <td>donkeyfly69</td>\n",
       "      <td>27-02-2008</td>\n",
       "      <td>DigInfo</td>\n",
       "      <td>not want pay use shopping cart read recipe</td>\n",
       "      <td>['', 'technology', 'general', 'payment and che...</td>\n",
       "      <td>0.0191</td>\n",
       "      <td>neutral</td>\n",
       "    </tr>\n",
       "    <tr>\n",
       "      <th>3</th>\n",
       "      <td>3</td>\n",
       "      <td>donkeyfly69</td>\n",
       "      <td>27-02-2008</td>\n",
       "      <td>DigInfo</td>\n",
       "      <td>invade privacy way much just get grocery</td>\n",
       "      <td>['', 'general']</td>\n",
       "      <td>0.0000</td>\n",
       "      <td>neutral</td>\n",
       "    </tr>\n",
       "    <tr>\n",
       "      <th>4</th>\n",
       "      <td>4</td>\n",
       "      <td>donkeyfly69</td>\n",
       "      <td>27-02-2008</td>\n",
       "      <td>DigInfo</td>\n",
       "      <td>not even deep</td>\n",
       "      <td>['']</td>\n",
       "      <td>0.0000</td>\n",
       "      <td>neutral</td>\n",
       "    </tr>\n",
       "    <tr>\n",
       "      <th>...</th>\n",
       "      <td>...</td>\n",
       "      <td>...</td>\n",
       "      <td>...</td>\n",
       "      <td>...</td>\n",
       "      <td>...</td>\n",
       "      <td>...</td>\n",
       "      <td>...</td>\n",
       "      <td>...</td>\n",
       "    </tr>\n",
       "    <tr>\n",
       "      <th>209573</th>\n",
       "      <td>223255</td>\n",
       "      <td>Mark H.</td>\n",
       "      <td>09-09-2020</td>\n",
       "      <td>Walmart</td>\n",
       "      <td>call refund tell would take day get money back</td>\n",
       "      <td>['', 'price and value', 'payment and checkout']</td>\n",
       "      <td>0.0000</td>\n",
       "      <td>neutral</td>\n",
       "    </tr>\n",
       "    <tr>\n",
       "      <th>209574</th>\n",
       "      <td>223256</td>\n",
       "      <td>Mark H.</td>\n",
       "      <td>09-09-2020</td>\n",
       "      <td>Walmart</td>\n",
       "      <td>walmart</td>\n",
       "      <td>['']</td>\n",
       "      <td>0.0000</td>\n",
       "      <td>neutral</td>\n",
       "    </tr>\n",
       "    <tr>\n",
       "      <th>209575</th>\n",
       "      <td>223257</td>\n",
       "      <td>Lorna B.</td>\n",
       "      <td>09-09-2021</td>\n",
       "      <td>Walmart</td>\n",
       "      <td>improve site much improve</td>\n",
       "      <td>['']</td>\n",
       "      <td>0.7003</td>\n",
       "      <td>positive</td>\n",
       "    </tr>\n",
       "    <tr>\n",
       "      <th>209576</th>\n",
       "      <td>223258</td>\n",
       "      <td>Lorna B.</td>\n",
       "      <td>09-09-2021</td>\n",
       "      <td>Walmart</td>\n",
       "      <td>far too many grocery available store not avail...</td>\n",
       "      <td>['', 'technology', 'general']</td>\n",
       "      <td>0.0000</td>\n",
       "      <td>neutral</td>\n",
       "    </tr>\n",
       "    <tr>\n",
       "      <th>209577</th>\n",
       "      <td>223259</td>\n",
       "      <td>NATISHA J.</td>\n",
       "      <td>09-09-2021</td>\n",
       "      <td>Walmart</td>\n",
       "      <td>place need walmart lead sell good merchandise ...</td>\n",
       "      <td>['', 'shopping experience']</td>\n",
       "      <td>0.7506</td>\n",
       "      <td>positive</td>\n",
       "    </tr>\n",
       "  </tbody>\n",
       "</table>\n",
       "<p>209578 rows × 8 columns</p>\n",
       "</div>"
      ],
      "text/plain": [
       "        Unnamed: 0         Name        Time    Store  \\\n",
       "0                0  macantonioc  25-06-2007  DigInfo   \n",
       "1                1  donkeyfly69  27-02-2008  DigInfo   \n",
       "2                2  donkeyfly69  27-02-2008  DigInfo   \n",
       "3                3  donkeyfly69  27-02-2008  DigInfo   \n",
       "4                4  donkeyfly69  27-02-2008  DigInfo   \n",
       "...            ...          ...         ...      ...   \n",
       "209573      223255      Mark H.  09-09-2020  Walmart   \n",
       "209574      223256      Mark H.  09-09-2020  Walmart   \n",
       "209575      223257     Lorna B.  09-09-2021  Walmart   \n",
       "209576      223258     Lorna B.  09-09-2021  Walmart   \n",
       "209577      223259   NATISHA J.  09-09-2021  Walmart   \n",
       "\n",
       "                                                  Comment  \\\n",
       "0                                             interesting   \n",
       "1                                not even seem convenient   \n",
       "2              not want pay use shopping cart read recipe   \n",
       "3                invade privacy way much just get grocery   \n",
       "4                                           not even deep   \n",
       "...                                                   ...   \n",
       "209573     call refund tell would take day get money back   \n",
       "209574                                            walmart   \n",
       "209575                          improve site much improve   \n",
       "209576  far too many grocery available store not avail...   \n",
       "209577  place need walmart lead sell good merchandise ...   \n",
       "\n",
       "                                                    label  sentiment_score  \\\n",
       "0                             ['', 'shopping experience']           0.4019   \n",
       "1                             ['', 'shopping experience']           0.0000   \n",
       "2       ['', 'technology', 'general', 'payment and che...           0.0191   \n",
       "3                                         ['', 'general']           0.0000   \n",
       "4                                                    ['']           0.0000   \n",
       "...                                                   ...              ...   \n",
       "209573    ['', 'price and value', 'payment and checkout']           0.0000   \n",
       "209574                                               ['']           0.0000   \n",
       "209575                                               ['']           0.7003   \n",
       "209576                      ['', 'technology', 'general']           0.0000   \n",
       "209577                        ['', 'shopping experience']           0.7506   \n",
       "\n",
       "        polarity  \n",
       "0       positive  \n",
       "1        neutral  \n",
       "2        neutral  \n",
       "3        neutral  \n",
       "4        neutral  \n",
       "...          ...  \n",
       "209573   neutral  \n",
       "209574   neutral  \n",
       "209575  positive  \n",
       "209576   neutral  \n",
       "209577  positive  \n",
       "\n",
       "[209578 rows x 8 columns]"
      ]
     },
     "execution_count": 33,
     "metadata": {},
     "output_type": "execute_result"
    }
   ],
   "source": [
    "df"
   ]
  },
  {
   "cell_type": "code",
   "execution_count": 36,
   "metadata": {},
   "outputs": [
    {
     "name": "stderr",
     "output_type": "stream",
     "text": [
      "c:\\Users\\ASUS\\AppData\\Local\\Programs\\Python\\Python39\\lib\\site-packages\\sklearn\\linear_model\\_logistic.py:444: ConvergenceWarning: lbfgs failed to converge (status=1):\n",
      "STOP: TOTAL NO. of ITERATIONS REACHED LIMIT.\n",
      "\n",
      "Increase the number of iterations (max_iter) or scale the data as shown in:\n",
      "    https://scikit-learn.org/stable/modules/preprocessing.html\n",
      "Please also refer to the documentation for alternative solver options:\n",
      "    https://scikit-learn.org/stable/modules/linear_model.html#logistic-regression\n",
      "  n_iter_i = _check_optimize_result(\n"
     ]
    },
    {
     "name": "stdout",
     "output_type": "stream",
     "text": [
      "accuracy:  0.7819448420650825\n"
     ]
    }
   ],
   "source": [
    "# build a logistic regression model to predict the aspect of the comment\n",
    "from sklearn.linear_model import LogisticRegression\n",
    "from sklearn.model_selection import train_test_split\n",
    "from sklearn.metrics import accuracy_score\n",
    "\n",
    "# split data into training and testing set\n",
    "X_train, X_test, y_train, y_test = train_test_split(df['Comment'], df['label'], test_size=0.2, random_state=0)\n",
    "\n",
    "# build a logistic regression model with glove embedding\n",
    "from sklearn.feature_extraction.text import TfidfVectorizer\n",
    "from sklearn.pipeline import Pipeline\n",
    "from sklearn.linear_model import LogisticRegression\n",
    "\n",
    "# build a pipeline\n",
    "pipeline = Pipeline([\n",
    "    ('tfidf', TfidfVectorizer()),\n",
    "    ('clf', LogisticRegression()),\n",
    "])\n",
    "\n",
    "# train the model\n",
    "pipeline.fit(X_train, y_train)\n",
    "\n",
    "# predict the aspect of the comment\n",
    "y_pred = pipeline.predict(X_test)\n",
    "\n",
    "# evaluate the model\n",
    "print('accuracy: ', accuracy_score(y_test, y_pred))"
   ]
  },
  {
   "cell_type": "code",
   "execution_count": 41,
   "metadata": {},
   "outputs": [],
   "source": [
    "import string"
   ]
  },
  {
   "cell_type": "code",
   "execution_count": 43,
   "metadata": {},
   "outputs": [],
   "source": [
    "# create a function to predict the aspect of the comment\n",
    "def predict_aspect(comment):\n",
    "    # preprocess the comment\n",
    "    # remove punctuation\n",
    "    comment = comment.translate(str.maketrans('', '', string.punctuation))\n",
    "\n",
    "    # remove stop words\n",
    "    comment = ' '.join([word for word in comment.split() if word not in stop])\n",
    "\n",
    "    # remove digits\n",
    "    comment = ''.join([i for i in comment if not i.isdigit()])\n",
    "\n",
    "    # remove white space\n",
    "    comment = ' '.join(comment.split())\n",
    "\n",
    "    # convert to lower case\n",
    "    comment = comment.lower()\n",
    "\n",
    "    # predict the aspect of the comment\n",
    "    return pipeline.predict([comment])\n"
   ]
  },
  {
   "cell_type": "code",
   "execution_count": 52,
   "metadata": {},
   "outputs": [
    {
     "data": {
      "text/plain": [
       "\"['', 'technology']\""
      ]
     },
     "execution_count": 52,
     "metadata": {},
     "output_type": "execute_result"
    }
   ],
   "source": [
    "predict_aspect('I love how those AI cameras can detect faces and objects')"
   ]
  },
  {
   "cell_type": "code",
   "execution_count": 48,
   "metadata": {},
   "outputs": [
    {
     "data": {
      "text/plain": [
       "array([\"['']\", \"['']\", \"['', 'technology', 'payment and checkout']\", ...,\n",
       "       \"['', 'shopping experience']\",\n",
       "       \"['', 'technology', 'payment and checkout']\", \"['']\"], dtype=object)"
      ]
     },
     "execution_count": 48,
     "metadata": {},
     "output_type": "execute_result"
    }
   ],
   "source": [
    "y_pred"
   ]
  },
  {
   "cell_type": "code",
   "execution_count": 54,
   "metadata": {},
   "outputs": [],
   "source": [
    "# create train test sets to predictr the polarity of the comment\n",
    "X_train, X_test, y_train, y_test = train_test_split(df['Comment'], df['polarity'], test_size=0.2, random_state=0)"
   ]
  },
  {
   "cell_type": "code",
   "execution_count": 55,
   "metadata": {},
   "outputs": [
    {
     "name": "stderr",
     "output_type": "stream",
     "text": [
      "c:\\Users\\ASUS\\AppData\\Local\\Programs\\Python\\Python39\\lib\\site-packages\\sklearn\\linear_model\\_logistic.py:444: ConvergenceWarning: lbfgs failed to converge (status=1):\n",
      "STOP: TOTAL NO. of ITERATIONS REACHED LIMIT.\n",
      "\n",
      "Increase the number of iterations (max_iter) or scale the data as shown in:\n",
      "    https://scikit-learn.org/stable/modules/preprocessing.html\n",
      "Please also refer to the documentation for alternative solver options:\n",
      "    https://scikit-learn.org/stable/modules/linear_model.html#logistic-regression\n",
      "  n_iter_i = _check_optimize_result(\n"
     ]
    },
    {
     "name": "stdout",
     "output_type": "stream",
     "text": [
      "accuracy:  0.8967458726977765\n"
     ]
    }
   ],
   "source": [
    "# train the model\n",
    "pipeline.fit(X_train, y_train)\n",
    "\n",
    "# predict the polarity of the comment\n",
    "y_pred = pipeline.predict(X_test)\n",
    "\n",
    "# evaluate the model\n",
    "print('accuracy: ', accuracy_score(y_test, y_pred))"
   ]
  },
  {
   "cell_type": "code",
   "execution_count": 56,
   "metadata": {},
   "outputs": [
    {
     "name": "stdout",
     "output_type": "stream",
     "text": [
      "              precision    recall  f1-score   support\n",
      "\n",
      "    negative       0.86      0.80      0.83     10414\n",
      "     neutral       0.92      0.98      0.95     18801\n",
      "    positive       0.88      0.86      0.87     12701\n",
      "\n",
      "    accuracy                           0.90     41916\n",
      "   macro avg       0.89      0.88      0.88     41916\n",
      "weighted avg       0.90      0.90      0.90     41916\n",
      "\n"
     ]
    }
   ],
   "source": [
    "#print report of the model\n",
    "from sklearn.metrics import classification_report\n",
    "print(classification_report(y_test, y_pred))"
   ]
  },
  {
   "cell_type": "code",
   "execution_count": 57,
   "metadata": {},
   "outputs": [
    {
     "name": "stdout",
     "output_type": "stream",
     "text": [
      "[[ 8317   850  1247]\n",
      " [  203 18363   235]\n",
      " [ 1106   687 10908]]\n"
     ]
    }
   ],
   "source": [
    "# print confusion matrix\n",
    "from sklearn.metrics import confusion_matrix\n",
    "print(confusion_matrix(y_test, y_pred))\n"
   ]
  }
 ],
 "metadata": {
  "kernelspec": {
   "display_name": "Python 3",
   "language": "python",
   "name": "python3"
  },
  "language_info": {
   "codemirror_mode": {
    "name": "ipython",
    "version": 3
   },
   "file_extension": ".py",
   "mimetype": "text/x-python",
   "name": "python",
   "nbconvert_exporter": "python",
   "pygments_lexer": "ipython3",
   "version": "3.9.13"
  },
  "orig_nbformat": 4,
  "vscode": {
   "interpreter": {
    "hash": "14958d3aee5f1cad06795f787e54b96185c25fb40dfec723a5be941f3a531b8c"
   }
  }
 },
 "nbformat": 4,
 "nbformat_minor": 2
}
